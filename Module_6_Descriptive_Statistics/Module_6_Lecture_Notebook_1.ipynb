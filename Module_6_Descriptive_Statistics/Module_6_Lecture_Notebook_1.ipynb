{
 "cells": [
  {
   "cell_type": "markdown",
   "id": "6ecbf6e6",
   "metadata": {},
   "source": [
    "## POLSCI 3 Lecture Notebook 1: Descriptive Statistics\n",
    "\n",
    "In this notebook we will learn new tools for examining the properties of our data. What are the usual values that occur? Which data are outliers? What do the data \"look like\"? We will begin by reading in the electoral data from last lecture."
   ]
  },
  {
   "cell_type": "code",
   "execution_count": null,
   "id": "0d39c2ed",
   "metadata": {},
   "outputs": [],
   "source": [
    "# This stores, or assigns, the dataset as election.data\n",
    "election.data <- read.csv('FairFPSR3.csv')"
   ]
  },
  {
   "cell_type": "markdown",
   "id": "55f05929",
   "metadata": {},
   "source": [
    "Here is the **codebook** that tells you what each variable means.\n",
    "\n",
    "`inc_vote`: % of major party presidential vote won by incumbent party\n",
    "\n",
    "`year`: Year of the presidential election\n",
    "\n",
    "`inflation`: Inflation rate\n",
    "\n",
    "`goodnews`: Number of quarters in the first 15 quarters of admin in which econ growth>3.2%\n",
    "\n",
    "`growth`: % change in real GDP per capita"
   ]
  },
  {
   "cell_type": "markdown",
   "id": "c617b582",
   "metadata": {},
   "source": [
    "Sometimes we just want to look at the values of individual variables (columns) in our data. To determine that we need to refer to individual variables (columns) in the dataset. Recall from last time that we referred to individual variables as `dataSetName$varName`. To list the values of the `inc_vote` variable:"
   ]
  },
  {
   "cell_type": "code",
   "execution_count": null,
   "id": "e469eab5",
   "metadata": {},
   "outputs": [],
   "source": [
    "election.data$inc_vote"
   ]
  },
  {
   "cell_type": "markdown",
   "id": "09b7faf5",
   "metadata": {},
   "source": [
    "Something we often want to know are the average values of the data. The average makes most sense with data like `inc_vote` or `growth` or `inflation`, which are \"continuous variables\" where it makes sense to add and subtract values from one another. \n",
    "\n",
    "For a variable $X$, its mean, $\\overline{X}$, is given by:\n",
    "\n",
    "$$\\overline{X} = \\frac{\\sum_{i=1}^{n}X_i}{n}$$\n",
    "\n",
    "To take the mean (average) in R we use `mean(dataSetName$varName)`:\n"
   ]
  },
  {
   "cell_type": "code",
   "execution_count": null,
   "id": "a37dce4a",
   "metadata": {},
   "outputs": [],
   "source": [
    "# This computes the mean (average) of the inc_vote column of the data\n",
    "mean(election.data$inc_vote)"
   ]
  },
  {
   "cell_type": "markdown",
   "id": "696b0a5e",
   "metadata": {},
   "source": [
    "We can assign the mean to a new variable, mean.inc_vote:"
   ]
  },
  {
   "cell_type": "code",
   "execution_count": null,
   "id": "a189e02d",
   "metadata": {},
   "outputs": [],
   "source": [
    "mean.inc_vote <- mean(election.data$inc_vote)"
   ]
  },
  {
   "cell_type": "markdown",
   "id": "98d623bf",
   "metadata": {},
   "source": [
    "When we have categorical variables with values such as `male` and `female` (variable name `sex`) or `Catholic` and `Protestant` (variable name `religion`) it doesn't make sense to compute an average. Instead we usually want to know the number or proportion of observations in each category. To compute this we need the `table` command: `table(dataSetName$varName)`."
   ]
  },
  {
   "cell_type": "markdown",
   "id": "92d74671",
   "metadata": {},
   "source": [
    "To see how this works we are going to read in a new dataset where the observations are countries. \n",
    "Let's read in those data:"
   ]
  },
  {
   "cell_type": "code",
   "execution_count": null,
   "id": "e38dbb30",
   "metadata": {},
   "outputs": [],
   "source": [
    "happiness_data <- read.csv('happiness_polity_2018.csv')\n",
    "head(happiness_data)"
   ]
  },
  {
   "cell_type": "markdown",
   "id": "a1312378",
   "metadata": {},
   "source": [
    "This dataset contains data from countries around the world in terms of factors such as happiness levels, \n",
    "political categories, and demographic information. Here's a codebook:\n",
    "\n",
    "<code>polity2</code>: The \"Polity Score\" of the country, which measures its political system on a 21-pont scale \n",
    "ranging from -10 (hereditary monarchy) to +10 (consolidated democracy).\n",
    "\n",
    "<code>polity2_cat</code>: The political category the country is identified within. \"autocracies\" are on one end of \n",
    "the spectrum, \"anocracies\" are in the middle (semi-democracies), and \"democracies\" are at the top of the spectrum.\n",
    "\n",
    "<code>gdpcapita</code>: GDP per Capita (economic output per person)\n",
    "\n",
    "<code>gdpcapita_cat</code>: GDP/income category that the country falls into (based on GDP per capita)\n",
    "\n",
    "<code>happiness</code>: The country's happiness index, measured through surveys that require participants to rank \n",
    "their level of happiness based on an assortment of quality-of-life factors\n",
    "\n",
    "<code>happiness_cat</code>: Happiness category that the country falls into (based on happpiness indicator)\n",
    "\n",
    "<code>life_expectancy</code>: Average life expectancy in years\n",
    "\n",
    "<code>life_expectancy_cat</code>: Life Expectancy category that the country falls into\n",
    "\n"
   ]
  },
  {
   "cell_type": "markdown",
   "id": "30fb2385",
   "metadata": {},
   "source": [
    "Suppose we want to see what the most common global income category is. We are going to use the table() function with an argument corresponding to the column we want to interpret.\n",
    "\n",
    "## One-Way Tables"
   ]
  },
  {
   "cell_type": "code",
   "execution_count": null,
   "id": "bc98599d",
   "metadata": {},
   "outputs": [],
   "source": [
    "table(happiness_data$gdpcapita_cat)"
   ]
  },
  {
   "cell_type": "markdown",
   "id": "acb80714",
   "metadata": {},
   "source": [
    "Suppose we want to know how many democracies and dictatorships there are: "
   ]
  },
  {
   "cell_type": "code",
   "execution_count": null,
   "id": "e0d73732",
   "metadata": {},
   "outputs": [],
   "source": [
    "table(happiness_data$polity2_cat)"
   ]
  },
  {
   "cell_type": "markdown",
   "id": "cef7cae6",
   "metadata": {},
   "source": [
    "This example also shows why categorical variables can be useful. It's really not that useful to make a table of all the values of gdpcapita:"
   ]
  },
  {
   "cell_type": "code",
   "execution_count": null,
   "id": "98d9ff43",
   "metadata": {},
   "outputs": [],
   "source": [
    "table(happiness_data$gdpcapita)"
   ]
  },
  {
   "cell_type": "markdown",
   "id": "5bf7e337",
   "metadata": {},
   "source": [
    "Tables are one of the easiest ways to understand categorical variables in a dataset. For example, we learned above that middle-income countries form the majority in the dataset. Another thing we might want to know is what *proportion* of values are in each category. For that we use the `prop.table` command:"
   ]
  },
  {
   "cell_type": "code",
   "execution_count": null,
   "id": "874e5621",
   "metadata": {},
   "outputs": [],
   "source": [
    "prop.table(table(happiness_data$gdpcapita_cat))"
   ]
  },
  {
   "cell_type": "markdown",
   "id": "54ccb5ae",
   "metadata": {},
   "source": [
    "### Two-Way Tables \n",
    "\n",
    "Two-way tables allow us to see how values of one variable correspond with another. For example, instead of just looking at polity, we can look at polity scores among countries of each income level in one table. \n",
    "\n",
    "To do this, we use the same `table()` command, but instead we give it *two* variables, separated by a comma. The first variable is the variable that we want to go along each row, and the second is the variable we want to go along each column.\n",
    "\n",
    "Let's group GDP categories with political categories to see how many countries fit into each of the groupings:"
   ]
  },
  {
   "cell_type": "code",
   "execution_count": null,
   "id": "b3d63020",
   "metadata": {},
   "outputs": [],
   "source": [
    "table(happiness_data$polity2_cat, happiness_data$gdpcapita_cat)"
   ]
  },
  {
   "cell_type": "markdown",
   "id": "0a81e47d",
   "metadata": {},
   "source": [
    "Let's use `prop.table` to get a more intuitive look at the relationship between regime type and income:"
   ]
  },
  {
   "cell_type": "code",
   "execution_count": null,
   "id": "5e5284e6",
   "metadata": {},
   "outputs": [],
   "source": [
    "prop.table(table(happiness_data$polity2_cat, happiness_data$gdpcapita_cat))"
   ]
  },
  {
   "cell_type": "markdown",
   "id": "affccb83",
   "metadata": {},
   "source": [
    "## Review\n",
    "\n",
    "We learned three new R functions today:\n",
    "\n",
    "- `table(dataset$variable)`\n",
    "- `table(dataset$first.variable, dataset$second.variable)`\n",
    "- `prop.table(table(dataset$first.variable, dataset$second.variable))`\n"
   ]
  },
  {
   "cell_type": "markdown",
   "id": "162cdef6",
   "metadata": {},
   "source": [
    "#### Reminder about Peer Consulting Office Hours\n",
    "\n",
    "If you had trouble with any content in this notebook, Data Peer Consultants are here to help! You \n",
    "can view their locations and availabilites at this link: https://data.berkeley.edu/degrees/peer-advising.\n",
    "Peer Consultants are there to answer all data-related questions, whether it be about the content of this notebook,\n",
    "applications of data science in the world or other data science courses offered at Berkeley -- \n",
    "make sure to take advantage of this wonderful resource!"
   ]
  }
 ],
 "metadata": {
  "kernelspec": {
   "display_name": "R",
   "language": "R",
   "name": "ir"
  },
  "language_info": {
   "codemirror_mode": "r",
   "file_extension": ".r",
   "mimetype": "text/x-r-source",
   "name": "R",
   "pygments_lexer": "r",
   "version": "4.3.2"
  }
 },
 "nbformat": 4,
 "nbformat_minor": 5
}
