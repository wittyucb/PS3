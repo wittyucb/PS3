{
 "cells": [
  {
   "cell_type": "markdown",
   "id": "d483a619-ff51-40cb-a421-09fe5cba56f4",
   "metadata": {},
   "source": [
    "## POLSCI 3 \n",
    "\n",
    "## Descriptive Statistics Homework\n"
   ]
  },
  {
   "cell_type": "markdown",
   "id": "beb10623-ecbf-4aab-b2f4-a0473ebbb446",
   "metadata": {},
   "source": [
    "In this homework we will explore how distributions of data impact our ability to draw conclusions about observations. \n",
    "From weighted coins to polling responses, we will determine how much we can take away from our data. "
   ]
  },
  {
   "cell_type": "markdown",
   "id": "19525d23-8cb4-4762-8dbb-e4d83ee6466c",
   "metadata": {},
   "source": [
    "## Generating Distributions - Question 1\n",
    "To start, let's consider a probability distribution of a flip of a coin. Below, we simulate flipping the coin once using the <code>sample</code> function. Note that there are two options for outcomes of a coin flip: a 0 signifying tails or a 1 signifying heads."
   ]
  },
  {
   "cell_type": "code",
   "execution_count": null,
   "id": "4eda99f4-844e-4201-bff4-61776127b436",
   "metadata": {},
   "outputs": [],
   "source": [
    "\n",
    "\n",
    "set.seed(1917) "
   ]
  },
  {
   "cell_type": "code",
   "execution_count": null,
   "id": "1ebb9515-7fcf-4daf-8b9e-7878e606d08b",
   "metadata": {},
   "outputs": [],
   "source": [
    "coin_choices <- c(0, 1)                                    # 0 for tails and 1 for heads\n",
    "coin_flip <- sample(coin_choices, replace = TRUE, size=1)  # Take 1 draw from `coin_choices`\n",
    "coin_flip                            "
   ]
  },
  {
   "cell_type": "markdown",
   "id": "8321521b-b94f-4d98-8a42-f1c947488693",
   "metadata": {},
   "source": [
    "**Question 1a.**\n",
    "In the cell below, reproduce the roll of a die. (Hint: we did this in the lecture notebook.) What happens when you repeatedly run the cell?\n"
   ]
  },
  {
   "cell_type": "markdown",
   "id": "61c7ae32",
   "metadata": {
    "deletable": false,
    "editable": false
   },
   "source": [
    "Hint: die_choices <- c(...)"
   ]
  },
  {
   "cell_type": "code",
   "execution_count": null,
   "id": "a02f3820",
   "metadata": {
    "tags": []
   },
   "outputs": [],
   "source": [
    "die_choices <- NULL # YOUR CODE HERE\n",
    "die_roll <- sample(die_choices, replace = TRUE, size=1) \n"
   ]
  },
  {
   "cell_type": "markdown",
   "id": "e739548d-7801-4a3c-87dd-015cfbeb8522",
   "metadata": {},
   "source": [
    "By running the cell multiple times, you should see different outcomes: sometimes a 1, other times a 2, etc. We can reproduce this by changing a parameter in our previous function call: <code>size</code>. Below, we simulate flipping a coin 30 times. (Note the \"size=30\" in the first line.)"
   ]
  },
  {
   "cell_type": "code",
   "execution_count": null,
   "id": "7ad6273c-955a-481c-a84f-263a2af51ee2",
   "metadata": {},
   "outputs": [],
   "source": [
    "coin_flips <- sample(coin_choices, replace = TRUE, size=30)\n",
    "coin_flips"
   ]
  },
  {
   "cell_type": "markdown",
   "id": "b57cf817-d118-4c23-a72f-d7d6c421c0e1",
   "metadata": {},
   "source": [
    "**Question 1b.**\n",
    "\n",
    "Using the cell above as a guide, reproduce the roll of a die 30 times:\n"
   ]
  },
  {
   "cell_type": "markdown",
   "id": "d9c2df4c",
   "metadata": {
    "deletable": false,
    "editable": false
   },
   "source": [
    "Hint: dice_rolls <- sample(..., replace = TRUE, size=30)"
   ]
  },
  {
   "cell_type": "code",
   "execution_count": null,
   "id": "670298a9-3995-4ad2-a422-181c0d160c41",
   "metadata": {
    "tags": []
   },
   "outputs": [],
   "source": [
    "#your code\n",
    "dice_rolls <- NULL # YOUR CODE HERE\n",
    "dice_rolls"
   ]
  },
  {
   "cell_type": "markdown",
   "id": "a19ae885-1fda-4186-80e1-c8d93e5e97df",
   "metadata": {},
   "source": [
    "To better understand our data, we will want to visualize it. The hist(array) function allows you to produce a histogram of the data. What do you notice about the ratio of heads to tails?"
   ]
  },
  {
   "cell_type": "code",
   "execution_count": null,
   "id": "9e7df962-a1d8-4dc7-8c7a-2e6d2bf8b7c1",
   "metadata": {},
   "outputs": [],
   "source": [
    "hist(coin_flips)"
   ]
  },
  {
   "cell_type": "markdown",
   "id": "8fbf2973-33f1-45e5-96ba-a1bc21cc58a9",
   "metadata": {},
   "source": [
    "**Question 1c.**\n",
    "\n",
    "In the cell below, reproduce the histogram above with dice rolls. In the the code set the parameter plot to FALSE:\n",
    "\n"
   ]
  },
  {
   "cell_type": "markdown",
   "id": "8344d20a",
   "metadata": {
    "deletable": false,
    "editable": false
   },
   "source": [
    "Hint: plot1c<-hist(...,plot=FALSE) \n"
   ]
  },
  {
   "cell_type": "code",
   "execution_count": null,
   "id": "b439ef7d-33d6-48a6-ab9f-fe740802f65b",
   "metadata": {
    "tags": []
   },
   "outputs": [],
   "source": [
    "plot1c <- NULL # YOUR CODE HERE"
   ]
  },
  {
   "cell_type": "markdown",
   "id": "ff9123d1-9127-42c7-acc3-bf0c523aba43",
   "metadata": {},
   "source": [
    "## Producing a Sampling Distribution - Question 2\n",
    "We just produced one sample. To be able to draw conclusions about what we observe in the sample, we need to create a *sampling distribution*. By repeatedly generating samples from the same underlying population, we can create a distribution of different statistics of the population. Statisticians traditionally use the mean as the statistic of interest (it has useful mathematical properties outside of the scope of this homework). Let's explore how to produce a sampling distribution."
   ]
  },
  {
   "cell_type": "markdown",
   "id": "b0174530-74d4-49ad-9071-40f4e620170d",
   "metadata": {},
   "source": [
    "To begin, we need to repeatedly generate samples. That is, we need to repeat the process of flipping 30 coins some large number (say 10000) times. YOU DO NOT NEED TO KNOW THE CODE FOR THIS, WHICH IS BELOW."
   ]
  },
  {
   "cell_type": "code",
   "execution_count": null,
   "id": "c91581e6-3f9e-4e88-b821-96f5d71189e8",
   "metadata": {},
   "outputs": [],
   "source": [
    "sample_coin_means <- c()\n",
    "for (i in 1:10000){#Process to repeat 10,000 times\n",
    "    sample_coin_flips <- sample(coin_choices, replace = TRUE, size=30) #Draw one sample of 30 coin flips\n",
    "    sample_flips_average <- mean(sample_coin_flips) #Take the average of the coin flips\n",
    "    sample_coin_means <- append(sample_coin_means, sample_flips_average) #Add average to a list\n",
    "    \n",
    "}\n",
    "head(sample_coin_means)"
   ]
  },
  {
   "cell_type": "markdown",
   "id": "924225af-e7de-4af1-9afc-b164bd3fe11c",
   "metadata": {},
   "source": [
    "Below, are the above steps, but with dice rolls rather than coin flips."
   ]
  },
  {
   "cell_type": "code",
   "execution_count": null,
   "id": "cdb6231e-a904-43f6-b2dc-5d4fba026f4d",
   "metadata": {},
   "outputs": [],
   "source": [
    "sample_die_means <- c()\n",
    "for (i in 1:10000){#Process to repeat 10,000 times\n",
    "    sample_die_rolls <- sample(dice_rolls, replace = TRUE, size=30) ##Draw one sample of 30 die rolls\n",
    "    sample_die_average <- mean(sample_die_rolls) #Take the average of the die rolls\n",
    "    sample_die_means <- append(sample_die_means, sample_die_average) #Add average to a list\n",
    "    \n",
    "} \n",
    "head(sample_die_means)"
   ]
  },
  {
   "cell_type": "markdown",
   "id": "fd00e65d",
   "metadata": {},
   "source": [
    "Now that we have our distributions, we can plot them using the <code>plt.hist()</code> function from above. Below, a histogram of the coin means:"
   ]
  },
  {
   "cell_type": "code",
   "execution_count": null,
   "id": "7e6532f1",
   "metadata": {},
   "outputs": [],
   "source": [
    "hist(sample_coin_means)"
   ]
  },
  {
   "cell_type": "markdown",
   "id": "076e574a-3895-401d-8958-dbff929e490d",
   "metadata": {},
   "source": [
    "**Question 2a.**\n",
    "\n",
    "In the cell below, reproduce the histogram above with dice rolls:\n",
    "\n"
   ]
  },
  {
   "cell_type": "markdown",
   "id": "f5c479f1",
   "metadata": {
    "deletable": false,
    "editable": false
   },
   "source": [
    "Hint: plot2a= hist(..., plot =FALSE)"
   ]
  },
  {
   "cell_type": "code",
   "execution_count": null,
   "id": "c1040c3a-d55f-46fc-a934-5814401cd190",
   "metadata": {
    "tags": []
   },
   "outputs": [],
   "source": [
    "#your code\n",
    "plot2a= NULL # YOUR CODE HERE\n"
   ]
  },
  {
   "cell_type": "markdown",
   "id": "a4eefebe",
   "metadata": {},
   "source": [
    "### Question 2b:\n",
    "What do you notice about the distribution of the sample means? \n",
    "<!--\n",
    "BEGIN QUESTION\n",
    "name: q2b\n",
    "manual: true\n",
    "points: 1\n",
    "-->"
   ]
  },
  {
   "cell_type": "markdown",
   "id": "2505cbe0",
   "metadata": {},
   "source": [
    "_Type your answer here, replacing this text._"
   ]
  },
  {
   "cell_type": "markdown",
   "id": "01f53f62-bf08-4ae2-962a-6217aa3eaf8b",
   "metadata": {},
   "source": [
    "## Sampling Distribution Universality - Question 3\n",
    "Regardless of the underlying frequency distribution, we can generate a sampling distribution that holds the same properties as any other sampling distribution. To begin, let's look at several distributions (you don't need to know how the distribution is generated, just observe the shape of the distribution and the sampling distribution that it produces). The code will produce a distribution using a function you may not be familiar with, but that ist the point: even if we don't understand how our underlying frequency distribution is generated, we can still follow the same principles. "
   ]
  },
  {
   "cell_type": "markdown",
   "id": "63702123",
   "metadata": {},
   "source": [
    "Now here are some questions to test your understanding:"
   ]
  },
  {
   "cell_type": "markdown",
   "id": "855678de-359b-4b09-a32c-b1fe49d34671",
   "metadata": {},
   "source": [
    "**Question 3a.**\n",
    "Decreasing the sample size, while holding the confidence level the same, will\n",
    "do what to the length of your confidence interval?\n",
    "\n",
    "a) Make it bigger  \n",
    "b) Make it smaller  \n",
    "c) It will stay the same  \n",
    "d) Cannot be determined from the given information\n",
    "\n",
    "Replace the NULL below with \"a\", \"b\", \"c\", or \"d\", with quotes around the letter.\n"
   ]
  },
  {
   "cell_type": "code",
   "execution_count": null,
   "id": "33cec563-5380-4c8e-8619-2d603b67ab18",
   "metadata": {
    "tags": []
   },
   "outputs": [],
   "source": [
    "#your code\n",
    "q3a.answer <- NULL # YOUR CODE HERE\n",
    "\n"
   ]
  },
  {
   "cell_type": "markdown",
   "id": "b8961747-35cb-4d44-b72c-2f4697c27e05",
   "metadata": {},
   "source": [
    "**Question 3b.**\n",
    "Decreasing the confidence level, while holding the sample size the same, will\n",
    "do what to the length of your confidence interval?  \n",
    "\n",
    "a) Make it bigger  \n",
    "b) Make it smaller  \n",
    "c) It will stay the same  \n",
    "d) Cannot be determined from the given information\n",
    "\n",
    "Replace the NULL below with \"a\", \"b\", \"c\", or \"d\", with quotes around the letter.\n",
    "\n"
   ]
  },
  {
   "cell_type": "code",
   "execution_count": null,
   "id": "7d8496bf-11f1-4cdf-80be-de35196d3a55",
   "metadata": {
    "tags": []
   },
   "outputs": [],
   "source": [
    "#your code\n",
    "\n",
    "q3b.answer <- NULL # YOUR CODE HERE\n",
    "\n"
   ]
  },
  {
   "cell_type": "markdown",
   "id": "76ade908-4b5c-4248-97cd-c882b1684b32",
   "metadata": {},
   "source": [
    "**Question 3c.**\n",
    "A 95% confidence interval for the mean number of televisions per American household\n",
    "is (Lower limit: 1.15, Upper limit 4.20). For each of the following statements about the\n",
    "above confidence interval, decide whether the statements are True or False.  \n",
    "1) We are 95% confident that the true mean number of televisions per American household is between 1.15 and 4.20.  \n",
    "2) 95% of all American households have between 1.15 and 4.20 televisions.  \n",
    "3) Of 100 intervals calculated the same way (95%), we expect 95 of them to capture the population mean.  \n",
    "4) Of 100 intervals calculated the same way (95%), we expect 100 of them to capture the sample mean.\n",
    "\n",
    "Replace the NULL below with either `TRUE` or `FALSE` (without quotes and capitalized). The example of the output: c(FALSE,FALSE,FALSE,FALSE) \n",
    "\n",
    "\n"
   ]
  },
  {
   "cell_type": "code",
   "execution_count": null,
   "id": "ab94f868-b042-46b2-96ac-7e397c34ee4f",
   "metadata": {
    "tags": []
   },
   "outputs": [],
   "source": [
    "#your code\n",
    "q3c1.answer <- NULL # YOUR CODE HERE\n",
    "\n"
   ]
  },
  {
   "cell_type": "markdown",
   "id": "8e320493-0020-4039-9f58-8deed703a548",
   "metadata": {},
   "source": [
    "For the following questions, we will be using the scenario below:  \n",
    "*Researchers are concerned about the impact of students working while they are enrolled in classes, and they’d like to know if students work too much and therefore are spending less time on their classes than they should be. First, the researchers need to find out, on average, how many hours a week students are working. They know from previous studies that the standard deviation of this variable is about 5 hours.*"
   ]
  },
  {
   "cell_type": "markdown",
   "id": "870f75a4-1955-4ed4-b612-a549aecf5d08",
   "metadata": {},
   "source": [
    "**Question q3d.**\n",
    "A survey of 225 students provides a sample mean of 7.10 hours worked. What is a 95% confidence interval based on this sample?"
   ]
  },
  {
   "cell_type": "code",
   "execution_count": null,
   "id": "6d1dc615-de58-455d-80db-35d5ae6f2c3b",
   "metadata": {
    "tags": []
   },
   "outputs": [],
   "source": [
    "# your code\n",
    "lower_bound <- 7.10-(1.96*5)/225^0.5 \n",
    "upper_bound <- NULL # YOUR CODE HERE\n",
    "c(lower_bound, upper_bound)"
   ]
  },
  {
   "cell_type": "markdown",
   "id": "f4cf559e-f258-4829-bcc9-190a43bfb4ef",
   "metadata": {},
   "source": [
    "### Question 3e:\n",
    "Suppose that this confidence interval was (6.82, 7.38). Which of these is a\n",
    "valid interpretation of this confidence interval?  \n",
    "a) There is a 95% probability that a randomly selected student worked between 6.82 and 7.38 hours.  \n",
    "b) We are 95% confident that the average number of hours worked by students in our sample is between 6.82 and 7.38 hours.  \n",
    "c) We are 95% confident that the interval between 6.82 and 7.38 hours contains the average number of hours worked by all students. \n",
    "\n",
    "Replace the NULL below with \"a\", \"b\", \"c\",, with quotes around the letter.\n",
    "\n",
    "\n"
   ]
  },
  {
   "cell_type": "code",
   "execution_count": null,
   "id": "f0b5ac51-25c9-4460-bc02-21bef7567ab3",
   "metadata": {
    "tags": []
   },
   "outputs": [],
   "source": [
    "## YOUR ANSWER HERE\n",
    "\n",
    "q3e.answer <- NULL # YOUR CODE HERE\n",
    "\n"
   ]
  },
  {
   "cell_type": "markdown",
   "id": "1089fc9e-e93a-4ee1-ad58-55a8d0dbb1b6",
   "metadata": {},
   "source": [
    "### Question 3f:\n",
    "We have 95% confidence in our interval instead of 100% confidence because we need to account for the fact that:\n",
    "a) The sample may not be truly random.  \n",
    "b) We have a sample, and not the whole population.  \n",
    "c) The distribution of hours worked may be skewed.  \n",
    "d) All of the above\n",
    "\n",
    "Replace the NULL below with \"a\", \"b\", \"c\", or \"d\", with quotes around the letter.\n",
    "\n"
   ]
  },
  {
   "cell_type": "code",
   "execution_count": null,
   "id": "ac8c4e6d-aaf4-4dfa-87cc-d6460520b23e",
   "metadata": {
    "tags": []
   },
   "outputs": [],
   "source": [
    "#your code\n",
    "q3f.answer <- NULL # YOUR CODE HERE\n",
    "\n"
   ]
  },
  {
   "cell_type": "markdown",
   "id": "fc417853-3d8a-43cb-ab4e-6bb772ea81d6",
   "metadata": {},
   "source": [
    "### Question 3g:\n",
    "The researchers are not satisfied with their confidence interval and want to do another study to find a shorter confidence interval. Which of the following best describes what they should do?  \n",
    "a) They should increase their confidence level and increase their sample size.  \n",
    "b) They should increase their confidence level or decrease their sample size.  \n",
    "c) They should decrease their confidence level or increase their sample size.  \n",
    "d) They should decrease their confidence level and decrease their sample size. \n",
    "\n",
    "Replace the NULL below with \"a\", \"b\", \"c\", or \"d\", with quotes around the letter.\n",
    "\n",
    "\n"
   ]
  },
  {
   "cell_type": "code",
   "execution_count": null,
   "id": "6cb668ce-d566-43a0-b692-f2bd58a8bccf",
   "metadata": {
    "tags": []
   },
   "outputs": [],
   "source": [
    "\n",
    "\n",
    "#your code\n",
    "q3g.answer <- NULL # YOUR CODE HERE\n",
    "\n"
   ]
  },
  {
   "cell_type": "markdown",
   "id": "6ecf6350",
   "metadata": {},
   "source": [
    "## Saving Your Notebook\n",
    "\n",
    "Congratulations! You have now finished your first coding assignment. Well done!\n",
    "\n",
    "Before you head off to celebrate your work, you need to submit it before the deadline.\n",
    "\n",
    "To save the notebook, click <code>File</code> $\\rightarrow$ <code>Save Notebook </code> \n",
    "\n",
    "To download the notebook, click <code>File</code> $\\rightarrow$ <code>Download as</code> $\\rightarrow$ <code>Notebook(.ipynb)</code>\n",
    "\n",
    "Next, follow the instructions below under SUBMISSION to generate the zipfile that you will submit on Gradescope: \n",
    "\n",
    "https://www.gradescope.com/courses/820798\n",
    "\n",
    "\n"
   ]
  },
  {
   "cell_type": "markdown",
   "id": "f142807a",
   "metadata": {
    "deletable": false,
    "editable": false
   },
   "source": [
    "## Submission\n",
    "\n",
    "Make sure you have run all cells in your notebook in order before running the cell below, so that all images/graphs appear in the output. The cell below will generate a zip file for you to submit. **Please save before exporting!**"
   ]
  },
  {
   "cell_type": "code",
   "execution_count": null,
   "id": "5e060201",
   "metadata": {
    "deletable": false,
    "editable": false
   },
   "outputs": [],
   "source": [
    "# Save your notebook first, then run this cell to export your submission.\n",
    "ottr::export(\"Module_10_Homework.ipynb\", pdf = TRUE)"
   ]
  },
  {
   "cell_type": "markdown",
   "id": "0d376475",
   "metadata": {},
   "source": [
    " "
   ]
  }
 ],
 "metadata": {
  "kernelspec": {
   "display_name": "R",
   "language": "R",
   "name": "ir"
  },
  "language_info": {
   "codemirror_mode": "r",
   "file_extension": ".r",
   "mimetype": "text/x-r-source",
   "name": "R",
   "pygments_lexer": "r",
   "version": "4.4.0"
  }
 },
 "nbformat": 4,
 "nbformat_minor": 5
}
