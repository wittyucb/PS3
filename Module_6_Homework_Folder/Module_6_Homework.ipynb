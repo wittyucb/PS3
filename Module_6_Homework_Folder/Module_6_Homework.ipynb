{
 "cells": [
  {
   "cell_type": "markdown",
   "id": "1764e4a8",
   "metadata": {},
   "source": [
    "## POLSCI 3 \n",
    "\n",
    "## Descriptive Statistics Homework\n"
   ]
  },
  {
   "cell_type": "markdown",
   "id": "fb22df21",
   "metadata": {},
   "source": [
    "In this homework we will explore how distributions of data impact our ability to draw conclusions about observations. From weighted coins to polling responses, we will determine how much we can take away from our data. "
   ]
  },
  {
   "cell_type": "markdown",
   "id": "a01215db",
   "metadata": {},
   "source": [
    "## Generating Distributions - Question 1\n",
    "To start, let's consider a probability distribution of a flip of a coin. Below, we simulate flipping the coin once using the <code>sample</code> function. Note that there are two options for outcomes of a coin flip: a 0 signifying tails or a 1 signifying heads."
   ]
  },
  {
   "cell_type": "code",
   "execution_count": 1,
   "id": "53a60e4e",
   "metadata": {},
   "outputs": [
    {
     "data": {
      "text/html": [
       "1"
      ],
      "text/latex": [
       "1"
      ],
      "text/markdown": [
       "1"
      ],
      "text/plain": [
       "[1] 1"
      ]
     },
     "metadata": {},
     "output_type": "display_data"
    }
   ],
   "source": [
    "coin_choices <- c(0, 1)                                    # 0 for tails and 1 for heads\n",
    "coin_flip <- sample(coin_choices, replace = TRUE, size=1)  # Take 1 draw from `coin_choices`\n",
    "coin_flip                                                 # Display the results of the flips"
   ]
  },
  {
   "cell_type": "markdown",
   "id": "bb70a242",
   "metadata": {
    "deletable": false,
    "editable": false
   },
   "source": [
    "### Question 1a:\n",
    "In the cell below, reproduce the roll of a die. (Hint: we did this in the lecture notebook.) What happens when you repeatedly run the cell?\n",
    "\n",
    "<!--\n",
    "BEGIN QUESTION\n",
    "name: q1a\n",
    "manual: false\n",
    "points: 2\n",
    "\n",
    "-->"
   ]
  },
  {
   "cell_type": "code",
   "execution_count": 3,
   "id": "e4b563d5",
   "metadata": {},
   "outputs": [
    {
     "data": {
      "text/html": [
       "<style>\n",
       ".list-inline {list-style: none; margin:0; padding: 0}\n",
       ".list-inline>li {display: inline-block}\n",
       ".list-inline>li:not(:last-child)::after {content: \"\\00b7\"; padding: 0 .5ex}\n",
       "</style>\n",
       "<ol class=list-inline><li>6</li><li>5</li><li>2</li><li>6</li><li>3</li><li>1</li></ol>\n"
      ],
      "text/latex": [
       "\\begin{enumerate*}\n",
       "\\item 6\n",
       "\\item 5\n",
       "\\item 2\n",
       "\\item 6\n",
       "\\item 3\n",
       "\\item 1\n",
       "\\end{enumerate*}\n"
      ],
      "text/markdown": [
       "1. 6\n",
       "2. 5\n",
       "3. 2\n",
       "4. 6\n",
       "5. 3\n",
       "6. 1\n",
       "\n",
       "\n"
      ],
      "text/plain": [
       "[1] 6 5 2 6 3 1"
      ]
     },
     "metadata": {},
     "output_type": "display_data"
    }
   ],
   "source": [
    "#Your Answer Here\n",
    "die_choices <- c(1,2,3,4,5,6)\n",
    "die_roll <- sample(die_choices, replace = TRUE, size=6)\n",
    "die_roll"
   ]
  },
  {
   "cell_type": "code",
   "execution_count": null,
   "id": "7619322f",
   "metadata": {
    "deletable": false,
    "editable": false
   },
   "outputs": [],
   "source": [
    ". = ottr::check(\"tests/q1a.R\")"
   ]
  },
  {
   "cell_type": "markdown",
   "id": "f74a7b23",
   "metadata": {},
   "source": [
    "By running the cell multiple times, you should see different outcomes: sometimes a 1, other times a 2, etc. We can reproduce this by changing a parameter in our previous function call: <code>size</code>. Below, we simulate flipping a coin 30 times. (Note the \"size=30\" in the first line.)"
   ]
  },
  {
   "cell_type": "code",
   "execution_count": 4,
   "id": "87c9877d",
   "metadata": {},
   "outputs": [
    {
     "data": {
      "text/html": [
       "<style>\n",
       ".list-inline {list-style: none; margin:0; padding: 0}\n",
       ".list-inline>li {display: inline-block}\n",
       ".list-inline>li:not(:last-child)::after {content: \"\\00b7\"; padding: 0 .5ex}\n",
       "</style>\n",
       "<ol class=list-inline><li>0</li><li>1</li><li>0</li><li>1</li><li>0</li><li>1</li><li>1</li><li>0</li><li>1</li><li>0</li><li>0</li><li>1</li><li>1</li><li>1</li><li>0</li><li>1</li><li>0</li><li>1</li><li>0</li><li>0</li><li>0</li><li>1</li><li>0</li><li>0</li><li>1</li><li>0</li><li>1</li><li>1</li><li>0</li><li>1</li></ol>\n"
      ],
      "text/latex": [
       "\\begin{enumerate*}\n",
       "\\item 0\n",
       "\\item 1\n",
       "\\item 0\n",
       "\\item 1\n",
       "\\item 0\n",
       "\\item 1\n",
       "\\item 1\n",
       "\\item 0\n",
       "\\item 1\n",
       "\\item 0\n",
       "\\item 0\n",
       "\\item 1\n",
       "\\item 1\n",
       "\\item 1\n",
       "\\item 0\n",
       "\\item 1\n",
       "\\item 0\n",
       "\\item 1\n",
       "\\item 0\n",
       "\\item 0\n",
       "\\item 0\n",
       "\\item 1\n",
       "\\item 0\n",
       "\\item 0\n",
       "\\item 1\n",
       "\\item 0\n",
       "\\item 1\n",
       "\\item 1\n",
       "\\item 0\n",
       "\\item 1\n",
       "\\end{enumerate*}\n"
      ],
      "text/markdown": [
       "1. 0\n",
       "2. 1\n",
       "3. 0\n",
       "4. 1\n",
       "5. 0\n",
       "6. 1\n",
       "7. 1\n",
       "8. 0\n",
       "9. 1\n",
       "10. 0\n",
       "11. 0\n",
       "12. 1\n",
       "13. 1\n",
       "14. 1\n",
       "15. 0\n",
       "16. 1\n",
       "17. 0\n",
       "18. 1\n",
       "19. 0\n",
       "20. 0\n",
       "21. 0\n",
       "22. 1\n",
       "23. 0\n",
       "24. 0\n",
       "25. 1\n",
       "26. 0\n",
       "27. 1\n",
       "28. 1\n",
       "29. 0\n",
       "30. 1\n",
       "\n",
       "\n"
      ],
      "text/plain": [
       " [1] 0 1 0 1 0 1 1 0 1 0 0 1 1 1 0 1 0 1 0 0 0 1 0 0 1 0 1 1 0 1"
      ]
     },
     "metadata": {},
     "output_type": "display_data"
    }
   ],
   "source": [
    "coin_flips <- sample(coin_choices, replace = TRUE, size=30)\n",
    "coin_flips"
   ]
  },
  {
   "cell_type": "markdown",
   "id": "31b49b9d",
   "metadata": {
    "deletable": false,
    "editable": false
   },
   "source": [
    "### Question 1b:\n",
    "Using the cell above as a guide, reproduce the roll of a die 30 times:\n",
    "\n",
    "<!--\n",
    "BEGIN QUESTION\n",
    "name: q1b\n",
    "manual: false\n",
    "points: 1\n",
    "-->"
   ]
  },
  {
   "cell_type": "code",
   "execution_count": 5,
   "id": "6390a928",
   "metadata": {},
   "outputs": [
    {
     "data": {
      "text/html": [
       "<style>\n",
       ".list-inline {list-style: none; margin:0; padding: 0}\n",
       ".list-inline>li {display: inline-block}\n",
       ".list-inline>li:not(:last-child)::after {content: \"\\00b7\"; padding: 0 .5ex}\n",
       "</style>\n",
       "<ol class=list-inline><li>2</li><li>3</li><li>6</li><li>5</li><li>5</li><li>1</li><li>5</li><li>6</li><li>3</li><li>6</li><li>2</li><li>5</li><li>2</li><li>3</li><li>2</li><li>6</li><li>6</li><li>6</li><li>6</li><li>2</li><li>2</li><li>1</li><li>5</li><li>3</li><li>6</li><li>2</li><li>6</li><li>6</li><li>2</li><li>6</li></ol>\n"
      ],
      "text/latex": [
       "\\begin{enumerate*}\n",
       "\\item 2\n",
       "\\item 3\n",
       "\\item 6\n",
       "\\item 5\n",
       "\\item 5\n",
       "\\item 1\n",
       "\\item 5\n",
       "\\item 6\n",
       "\\item 3\n",
       "\\item 6\n",
       "\\item 2\n",
       "\\item 5\n",
       "\\item 2\n",
       "\\item 3\n",
       "\\item 2\n",
       "\\item 6\n",
       "\\item 6\n",
       "\\item 6\n",
       "\\item 6\n",
       "\\item 2\n",
       "\\item 2\n",
       "\\item 1\n",
       "\\item 5\n",
       "\\item 3\n",
       "\\item 6\n",
       "\\item 2\n",
       "\\item 6\n",
       "\\item 6\n",
       "\\item 2\n",
       "\\item 6\n",
       "\\end{enumerate*}\n"
      ],
      "text/markdown": [
       "1. 2\n",
       "2. 3\n",
       "3. 6\n",
       "4. 5\n",
       "5. 5\n",
       "6. 1\n",
       "7. 5\n",
       "8. 6\n",
       "9. 3\n",
       "10. 6\n",
       "11. 2\n",
       "12. 5\n",
       "13. 2\n",
       "14. 3\n",
       "15. 2\n",
       "16. 6\n",
       "17. 6\n",
       "18. 6\n",
       "19. 6\n",
       "20. 2\n",
       "21. 2\n",
       "22. 1\n",
       "23. 5\n",
       "24. 3\n",
       "25. 6\n",
       "26. 2\n",
       "27. 6\n",
       "28. 6\n",
       "29. 2\n",
       "30. 6\n",
       "\n",
       "\n"
      ],
      "text/plain": [
       " [1] 2 3 6 5 5 1 5 6 3 6 2 5 2 3 2 6 6 6 6 2 2 1 5 3 6 2 6 6 2 6"
      ]
     },
     "metadata": {},
     "output_type": "display_data"
    }
   ],
   "source": [
    "## Your Answer Here\n",
    "dice_rolls <- sample(die_roll, replace = TRUE, size=30)\n",
    "dice_rolls"
   ]
  },
  {
   "cell_type": "code",
   "execution_count": null,
   "id": "a4fd9d15",
   "metadata": {
    "deletable": false,
    "editable": false
   },
   "outputs": [],
   "source": [
    ". = ottr::check(\"tests/q1b.R\")"
   ]
  },
  {
   "cell_type": "markdown",
   "id": "95b6fc71",
   "metadata": {},
   "source": [
    "To better understand our data, we will want to visualize it. The <code>hist(array)</code> function allows you to produce a histogram of the data. What do you notice about the ratio of heads to tails?"
   ]
  },
  {
   "cell_type": "code",
   "execution_count": 6,
   "id": "ec0f3c47",
   "metadata": {},
   "outputs": [
    {
     "data": {
      "image/png": "[encoded data removed]",
      "text/plain": [
       "Plot with title “Histogram of coin_flips”"
      ]
     },
     "metadata": {
      "image/png": {
       "height": 420,
       "width": 420
      }
     },
     "output_type": "display_data"
    }
   ],
   "source": [
    "hist(coin_flips)"
   ]
  },
  {
   "cell_type": "markdown",
   "id": "501dc7f6",
   "metadata": {
    "deletable": false,
    "editable": false
   },
   "source": [
    "<!-- BEGIN QUESTION -->\n",
    "\n",
    "### Question 1c:\n",
    "In the cell below, reproduce the histogram above with dice rolls:\n",
    "\n",
    "<!--\n",
    "BEGIN QUESTION\n",
    "name: q1c\n",
    "manual: true\n",
    "points: 1\n",
    "-->"
   ]
  },
  {
   "cell_type": "code",
   "execution_count": 8,
   "id": "1d8ff7ff",
   "metadata": {},
   "outputs": [
    {
     "data": {
      "text/plain": [
       "$breaks\n",
       "[1] 1 2 3 4 5 6\n",
       "\n",
       "$counts\n",
       "[1] 10  4  0  5 11\n",
       "\n",
       "$density\n",
       "[1] 0.3333333 0.1333333 0.0000000 0.1666667 0.3666667\n",
       "\n",
       "$mids\n",
       "[1] 1.5 2.5 3.5 4.5 5.5\n",
       "\n",
       "$xname\n",
       "[1] \"dice_rolls\"\n",
       "\n",
       "$equidist\n",
       "[1] TRUE\n",
       "\n",
       "attr(,\"class\")\n",
       "[1] \"histogram\""
      ]
     },
     "metadata": {},
     "output_type": "display_data"
    },
    {
     "data": {
      "image/png": "[encoded data removed]",
      "text/plain": [
       "Plot with title “Histogram of dice_rolls”"
      ]
     },
     "metadata": {
      "image/png": {
       "height": 420,
       "width": 420
      }
     },
     "output_type": "display_data"
    }
   ],
   "source": [
    "## Your Code Here:\n",
    "die_roll_hist <- hist(dice_rolls)\n",
    "die_roll_hist"
   ]
  },
  {
   "cell_type": "markdown",
   "id": "3c950396",
   "metadata": {},
   "source": [
    "<!-- END QUESTION -->\n",
    "\n",
    "\n",
    "\n",
    "## Producing a Sampling Distribution - Question 2\n",
    "We just produced one sample. To be able to draw conclusions about what we observe in the sample, we need to create a *sampling distribution*. By repeatedly generating samples from the same underlying population, we can create a distribution of different statistics of the population. Statisticians traditionally use the mean as the statistic of interest (it has useful mathematical properties outside of the scope of this homework). Let's explore how to produce a sampling distribution."
   ]
  },
  {
   "cell_type": "markdown",
   "id": "8457f41f",
   "metadata": {},
   "source": [
    "To begin, we need to repeatedly generate samples. That is, we need to repeat the process of flipping 30 coins some large number (say 10000) times. YOU DO NOT NEED TO KNOW THE CODE FOR THIS, WHICH IS BELOW."
   ]
  },
  {
   "cell_type": "code",
   "execution_count": 9,
   "id": "e0a0bd5d",
   "metadata": {},
   "outputs": [
    {
     "data": {
      "text/html": [
       "<style>\n",
       ".list-inline {list-style: none; margin:0; padding: 0}\n",
       ".list-inline>li {display: inline-block}\n",
       ".list-inline>li:not(:last-child)::after {content: \"\\00b7\"; padding: 0 .5ex}\n",
       "</style>\n",
       "<ol class=list-inline><li>0.466666666666667</li><li>0.6</li><li>0.633333333333333</li><li>0.566666666666667</li><li>0.5</li><li>0.466666666666667</li></ol>\n"
      ],
      "text/latex": [
       "\\begin{enumerate*}\n",
       "\\item 0.466666666666667\n",
       "\\item 0.6\n",
       "\\item 0.633333333333333\n",
       "\\item 0.566666666666667\n",
       "\\item 0.5\n",
       "\\item 0.466666666666667\n",
       "\\end{enumerate*}\n"
      ],
      "text/markdown": [
       "1. 0.466666666666667\n",
       "2. 0.6\n",
       "3. 0.633333333333333\n",
       "4. 0.566666666666667\n",
       "5. 0.5\n",
       "6. 0.466666666666667\n",
       "\n",
       "\n"
      ],
      "text/plain": [
       "[1] 0.4666667 0.6000000 0.6333333 0.5666667 0.5000000 0.4666667"
      ]
     },
     "metadata": {},
     "output_type": "display_data"
    }
   ],
   "source": [
    "sample_coin_means <- c()\n",
    "for (i in 1:10000){#Process to repeat 10,000 times\n",
    "    sample_coin_flips <- sample(coin_choices, replace = TRUE, size=30) #Draw one sample of 30 coin flips\n",
    "    sample_flips_average <- mean(sample_coin_flips) #Take the average of the coin flips\n",
    "    sample_coin_means <- append(sample_coin_means, sample_flips_average) #Add average to a list\n",
    "    \n",
    "}\n",
    "head(sample_coin_means)"
   ]
  },
  {
   "cell_type": "markdown",
   "id": "b167c166",
   "metadata": {},
   "source": [
    "Below, are the above steps, but with dice rolls rather than coin flips."
   ]
  },
  {
   "cell_type": "code",
   "execution_count": 10,
   "id": "e75d28e6",
   "metadata": {},
   "outputs": [
    {
     "data": {
      "text/html": [
       "<style>\n",
       ".list-inline {list-style: none; margin:0; padding: 0}\n",
       ".list-inline>li {display: inline-block}\n",
       ".list-inline>li:not(:last-child)::after {content: \"\\00b7\"; padding: 0 .5ex}\n",
       "</style>\n",
       "<ol class=list-inline><li>4.4</li><li>3.86666666666667</li><li>3.9</li><li>3.7</li><li>4.03333333333333</li><li>3.93333333333333</li></ol>\n"
      ],
      "text/latex": [
       "\\begin{enumerate*}\n",
       "\\item 4.4\n",
       "\\item 3.86666666666667\n",
       "\\item 3.9\n",
       "\\item 3.7\n",
       "\\item 4.03333333333333\n",
       "\\item 3.93333333333333\n",
       "\\end{enumerate*}\n"
      ],
      "text/markdown": [
       "1. 4.4\n",
       "2. 3.86666666666667\n",
       "3. 3.9\n",
       "4. 3.7\n",
       "5. 4.03333333333333\n",
       "6. 3.93333333333333\n",
       "\n",
       "\n"
      ],
      "text/plain": [
       "[1] 4.400000 3.866667 3.900000 3.700000 4.033333 3.933333"
      ]
     },
     "metadata": {},
     "output_type": "display_data"
    }
   ],
   "source": [
    "sample_die_means <- c()\n",
    "for (i in 1:10000){#Process to repeat 10,000 times\n",
    "    sample_die_rolls <- sample(dice_rolls, replace = TRUE, size=30) ##Draw one sample of 30 die rolls\n",
    "    sample_die_average <- mean(sample_die_rolls) #Take the average of the die rolls\n",
    "    sample_die_means <- append(sample_die_means, sample_die_average) #Add average to a list\n",
    "    \n",
    "} \n",
    "head(sample_die_means)"
   ]
  },
  {
   "cell_type": "markdown",
   "id": "8d0abb9d",
   "metadata": {},
   "source": [
    "Now that we have our distributions, we can plot them using the <code>hist(array)</code> function from above. Below, a histogram of the coin means:"
   ]
  },
  {
   "cell_type": "code",
   "execution_count": 11,
   "id": "4ef5daef",
   "metadata": {},
   "outputs": [
    {
     "data": {
      "image/png": "[encoded data removed]",
      "text/plain": [
       "Plot with title “Histogram of sample_coin_means”"
      ]
     },
     "metadata": {
      "image/png": {
       "height": 420,
       "width": 420
      }
     },
     "output_type": "display_data"
    }
   ],
   "source": [
    "hist(sample_coin_means)"
   ]
  },
  {
   "cell_type": "markdown",
   "id": "59d35bf3",
   "metadata": {
    "deletable": false,
    "editable": false
   },
   "source": [
    "<!-- BEGIN QUESTION -->\n",
    "\n",
    "### Question 2a:\n",
    "Using the cell above as a guide, plot a histogram of the sample means for the dice.\n",
    "\n",
    "<!--\n",
    "BEGIN QUESTION\n",
    "name: q2a\n",
    "manual: true\n",
    "points: 1\n",
    "-->"
   ]
  },
  {
   "cell_type": "code",
   "execution_count": 12,
   "id": "e30d7445",
   "metadata": {},
   "outputs": [
    {
     "data": {
      "image/png": "[encoded data removed]",
      "text/plain": [
       "Plot with title “Histogram of sample_die_means”"
      ]
     },
     "metadata": {
      "image/png": {
       "height": 420,
       "width": 420
      }
     },
     "output_type": "display_data"
    }
   ],
   "source": [
    "##Your Code Here\n",
    "hist(sample_die_means)"
   ]
  },
  {
   "cell_type": "markdown",
   "id": "9df48822",
   "metadata": {
    "deletable": false,
    "editable": false
   },
   "source": [
    "<!-- END QUESTION -->\n",
    "\n",
    "<!-- BEGIN QUESTION -->\n",
    "\n",
    "### Question 2b:\n",
    "What do you notice about the distribution of the sample means? \n",
    "<!--\n",
    "BEGIN QUESTION\n",
    "name: q2b\n",
    "manual: true\n",
    "points: 1\n",
    "-->"
   ]
  },
  {
   "cell_type": "markdown",
   "id": "18d28852",
   "metadata": {},
   "source": [
    "_Type your answer here, replacing this text._"
   ]
  },
  {
   "cell_type": "markdown",
   "id": "b02b1da6",
   "metadata": {},
   "source": [
    "<!-- END QUESTION -->\n",
    "\n",
    "\n",
    "\n",
    "## Sampling Distribution Universality - Question 3\n",
    "Regardless of the underlying frequency distribution, we can generate a sampling distribution that holds the same properties as any other sampling distribution. To begin, let's look at several distributions (you don't need to know how the distribution is generated, just observe the shape of the distribution and the sampling distribution that it produces). The code will produce a distribution using a function you may not be familiar with, but that ist the point: even if we don't understand how our underlying frequency distribution is generated, we can still follow the same principles. "
   ]
  },
  {
   "cell_type": "markdown",
   "id": "65aca415",
   "metadata": {},
   "source": [
    "Now here are some questions to test your understanding:"
   ]
  },
  {
   "cell_type": "markdown",
   "id": "acf434ac",
   "metadata": {
    "deletable": false,
    "editable": false
   },
   "source": [
    "### Question 3a:\n",
    "Decreasing the sample size, while holding the confidence level the same, will\n",
    "do what to the length of your confidence interval?\n",
    "\n",
    "a) Make it bigger  \n",
    "b) Make it smaller  \n",
    "c) It will stay the same  \n",
    "d) Cannot be determined from the given information\n",
    "\n",
    "Replace the `...` below with \"a\", \"b\", \"c\", or \"d\", with quotes around the letter.\n",
    "\n",
    "<!--\n",
    "BEGIN QUESTION\n",
    "name: q3a\n",
    "points: 2\n",
    "-->"
   ]
  },
  {
   "cell_type": "code",
   "execution_count": 15,
   "id": "fd893843",
   "metadata": {},
   "outputs": [],
   "source": [
    "q3a.answer <- ..."
   ]
  },
  {
   "cell_type": "code",
   "execution_count": null,
   "id": "48589dfd",
   "metadata": {
    "deletable": false,
    "editable": false
   },
   "outputs": [],
   "source": [
    ". = ottr::check(\"tests/q3a.R\")"
   ]
  },
  {
   "cell_type": "markdown",
   "id": "088adbc8",
   "metadata": {
    "deletable": false,
    "editable": false
   },
   "source": [
    "### Question 3b:\n",
    "Decreasing the confidence level, while holding the sample size the same, will\n",
    "do what to the length of your confidence interval?  \n",
    "\n",
    "a) Make it bigger  \n",
    "b) Make it smaller  \n",
    "c) It will stay the same  \n",
    "d) Cannot be determined from the given information\n",
    "\n",
    "Replace the `...` below with \"a\", \"b\", \"c\", or \"d\", with quotes around the letter.\n",
    "\n",
    "<!--\n",
    "BEGIN QUESTION\n",
    "name: q3b\n",
    "points: 2\n",
    "-->"
   ]
  },
  {
   "cell_type": "code",
   "execution_count": 14,
   "id": "cccb801f",
   "metadata": {},
   "outputs": [],
   "source": [
    "q3b.answer <- \"b\""
   ]
  },
  {
   "cell_type": "code",
   "execution_count": null,
   "id": "00c8c6c3",
   "metadata": {
    "deletable": false,
    "editable": false
   },
   "outputs": [],
   "source": [
    ". = ottr::check(\"tests/q3b.R\")"
   ]
  },
  {
   "cell_type": "markdown",
   "id": "06b996f2",
   "metadata": {
    "deletable": false,
    "editable": false
   },
   "source": [
    "### Question 3c:\n",
    "A 95% confidence interval for the mean number of televisions per American household\n",
    "is (Lower limit: 1.15, Upper limit 4.20). For each of the following statements about the\n",
    "above confidence interval, decide whether the statements are True or False.  \n",
    "1) We are 95% confident that the true mean number of televisions per American household is between 1.15 and 4.20.  \n",
    "2) 95% of all American households have between 1.15 and 4.20 televisions.  \n",
    "3) Of 100 intervals calculated the same way (95%), we expect 95 of them to capture the population mean.  \n",
    "4) Of 100 intervals calculated the same way (95%), we expect 100 of them to capture the sample mean.\n",
    "\n",
    "Replace the `...` below with either `TRUE` or `FALSE` (without quotes and capitalized).\n",
    "\n",
    "<!--\n",
    "BEGIN QUESTION\n",
    "name: q3c1\n",
    "manual: false\n",
    "points: 1\n",
    "-->"
   ]
  },
  {
   "cell_type": "code",
   "execution_count": 19,
   "id": "061756db",
   "metadata": {},
   "outputs": [],
   "source": [
    "q3c1.answer <- ..."
   ]
  },
  {
   "cell_type": "code",
   "execution_count": null,
   "id": "ca1f35c5",
   "metadata": {
    "deletable": false,
    "editable": false
   },
   "outputs": [],
   "source": [
    ". = ottr::check(\"tests/q3c1.R\")"
   ]
  },
  {
   "cell_type": "code",
   "execution_count": 21,
   "id": "a96df124",
   "metadata": {},
   "outputs": [],
   "source": [
    "q3c2.answer <- ..."
   ]
  },
  {
   "cell_type": "code",
   "execution_count": null,
   "id": "5cadbea9",
   "metadata": {
    "deletable": false,
    "editable": false
   },
   "outputs": [],
   "source": [
    ". = ottr::check(\"tests/q3c2.R\")"
   ]
  },
  {
   "cell_type": "code",
   "execution_count": 23,
   "id": "055f217f",
   "metadata": {},
   "outputs": [],
   "source": [
    "q3c3.answer <- ..."
   ]
  },
  {
   "cell_type": "code",
   "execution_count": null,
   "id": "f543ef32",
   "metadata": {
    "deletable": false,
    "editable": false
   },
   "outputs": [],
   "source": [
    ". = ottr::check(\"tests/q3c3.R\")"
   ]
  },
  {
   "cell_type": "code",
   "execution_count": 25,
   "id": "23a7867e",
   "metadata": {},
   "outputs": [],
   "source": [
    "q3c4.answer <- ..."
   ]
  },
  {
   "cell_type": "code",
   "execution_count": null,
   "id": "1ef6b124",
   "metadata": {
    "deletable": false,
    "editable": false
   },
   "outputs": [],
   "source": [
    ". = ottr::check(\"tests/q3c4.R\")"
   ]
  },
  {
   "cell_type": "markdown",
   "id": "c0a1ed02",
   "metadata": {},
   "source": [
    "For the following questions, we will be using the scenario below:  \n",
    "*Researchers are concerned about the impact of students working while they are enrolled in classes, and they’d like to know if students work too much and therefore are spending less time on their classes than they should be. First, the researchers need to find out, on average, how many hours a week students are working. They know from previous studies\n",
    "that the standard deviation of this variable is about 5 hours.*"
   ]
  },
  {
   "cell_type": "markdown",
   "id": "40ef9ec6",
   "metadata": {
    "deletable": false,
    "editable": false
   },
   "source": [
    "### Question 3d:\n",
    "A survey of 225 students provides a sample mean of 7.10 hours worked. What is a 95% confidence interval based on this sample?\n",
    "\n",
    "**Hint:** To take the square root of some number x use the code x^.5\n",
    "\n",
    "<!--\n",
    "BEGIN QUESTION\n",
    "name: q3d\n",
    "points:\n",
    "    - .5\n",
    "    - .5\n",
    "    - .5\n",
    "    - .5\n",
    "    - 1\n",
    "    - 1\n",
    "-->"
   ]
  },
  {
   "cell_type": "code",
   "execution_count": 42,
   "id": "a9c67148",
   "metadata": {},
   "outputs": [],
   "source": [
    "## YOUR ANSWER HERE\n",
    "lower_bound <- ...\n",
    "upper_bound <- ...\n",
    "c(lower_bound, upper_bound)"
   ]
  },
  {
   "cell_type": "code",
   "execution_count": null,
   "id": "7e3881bb",
   "metadata": {
    "deletable": false,
    "editable": false
   },
   "outputs": [],
   "source": [
    ". = ottr::check(\"tests/q3d.R\")"
   ]
  },
  {
   "cell_type": "markdown",
   "id": "710e6d5c",
   "metadata": {
    "deletable": false,
    "editable": false
   },
   "source": [
    "### Question 3e:\n",
    "Suppose that this confidence interval was (6.82, 7.38). Which of these is a\n",
    "valid interpretation of this confidence interval?  \n",
    "a) There is a 95% probability that a randomly selected student worked between 6.82 and 7.38 hours.  \n",
    "b) We are 95% confident that the average number of hours worked by students in our sample is between 6.82 and 7.38 hours.  \n",
    "c) We are 95% confident that the interval between 6.82 and 7.38 hours contains the average number of hours worked by all students. \n",
    "\n",
    "Replace the `...` below with \"a\", \"b\", \"c\", or \"d\", with quotes around the letter.\n",
    "\n",
    "<!--\n",
    "BEGIN QUESTION\n",
    "name: q3e\n",
    "points: 2\n",
    "-->"
   ]
  },
  {
   "cell_type": "code",
   "execution_count": 34,
   "id": "2a0a4586",
   "metadata": {},
   "outputs": [],
   "source": [
    "q3e.answer <- ..."
   ]
  },
  {
   "cell_type": "code",
   "execution_count": null,
   "id": "318c262a",
   "metadata": {
    "deletable": false,
    "editable": false
   },
   "outputs": [],
   "source": [
    ". = ottr::check(\"tests/q3e.R\")"
   ]
  },
  {
   "cell_type": "markdown",
   "id": "4ef72cd2",
   "metadata": {
    "deletable": false,
    "editable": false
   },
   "source": [
    "### Question 3f:\n",
    "We have 95% confidence in our interval instead of 100% confidence because we need to account for the fact that:\n",
    "a) The sample may not be truly random.  \n",
    "b) We have a sample, and not the whole population.  \n",
    "c) The distribution of hours worked may be skewed.  \n",
    "d) All of the above\n",
    "\n",
    "Replace the `...` below with \"a\", \"b\", \"c\", or \"d\", with quotes around the letter.\n",
    "\n",
    "<!--\n",
    "BEGIN QUESTION\n",
    "name: q3f\n",
    "points: 2\n",
    "-->"
   ]
  },
  {
   "cell_type": "code",
   "execution_count": 36,
   "id": "903440f8",
   "metadata": {},
   "outputs": [],
   "source": [
    "q3f.answer <- ..."
   ]
  },
  {
   "cell_type": "code",
   "execution_count": null,
   "id": "9028688d",
   "metadata": {
    "deletable": false,
    "editable": false
   },
   "outputs": [],
   "source": [
    ". = ottr::check(\"tests/q3f.R\")"
   ]
  },
  {
   "cell_type": "markdown",
   "id": "077e2d8d",
   "metadata": {
    "deletable": false,
    "editable": false
   },
   "source": [
    "### Question 3g:\n",
    "The researchers are not satisfied with their confidence interval and want to do another study to find a shorter confidence interval. Which of the following best describes what they should do?  \n",
    "a) They should increase their confidence level and increase their sample size.  \n",
    "b) They should increase their confidence level or decrease their sample size.  \n",
    "c) They should decrease their confidence level or increase their sample size.  \n",
    "d) They should decrease their confidence level and decrease their sample size. \n",
    "\n",
    "Replace the `...` below with \"a\", \"b\", \"c\", or \"d\", with quotes around the letter.\n",
    "\n",
    "<!--\n",
    "BEGIN QUESTION\n",
    "name: q3g\n",
    "points: 2\n",
    "-->"
   ]
  },
  {
   "cell_type": "code",
   "execution_count": 15,
   "id": "d0722e87",
   "metadata": {},
   "outputs": [],
   "source": [
    "q3g.answer <- \"c\""
   ]
  },
  {
   "cell_type": "code",
   "execution_count": 16,
   "id": "1b150cc9",
   "metadata": {
    "deletable": false,
    "editable": false
   },
   "outputs": [],
   "source": [
    ". = ottr::check(\"tests/q3g.R\")"
   ]
  },
  {
   "cell_type": "markdown",
   "id": "3f5acc93",
   "metadata": {},
   "source": [
    "<!-- END QUESTION -->\n",
    "\n",
    "\n",
    "\n",
    "\n",
    "\n",
    "\n",
    "\n",
    "-----\n",
    "## Saving and Submitting Your Notebook\n",
    "\n",
    "Congratulations! You have now finished your first coding assignment. Well done!\n",
    "\n",
    "Before you head off to celebrate your work, please remember to save your work and submit it before the deadline!\n",
    "\n",
    "Now that you've finished the homework, we need to save it! To do this, click <code>File</code> $\\rightarrow$ <code>Download as</code> $\\rightarrow$ <code>Notebook(.ipynb)</code>\n",
    "\n",
    "Submit the .ipynb file you just downloaded <a href=\"https://www.gradescope.com/courses/434451\" target=\"_blank\">on Gradescope here</a>."
   ]
  }
 ],
 "metadata": {
  "kernelspec": {
   "display_name": "R",
   "language": "R",
   "name": "ir"
  },
  "language_info": {
   "codemirror_mode": "r",
   "file_extension": ".r",
   "mimetype": "text/x-r-source",
   "name": "R",
   "pygments_lexer": "r",
   "version": "4.2.1"
  }
 },
 "nbformat": 4,
 "nbformat_minor": 5
}
