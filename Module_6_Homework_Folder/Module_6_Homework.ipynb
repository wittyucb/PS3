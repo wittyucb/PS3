{
 "cells": [
  {
   "cell_type": "markdown",
   "id": "1764e4a8",
   "metadata": {},
   "source": [
    "## POLSCI 3 \n",
    "\n",
    "## Descriptive Statistics Homework\n"
   ]
  },
  {
   "cell_type": "markdown",
   "id": "fb22df21",
   "metadata": {},
   "source": [
    "In this homework we will explore how distributions of data impact our ability to draw conclusions about observations. From weighted coins to polling responses, we will determine how much we can take away from our data. "
   ]
  },
  {
   "cell_type": "markdown",
   "id": "a01215db",
   "metadata": {},
   "source": [
    "## Generating Distributions - Question 1\n",
    "To start, let's consider a probability distribution of a flip of a coin. Below, we simulate flipping the coin once using the <code>sample</code> function. Note that there are two options for outcomes of a coin flip: a 0 signifying tails or a 1 signifying heads."
   ]
  },
  {
   "cell_type": "code",
   "execution_count": 1,
   "id": "53a60e4e",
   "metadata": {},
   "outputs": [
    {
     "data": {
      "text/html": [
       "0"
      ],
      "text/latex": [
       "0"
      ],
      "text/markdown": [
       "0"
      ],
      "text/plain": [
       "[1] 0"
      ]
     },
     "metadata": {},
     "output_type": "display_data"
    }
   ],
   "source": [
    "coin_choices <- c(0, 1)                                    # 0 for tails and 1 for heads\n",
    "coin_flip <- sample(coin_choices, replace = TRUE, size=1)  # Take 1 draw from `coin_choices`\n",
    "coin_flip                                                 # Display the results of the flips"
   ]
  },
  {
   "cell_type": "markdown",
   "id": "bb70a242",
   "metadata": {
    "deletable": false,
    "editable": false
   },
   "source": [
    "### Question 1a:\n",
    "In the cell below, reproduce the roll of a die. (Hint: we did this in the lecture notebook.) What happens when you repeatedly run the cell?\n",
    "\n",
    "<!--\n",
    "BEGIN QUESTION\n",
    "name: q1a\n",
    "manual: false\n",
    "points: 2\n",
    "\n",
    "-->"
   ]
  },
  {
   "cell_type": "code",
   "execution_count": null,
   "id": "e4b563d5",
   "metadata": {},
   "outputs": [],
   "source": [
    "#Your Answer Here\n",
    "die_choices <- ...\n",
    "die_roll <- sample(..., replace = TRUE, size=1)\n",
    "die_roll"
   ]
  },
  {
   "cell_type": "code",
   "execution_count": null,
   "id": "7619322f",
   "metadata": {
    "deletable": false,
    "editable": false
   },
   "outputs": [],
   "source": [
    ". = ottr::check(\"tests/q1a.R\")"
   ]
  },
  {
   "cell_type": "markdown",
   "id": "f74a7b23",
   "metadata": {},
   "source": [
    "By running the cell multiple times, you should see different outcomes: sometimes a 1, other times a 2, etc. We can reproduce this by changing a parameter in our previous function call: <code>size</code>. Below, we simulate flipping a coin 30 times. (Note the \"size=30\" in the first line.)"
   ]
  },
  {
   "cell_type": "code",
   "execution_count": null,
   "id": "87c9877d",
   "metadata": {},
   "outputs": [],
   "source": [
    "coin_flips <- sample(coin_choices, replace = TRUE, size=30)\n",
    "coin_flips"
   ]
  },
  {
   "cell_type": "markdown",
   "id": "31b49b9d",
   "metadata": {
    "deletable": false,
    "editable": false
   },
   "source": [
    "### Question 1b:\n",
    "Using the cell above as a guide, reproduce the roll of a die 30 times:\n",
    "\n",
    "<!--\n",
    "BEGIN QUESTION\n",
    "name: q1b\n",
    "manual: false\n",
    "points: 1\n",
    "-->"
   ]
  },
  {
   "cell_type": "code",
   "execution_count": null,
   "id": "6390a928",
   "metadata": {},
   "outputs": [],
   "source": [
    "## Your Answer Here\n",
    "dice_rolls <- ...\n",
    "dice_rolls"
   ]
  },
  {
   "cell_type": "code",
   "execution_count": null,
   "id": "a4fd9d15",
   "metadata": {
    "deletable": false,
    "editable": false
   },
   "outputs": [],
   "source": [
    ". = ottr::check(\"tests/q1b.R\")"
   ]
  },
  {
   "cell_type": "markdown",
   "id": "95b6fc71",
   "metadata": {},
   "source": [
    "To better understand our data, we will want to visualize it. The <code>hist(array)</code> function allows you to produce a histogram of the data. What do you notice about the ratio of heads to tails?"
   ]
  },
  {
   "cell_type": "code",
   "execution_count": null,
   "id": "ec0f3c47",
   "metadata": {},
   "outputs": [],
   "source": [
    "hist(coin_flips)"
   ]
  },
  {
   "cell_type": "markdown",
   "id": "501dc7f6",
   "metadata": {
    "deletable": false,
    "editable": false
   },
   "source": [
    "<!-- BEGIN QUESTION -->\n",
    "\n",
    "### Question 1c:\n",
    "In the cell below, reproduce the histogram above with dice rolls:\n",
    "\n",
    "<!--\n",
    "BEGIN QUESTION\n",
    "name: q1c\n",
    "manual: true\n",
    "points: 1\n",
    "-->"
   ]
  },
  {
   "cell_type": "code",
   "execution_count": null,
   "id": "1d8ff7ff",
   "metadata": {},
   "outputs": [],
   "source": [
    "## Your Code Here:\n",
    "die_roll_hist <- ...\n",
    "die_roll_hist"
   ]
  },
  {
   "cell_type": "markdown",
   "id": "3c950396",
   "metadata": {},
   "source": [
    "<!-- END QUESTION -->\n",
    "\n",
    "\n",
    "\n",
    "## Producing a Sampling Distribution - Question 2\n",
    "We just produced one sample. To be able to draw conclusions about what we observe in the sample, we need to create a *sampling distribution*. By repeatedly generating samples from the same underlying population, we can create a distribution of different statistics of the population. Statisticians traditionally use the mean as the statistic of interest (it has useful mathematical properties outside of the scope of this homework). Let's explore how to produce a sampling distribution."
   ]
  },
  {
   "cell_type": "markdown",
   "id": "8457f41f",
   "metadata": {},
   "source": [
    "To begin, we need to repeatedly generate samples. That is, we need to repeat the process of flipping 30 coins some large number (say 10000) times. YOU DO NOT NEED TO KNOW THE CODE FOR THIS, WHICH IS BELOW."
   ]
  },
  {
   "cell_type": "code",
   "execution_count": null,
   "id": "e0a0bd5d",
   "metadata": {},
   "outputs": [],
   "source": [
    "sample_coin_means <- c()\n",
    "for (i in 1:10000){#Process to repeat 10,000 times\n",
    "    sample_coin_flips <- sample(coin_choices, replace = TRUE, size=30) #Draw one sample of 30 coin flips\n",
    "    sample_flips_average <- mean(sample_coin_flips) #Take the average of the coin flips\n",
    "    sample_coin_means <- append(sample_coin_means, sample_flips_average) #Add average to a list\n",
    "    \n",
    "}\n",
    "head(sample_coin_means)"
   ]
  },
  {
   "cell_type": "markdown",
   "id": "b167c166",
   "metadata": {},
   "source": [
    "Below, are the above steps, but with dice rolls rather than coin flips."
   ]
  },
  {
   "cell_type": "code",
   "execution_count": null,
   "id": "e75d28e6",
   "metadata": {},
   "outputs": [],
   "source": [
    "sample_die_means <- c()\n",
    "for (i in 1:10000){#Process to repeat 10,000 times\n",
    "    sample_die_rolls <- sample(dice_rolls, replace = TRUE, size=30) ##Draw one sample of 30 die rolls\n",
    "    sample_die_average <- mean(sample_die_rolls) #Take the average of the die rolls\n",
    "    sample_die_means <- append(sample_die_means, sample_die_average) #Add average to a list\n",
    "    \n",
    "} \n",
    "head(sample_die_means)"
   ]
  },
  {
   "cell_type": "markdown",
   "id": "8d0abb9d",
   "metadata": {},
   "source": [
    "Now that we have our distributions, we can plot them using the <code>hist(array)</code> function from above. Below, a histogram of the coin means:"
   ]
  },
  {
   "cell_type": "code",
   "execution_count": null,
   "id": "4ef5daef",
   "metadata": {},
   "outputs": [],
   "source": [
    "hist(sample_coin_means)"
   ]
  },
  {
   "cell_type": "markdown",
   "id": "59d35bf3",
   "metadata": {
    "deletable": false,
    "editable": false
   },
   "source": [
    "<!-- BEGIN QUESTION -->\n",
    "\n",
    "### Question 2a:\n",
    "Using the cell above as a guide, plot a histogram of the sample means for the dice.\n",
    "\n",
    "<!--\n",
    "BEGIN QUESTION\n",
    "name: q2a\n",
    "manual: true\n",
    "points: 1\n",
    "-->"
   ]
  },
  {
   "cell_type": "code",
   "execution_count": null,
   "id": "e30d7445",
   "metadata": {},
   "outputs": [],
   "source": [
    "##Your Code Here\n"
   ]
  },
  {
   "cell_type": "markdown",
   "id": "9df48822",
   "metadata": {
    "deletable": false,
    "editable": false
   },
   "source": [
    "<!-- END QUESTION -->\n",
    "\n",
    "<!-- BEGIN QUESTION -->\n",
    "\n",
    "### Question 2b:\n",
    "What do you notice about the distribution of the sample means? \n",
    "<!--\n",
    "BEGIN QUESTION\n",
    "name: q2b\n",
    "manual: true\n",
    "points: 1\n",
    "-->"
   ]
  },
  {
   "cell_type": "markdown",
   "id": "18d28852",
   "metadata": {},
   "source": [
    "_Type your answer here, replacing this text._"
   ]
  },
  {
   "cell_type": "markdown",
   "id": "b02b1da6",
   "metadata": {},
   "source": [
    "<!-- END QUESTION -->\n",
    "\n",
    "\n",
    "\n",
    "## Sampling Distribution Universality - Question 3\n",
    "Regardless of the underlying frequency distribution, we can generate a sampling distribution that holds the same properties as any other sampling distribution. To begin, let's look at several distributions (you don't need to know how the distribution is generated, just observe the shape of the distribution and the sampling distribution that it produces). The code will produce a distribution using a function you may not be familiar with, but that ist the point: even if we don't understand how our underlying frequency distribution is generated, we can still follow the same principles. "
   ]
  },
  {
   "cell_type": "markdown",
   "id": "65aca415",
   "metadata": {},
   "source": [
    "Now here are some questions to test your understanding:"
   ]
  },
  {
   "cell_type": "markdown",
   "id": "acf434ac",
   "metadata": {
    "deletable": false,
    "editable": false
   },
   "source": [
    "### Question 3a:\n",
    "Decreasing the sample size, while holding the confidence level the same, will\n",
    "do what to the length of your confidence interval?\n",
    "\n",
    "a) Make it bigger  \n",
    "b) Make it smaller  \n",
    "c) It will stay the same  \n",
    "d) Cannot be determined from the given information\n",
    "\n",
    "Replace the `...` below with \"a\", \"b\", \"c\", or \"d\", with quotes around the letter.\n",
    "\n",
    "<!--\n",
    "BEGIN QUESTION\n",
    "name: q3a\n",
    "points: 2\n",
    "-->"
   ]
  },
  {
   "cell_type": "code",
   "execution_count": null,
   "id": "fd893843",
   "metadata": {},
   "outputs": [],
   "source": [
    "q3a.answer <- ..."
   ]
  },
  {
   "cell_type": "code",
   "execution_count": null,
   "id": "48589dfd",
   "metadata": {
    "deletable": false,
    "editable": false
   },
   "outputs": [],
   "source": [
    ". = ottr::check(\"tests/q3a.R\")"
   ]
  },
  {
   "cell_type": "markdown",
   "id": "088adbc8",
   "metadata": {
    "deletable": false,
    "editable": false
   },
   "source": [
    "### Question 3b:\n",
    "Decreasing the confidence level, while holding the sample size the same, will\n",
    "do what to the length of your confidence interval?  \n",
    "\n",
    "a) Make it bigger  \n",
    "b) Make it smaller  \n",
    "c) It will stay the same  \n",
    "d) Cannot be determined from the given information\n",
    "\n",
    "Replace the `...` below with \"a\", \"b\", \"c\", or \"d\", with quotes around the letter.\n",
    "\n",
    "<!--\n",
    "BEGIN QUESTION\n",
    "name: q3b\n",
    "points: 2\n",
    "-->"
   ]
  },
  {
   "cell_type": "code",
   "execution_count": null,
   "id": "cccb801f",
   "metadata": {},
   "outputs": [],
   "source": [
    "q3b.answer <- ..."
   ]
  },
  {
   "cell_type": "code",
   "execution_count": null,
   "id": "00c8c6c3",
   "metadata": {
    "deletable": false,
    "editable": false
   },
   "outputs": [],
   "source": [
    ". = ottr::check(\"tests/q3b.R\")"
   ]
  },
  {
   "cell_type": "markdown",
   "id": "06b996f2",
   "metadata": {
    "deletable": false,
    "editable": false
   },
   "source": [
    "### Question 3c:\n",
    "A 95% confidence interval for the mean number of televisions per American household\n",
    "is (Lower limit: 1.15, Upper limit 4.20). For each of the following statements about the\n",
    "above confidence interval, decide whether the statements are True or False.  \n",
    "1) We are 95% confident that the true mean number of televisions per American household is between 1.15 and 4.20.  \n",
    "2) 95% of all American households have between 1.15 and 4.20 televisions.  \n",
    "3) Of 100 intervals calculated the same way (95%), we expect 95 of them to capture the population mean.  \n",
    "4) Of 100 intervals calculated the same way (95%), we expect 100 of them to capture the sample mean.\n",
    "\n",
    "Replace the `...` below with either `TRUE` or `FALSE` (without quotes and capitalized).\n",
    "\n",
    "<!--\n",
    "BEGIN QUESTION\n",
    "name: q3c1\n",
    "manual: false\n",
    "points: 1\n",
    "-->"
   ]
  },
  {
   "cell_type": "code",
   "execution_count": null,
   "id": "061756db",
   "metadata": {},
   "outputs": [],
   "source": [
    "q3c1.answer <- ..."
   ]
  },
  {
   "cell_type": "code",
   "execution_count": null,
   "id": "ca1f35c5",
   "metadata": {
    "deletable": false,
    "editable": false
   },
   "outputs": [],
   "source": [
    ". = ottr::check(\"tests/q3c1.R\")"
   ]
  },
  {
   "cell_type": "code",
   "execution_count": null,
   "id": "a96df124",
   "metadata": {},
   "outputs": [],
   "source": [
    "q3c2.answer <- ..."
   ]
  },
  {
   "cell_type": "code",
   "execution_count": null,
   "id": "5cadbea9",
   "metadata": {
    "deletable": false,
    "editable": false
   },
   "outputs": [],
   "source": [
    ". = ottr::check(\"tests/q3c2.R\")"
   ]
  },
  {
   "cell_type": "code",
   "execution_count": null,
   "id": "055f217f",
   "metadata": {},
   "outputs": [],
   "source": [
    "q3c3.answer <- ..."
   ]
  },
  {
   "cell_type": "code",
   "execution_count": null,
   "id": "f543ef32",
   "metadata": {
    "deletable": false,
    "editable": false
   },
   "outputs": [],
   "source": [
    ". = ottr::check(\"tests/q3c3.R\")"
   ]
  },
  {
   "cell_type": "code",
   "execution_count": null,
   "id": "23a7867e",
   "metadata": {},
   "outputs": [],
   "source": [
    "q3c4.answer <- ..."
   ]
  },
  {
   "cell_type": "code",
   "execution_count": null,
   "id": "1ef6b124",
   "metadata": {
    "deletable": false,
    "editable": false
   },
   "outputs": [],
   "source": [
    ". = ottr::check(\"tests/q3c4.R\")"
   ]
  },
  {
   "cell_type": "markdown",
   "id": "c0a1ed02",
   "metadata": {},
   "source": [
    "For the following questions, we will be using the scenario below:  \n",
    "*Researchers are concerned about the impact of students working while they are enrolled in classes, and they’d like to know if students work too much and therefore are spending less time on their classes than they should be. First, the researchers need to find out, on average, how many hours a week students are working. They know from previous studies\n",
    "that the standard deviation of this variable is about 5 hours.*"
   ]
  },
  {
   "cell_type": "markdown",
   "id": "40ef9ec6",
   "metadata": {
    "deletable": false,
    "editable": false
   },
   "source": [
    "### Question 3d:\n",
    "A survey of 225 students provides a sample mean of 7.10 hours worked. What is a 95% confidence interval based on this sample?\n",
    "\n",
    "**Hint:** To take the square root of some number x use the code x^.5\n",
    "\n",
    "<!--\n",
    "BEGIN QUESTION\n",
    "name: q3d\n",
    "points:\n",
    "    - .5\n",
    "    - .5\n",
    "    - .5\n",
    "    - .5\n",
    "    - 1\n",
    "    - 1\n",
    "-->"
   ]
  },
  {
   "cell_type": "code",
   "execution_count": null,
   "id": "a9c67148",
   "metadata": {},
   "outputs": [],
   "source": [
    "## YOUR ANSWER HERE\n",
    "lower_bound <- ...\n",
    "upper_bound <- ...\n",
    "c(lower_bound, upper_bound)"
   ]
  },
  {
   "cell_type": "code",
   "execution_count": null,
   "id": "7e3881bb",
   "metadata": {
    "deletable": false,
    "editable": false
   },
   "outputs": [],
   "source": [
    ". = ottr::check(\"tests/q3d.R\")"
   ]
  },
  {
   "cell_type": "markdown",
   "id": "710e6d5c",
   "metadata": {
    "deletable": false,
    "editable": false
   },
   "source": [
    "### Question 3e:\n",
    "Suppose that this confidence interval was (6.82, 7.38). Which of these is a\n",
    "valid interpretation of this confidence interval?  \n",
    "a) There is a 95% probability that a randomly selected student worked between 6.82 and 7.38 hours.  \n",
    "b) We are 95% confident that the average number of hours worked by students in our sample is between 6.82 and 7.38 hours.  \n",
    "c) We are 95% confident that the interval between 6.82 and 7.38 hours contains the average number of hours worked by all students. \n",
    "\n",
    "Replace the `...` below with \"a\", \"b\", \"c\", or \"d\", with quotes around the letter.\n",
    "\n",
    "<!--\n",
    "BEGIN QUESTION\n",
    "name: q3e\n",
    "points: 2\n",
    "-->"
   ]
  },
  {
   "cell_type": "code",
   "execution_count": null,
   "id": "2a0a4586",
   "metadata": {},
   "outputs": [],
   "source": [
    "q3e.answer <- ..."
   ]
  },
  {
   "cell_type": "code",
   "execution_count": null,
   "id": "318c262a",
   "metadata": {
    "deletable": false,
    "editable": false
   },
   "outputs": [],
   "source": [
    ". = ottr::check(\"tests/q3e.R\")"
   ]
  },
  {
   "cell_type": "markdown",
   "id": "4ef72cd2",
   "metadata": {
    "deletable": false,
    "editable": false
   },
   "source": [
    "### Question 3f:\n",
    "We have 95% confidence in our interval instead of 100% confidence because we need to account for the fact that:\n",
    "a) The sample may not be truly random.  \n",
    "b) We have a sample, and not the whole population.  \n",
    "c) The distribution of hours worked may be skewed.  \n",
    "d) All of the above\n",
    "\n",
    "Replace the `...` below with \"a\", \"b\", \"c\", or \"d\", with quotes around the letter.\n",
    "\n",
    "<!--\n",
    "BEGIN QUESTION\n",
    "name: q3f\n",
    "points: 2\n",
    "-->"
   ]
  },
  {
   "cell_type": "code",
   "execution_count": null,
   "id": "903440f8",
   "metadata": {},
   "outputs": [],
   "source": [
    "q3f.answer <- ..."
   ]
  },
  {
   "cell_type": "code",
   "execution_count": null,
   "id": "9028688d",
   "metadata": {
    "deletable": false,
    "editable": false
   },
   "outputs": [],
   "source": [
    ". = ottr::check(\"tests/q3f.R\")"
   ]
  },
  {
   "cell_type": "markdown",
   "id": "077e2d8d",
   "metadata": {
    "deletable": false,
    "editable": false
   },
   "source": [
    "### Question 3g:\n",
    "The researchers are not satisfied with their confidence interval and want to do another study to find a shorter confidence interval. Which of the following best describes what they should do?  \n",
    "a) They should increase their confidence level and increase their sample size.  \n",
    "b) They should increase their confidence level or decrease their sample size.  \n",
    "c) They should decrease their confidence level or increase their sample size.  \n",
    "d) They should decrease their confidence level and decrease their sample size. \n",
    "\n",
    "Replace the `...` below with \"a\", \"b\", \"c\", or \"d\", with quotes around the letter.\n",
    "\n",
    "<!--\n",
    "BEGIN QUESTION\n",
    "name: q3g\n",
    "points: 2\n",
    "-->"
   ]
  },
  {
   "cell_type": "code",
   "execution_count": null,
   "id": "d0722e87",
   "metadata": {},
   "outputs": [],
   "source": [
    "q3g.answer <- ..."
   ]
  },
  {
   "cell_type": "code",
   "execution_count": null,
   "id": "1b150cc9",
   "metadata": {
    "deletable": false,
    "editable": false
   },
   "outputs": [],
   "source": [
    ". = ottr::check(\"tests/q3g.R\")"
   ]
  },
  {
   "cell_type": "markdown",
   "id": "3f5acc93",
   "metadata": {},
   "source": [
    "<!-- END QUESTION -->\n",
    "\n",
    "\n",
    "\n",
    "\n",
    "\n",
    "\n",
    "\n",
    "-----\n",
    "## Saving and Submitting Your Notebook\n",
    "\n",
    "Congratulations! You have now finished your first coding assignment. Well done!\n",
    "\n",
    "Before you head off to celebrate your work, please remember to save your work and submit it before the deadline!\n",
    "\n",
    "Now that you've finished the homework, we need to save it! To do this, click <code>File</code> $\\rightarrow$ <code>Download as</code> $\\rightarrow$ <code>Notebook(.ipynb)</code>\n",
    "\n",
    "Submit the .ipynb file you just downloaded <a href=\"https://www.gradescope.com/courses/582091\" target=\"_blank\">on Gradescope here</a>."
   ]
  }
 ],
 "metadata": {
  "kernelspec": {
   "display_name": "R",
   "language": "R",
   "name": "ir"
  },
  "language_info": {
   "codemirror_mode": "r",
   "file_extension": ".r",
   "mimetype": "text/x-r-source",
   "name": "R",
   "pygments_lexer": "r",
   "version": "4.3.1"
  }
 },
 "nbformat": 4,
 "nbformat_minor": 5
}
