{
 "cells": [
  {
   "cell_type": "markdown",
   "id": "8ac8db84",
   "metadata": {},
   "source": [
    "## POLSCI 3 \n",
    "\n",
    "## Hypothesis Testing Homework\n",
    "\n",
    "In this homework we will review different methods of testing hypotheses. These methods depend on the kinds of data we are working with: categorical or numeric. To start, let's consider when we have just categorical variables."
   ]
  },
  {
   "cell_type": "markdown",
   "id": "5ee84ef1",
   "metadata": {
    "slideshow": {
     "slide_type": ""
    },
    "tags": []
   },
   "source": [
    "## $\\chi^2$ Statistic"
   ]
  },
  {
   "cell_type": "markdown",
   "id": "06c1b9cc",
   "metadata": {
    "deletable": false,
    "editable": false
   },
   "source": [
    "<!-- BEGIN QUESTION -->\n",
    "\n",
    "### Question 1a:\n",
    "\n",
    "Before we begin, let's review: what is the purpose of calculating the $\\chi^2$ statistic?\n"
   ]
  },
  {
   "cell_type": "markdown",
   "id": "e2fa9432",
   "metadata": {},
   "source": [
    "_Type your answer here, replacing this text._"
   ]
  },
  {
   "cell_type": "markdown",
   "id": "b664e04a",
   "metadata": {
    "deletable": false,
    "editable": false
   },
   "source": [
    "<!-- END QUESTION -->\n",
    "\n",
    "<!-- BEGIN QUESTION -->\n",
    "\n",
    "### Question 1b:\n",
    "\n",
    "In this example, we're going to use the relationship between union membership and 2016 presidential vote choice. Below, we have the results of a poll of voters who were asked about their preferred candidate and whether they were a union member. \n",
    "\n",
    "**Note:** Make sure to run the cell below to generate the table."
   ]
  },
  {
   "cell_type": "code",
   "execution_count": null,
   "id": "7a845e3d",
   "metadata": {
    "deletable": false,
    "editable": false
   },
   "outputs": [],
   "source": [
    "respond_table <- as.table(cbind(c(1068, 1019),c(218, 157)))\n",
    "dimnames(respond_table) <- list(candidate = c(\"Clinton\",\"Trump\"),\n",
    "                                membership = c(\"Not_Union\",\"Union\")\n",
    "                                )\n"
   ]
  },
  {
   "cell_type": "markdown",
   "id": "5a40df1b-e3da-4704-9860-35acc4b3ff14",
   "metadata": {
    "deletable": false,
    "editable": false
   },
   "source": [
    "\n",
    "What are your initial impressions of how the data are distributed?\n",
    "\n"
   ]
  },
  {
   "cell_type": "markdown",
   "id": "0dfbd7c1",
   "metadata": {},
   "source": [
    "_Type your answer here, replacing this text._"
   ]
  },
  {
   "cell_type": "markdown",
   "id": "ee4d16d7-5683-4762-89f2-c59502f09348",
   "metadata": {
    "deletable": false,
    "editable": false
   },
   "source": [
    "<!-- END QUESTION -->\n",
    "\n",
    "### Question 1c:\n",
    "\n",
    "Now let's try using the chisq.test function we learned in the lecture notebook. Recall the first step when using this function is creating a contingency table. Remember, you need to fill in the NULL in the command below with the name of the table you are analyzing. "
   ]
  },
  {
   "cell_type": "code",
   "execution_count": null,
   "id": "d82bc40d-b5ae-49ff-b59a-baf9d891a9e1",
   "metadata": {
    "deletable": false,
    "editable": false
   },
   "outputs": [],
   "source": [
    "#Duplicating the table\n",
    "set.seed(1917)\n",
    "respond_table <- as.table(cbind(c(1068, 1019),c(218, 157)))\n",
    "dimnames(respond_table) <- list(candidate = c(\"Clinton\",\"Trump\"),\n",
    "                                membership = c(\"Not_Union\",\"Union\")\n",
    "                                )"
   ]
  },
  {
   "cell_type": "markdown",
   "id": "3fb535df",
   "metadata": {
    "deletable": false,
    "editable": false
   },
   "source": [
    "Hint: q1c.answer <- chisq.test(..., correct=FALSE)"
   ]
  },
  {
   "cell_type": "code",
   "execution_count": null,
   "id": "04540a18",
   "metadata": {
    "tags": []
   },
   "outputs": [],
   "source": [
    "q1c.answer <- NULL # YOUR CODE HERE"
   ]
  },
  {
   "cell_type": "markdown",
   "id": "ed0c47c2-4fee-4733-a328-5e774e4b82f3",
   "metadata": {
    "deletable": false,
    "editable": false
   },
   "source": [
    "<!-- BEGIN QUESTION -->\n",
    "\n",
    "### Question 1d:\n",
    "What do these results tell you about the relationship between union membership and US presidential vote preference in 2016?\n"
   ]
  },
  {
   "cell_type": "markdown",
   "id": "8d0071a6",
   "metadata": {},
   "source": [
    "_Type your answer here, replacing this text._"
   ]
  },
  {
   "cell_type": "markdown",
   "id": "45e01aa8",
   "metadata": {
    "deletable": false,
    "editable": false
   },
   "source": [
    "<!-- END QUESTION -->\n",
    "\n",
    "<!-- END QUESTION -->\n",
    "\n",
    "\n",
    "\n",
    "## Difference of Means - Question 2\n",
    "Are democracies richer than autocracies? This can be tested with a difference in means test. To test this we will use the happiness_polity data that we introduced in the previous module. First let's read in the data and examine the code book. Note that if it is impossible to load the data directly, use the dropbox link."
   ]
  },
  {
   "cell_type": "code",
   "execution_count": null,
   "id": "81a06f48",
   "metadata": {
    "scrolled": true
   },
   "outputs": [],
   "source": [
    "happiness_data <- read.csv('happiness_polity_2018.csv')\n",
    "head(happiness_data)"
   ]
  },
  {
   "cell_type": "code",
   "execution_count": null,
   "id": "c1ffb984",
   "metadata": {},
   "outputs": [],
   "source": [
    "# Run only if the previous cell gives an error\n",
    "happiness_data <- read.csv(\"https://www.dropbox.com/scl/fi/vg6gtsge75v5ww4hane9a/happiness_polity_2018.csv?rlkey=h62vrrh6xzkh3r1vl6ro75po2&st=ywyqb44v&dl=1\")\n",
    "head(happiness_data)"
   ]
  },
  {
   "cell_type": "markdown",
   "id": "44c504ed",
   "metadata": {},
   "source": [
    "This dataset contains data from countries around the world in terms of factors such as happiness levels, \n",
    "political categories, and demographic information. Here's a codebook:\n",
    "\n",
    "<code>polity2</code>: The \"Polity Score\" of the country, which measures its political system on a 21-pont scale \n",
    "ranging from -10 (hereditary monarchy) to +10 (consolidated democracy).\n",
    "\n",
    "<code>polity2_cat</code>: The political category the country is identified within. \"autocracies\" are on one end of \n",
    "the spectrum, \"anocracies\" are in the middle (semi-democracies), and \"democracies\" are at the top of the spectrum.\n",
    "\n",
    "<code>gdpcapita</code>: GDP per Capita (economic output per person)\n",
    "\n",
    "<code>gdpcapita_cat</code>: GDP/income category that the country falls into (based on GDP per capita)\n",
    "\n",
    "<code>happiness</code>: The country's happiness index, measured through surveys that require participants to rank \n",
    "their level of happiness based on an assortment of quality-of-life factors\n",
    "\n",
    "<code>happiness_cat</code>: Happiness category that the country falls into (based on happpiness indicator)\n",
    "\n",
    "<code>life_expectancy</code>: Average life expectancy in years\n",
    "\n",
    "<code>life_expectancy_cat</code>: Life Expectancy category that the country falls into"
   ]
  },
  {
   "cell_type": "markdown",
   "id": "b0da33cb",
   "metadata": {},
   "source": [
    "Next we need to create two subsets of the data, one for democracies and one for autocracies:"
   ]
  },
  {
   "cell_type": "code",
   "execution_count": null,
   "id": "24c6ddb4",
   "metadata": {},
   "outputs": [],
   "source": [
    "autocracies<-subset(happiness_data,polity2_cat==\"autocracies\")\n",
    "democracies<-subset(happiness_data,polity2_cat==\"democracies\")\n",
    "head(autocracies)\n",
    "head(democracies)"
   ]
  },
  {
   "cell_type": "markdown",
   "id": "938333c3",
   "metadata": {
    "deletable": false,
    "editable": false,
    "slideshow": {
     "slide_type": ""
    },
    "tags": []
   },
   "source": [
    "### Question 2a:\n",
    "In the following cell type the code to find the `mean` GDP Per Capita for democracies and autocracies.\n",
    "\n",
    "<!--\n",
    "BEGIN QUESTION\n",
    "name: q2a\n",
    "manual: false\n",
    "points: 2\n",
    "-->"
   ]
  },
  {
   "cell_type": "markdown",
   "id": "156eb261",
   "metadata": {
    "deletable": false,
    "editable": false
   },
   "source": [
    "mean.autocracies <- mean(...)\n",
    "\n",
    "mean.democracies <- mean(...)\n"
   ]
  },
  {
   "cell_type": "code",
   "execution_count": null,
   "id": "7114ba72",
   "metadata": {
    "slideshow": {
     "slide_type": ""
    },
    "tags": []
   },
   "outputs": [],
   "source": [
    "## YOUR ANSWER HERE\n",
    "mean.autocracies <- NULL # YOUR CODE HERE\n",
    "mean.democracies <- NULL # YOUR CODE HERE\n",
    "q2a.answer <- c(mean.autocracies,mean.democracies) \n",
    "q2a.answer"
   ]
  },
  {
   "cell_type": "markdown",
   "id": "28c955d2",
   "metadata": {
    "deletable": false,
    "editable": false,
    "slideshow": {
     "slide_type": ""
    },
    "tags": []
   },
   "source": [
    "### Question 2b:\n",
    "Now let's assume we are working with random samples, and determine whether there is sufficient evidence of different GDP per capitas in our samples to warrant making any conclusion about the population of autocracies and democracies:\n",
    "\n",
    "<!--\n",
    "BEGIN QUESTION\n",
    "name: q2b\n",
    "manual: false\n",
    "points: 2\n",
    "-->"
   ]
  },
  {
   "cell_type": "markdown",
   "id": "2fe03796",
   "metadata": {},
   "source": [
    "q2b.answer <- t.test(..., ...)\n"
   ]
  },
  {
   "cell_type": "code",
   "execution_count": null,
   "id": "851a58d3",
   "metadata": {
    "scrolled": true,
    "slideshow": {
     "slide_type": ""
    },
    "tags": []
   },
   "outputs": [],
   "source": [
    "## YOUR ANSWER HERE\n",
    "q2b.answer <- NULL # YOUR CODE HERE\n"
   ]
  },
  {
   "cell_type": "markdown",
   "id": "890615a0-7a8e-4d31-849e-54d60d6f85ac",
   "metadata": {
    "deletable": false,
    "editable": false
   },
   "source": [
    "<!-- BEGIN QUESTION -->\n",
    "\n",
    "What do you conclude about the population difference in GDP per capita between autocracies and democracies? Can we establish a causal relationship between GDP per capita and regime type?"
   ]
  },
  {
   "cell_type": "markdown",
   "id": "ade5b5bd",
   "metadata": {},
   "source": [
    "_Type your answer here, replacing this text._"
   ]
  },
  {
   "cell_type": "markdown",
   "id": "3163b602",
   "metadata": {
    "deletable": false,
    "editable": false
   },
   "source": [
    "<!-- END QUESTION -->\n",
    "\n",
    "<!-- END QUESTION -->\n",
    "\n",
    "\n",
    "\n",
    "## Short Answer - Question 3 \n",
    "#### True or False, with a one sentence justification for each:"
   ]
  },
  {
   "cell_type": "markdown",
   "id": "4abf96e0",
   "metadata": {
    "deletable": false,
    "editable": false
   },
   "source": [
    "<!-- BEGIN QUESTION -->\n",
    "\n",
    "**a)** Only a very small (&lt;5) percentage of measurements can be more than 2 standard\n",
    "deviations from the mean of the normal distribution.\n",
    "\n",
    "<!--\n",
    "BEGIN QUESTION\n",
    "name: q3a\n",
    "manual: true\n",
    "points: 2\n",
    "-->"
   ]
  },
  {
   "cell_type": "markdown",
   "id": "10e7abb1",
   "metadata": {},
   "source": [
    "_Type your answer here, replacing this text._"
   ]
  },
  {
   "cell_type": "markdown",
   "id": "55e56ee6",
   "metadata": {
    "deletable": false,
    "editable": false
   },
   "source": [
    "<!-- END QUESTION -->\n",
    "\n",
    "<!-- BEGIN QUESTION -->\n",
    "\n",
    "**b)** Only a very small (&lt;5) percentage of measurements can be more than 2 standard\n",
    "deviations from the mean of the any distribution.\n",
    "\n",
    "<!--\n",
    "BEGIN QUESTION\n",
    "name: q3b\n",
    "manual: true\n",
    "points: 2\n",
    "-->"
   ]
  },
  {
   "cell_type": "markdown",
   "id": "b7d3d5c1",
   "metadata": {},
   "source": [
    "_Type your answer here, replacing this text._"
   ]
  },
  {
   "cell_type": "markdown",
   "id": "c64fc5e8",
   "metadata": {
    "deletable": false,
    "editable": false
   },
   "source": [
    "<!-- END QUESTION -->\n",
    "\n",
    "<!-- BEGIN QUESTION -->\n",
    "\n",
    "**c)** If we would reject a null hypothesis at the 5% level, we would also reject it at the 1%\n",
    "level.\n",
    "\n",
    "<!--\n",
    "BEGIN QUESTION\n",
    "name: q3c\n",
    "manual: true\n",
    "points: 2\n",
    "-->"
   ]
  },
  {
   "cell_type": "markdown",
   "id": "961d8576",
   "metadata": {},
   "source": [
    "_Type your answer here, replacing this text._"
   ]
  },
  {
   "cell_type": "markdown",
   "id": "27a2d472",
   "metadata": {
    "deletable": false,
    "editable": false
   },
   "source": [
    "<!-- END QUESTION -->\n",
    "\n",
    "<!-- BEGIN QUESTION -->\n",
    "\n",
    "**d)** If we would reject a null hypothesis at the 1% level, we would also reject it at the 5%\n",
    "level.\n",
    "\n",
    "<!--\n",
    "BEGIN QUESTION\n",
    "name: q3d\n",
    "manual: true\n",
    "points: 2\n",
    "-->"
   ]
  },
  {
   "cell_type": "markdown",
   "id": "0a921a65",
   "metadata": {},
   "source": [
    "_Type your answer here, replacing this text._"
   ]
  },
  {
   "cell_type": "markdown",
   "id": "0a28d237",
   "metadata": {
    "deletable": false,
    "editable": false
   },
   "source": [
    "<!-- END QUESTION -->\n",
    "\n",
    "<!-- BEGIN QUESTION -->\n",
    "\n",
    "**e)** The p-value, which is the Type I error rate, is chosen by the investigator before a\n",
    "hypothesis test is conducted.\n",
    "\n",
    "<!--\n",
    "BEGIN QUESTION\n",
    "name: q3e\n",
    "manual: true\n",
    "points: 2\n",
    "-->"
   ]
  },
  {
   "cell_type": "markdown",
   "id": "e67775ce",
   "metadata": {},
   "source": [
    "_Type your answer here, replacing this text._"
   ]
  },
  {
   "cell_type": "markdown",
   "id": "f39873b2",
   "metadata": {},
   "source": [
    "<!-- END QUESTION -->\n",
    "\n",
    "\n",
    "\n",
    "The following table is based on a random sample conducted of high school seniors and\n",
    "their parents by Jennings and Niemi, in which they explore the party identification of\n",
    "parents and their children. "
   ]
  },
  {
   "cell_type": "markdown",
   "id": "60921a85",
   "metadata": {},
   "source": [
    "## Coding Application - Question 4:"
   ]
  },
  {
   "cell_type": "code",
   "execution_count": null,
   "id": "12ef8dd2",
   "metadata": {
    "slideshow": {
     "slide_type": ""
    },
    "tags": []
   },
   "outputs": [],
   "source": [
    "#Run this cell to generate the table\n",
    "respond_table <- as.table(cbind(c(604, 130,63),c(245, 235,180),c(67,76,252)))\n",
    "dimnames(respond_table) <- list(Parent_Party_ID = c('Democrat', 'Independent', 'Republican'),\n",
    "                                Child_Party_ID = c('Democrat', 'Independent', 'Republican')\n",
    "                                )\n",
    "respond_table"
   ]
  },
  {
   "cell_type": "markdown",
   "id": "959019cc",
   "metadata": {
    "deletable": false,
    "editable": false,
    "slideshow": {
     "slide_type": ""
    },
    "tags": []
   },
   "source": [
    "### Question 4a:\n",
    "Write the number of parents who's party id matches their kids.\n",
    "\n",
    "<!--\n",
    "BEGIN QUESTION\n",
    "name: q4a\n",
    "manual: false\n",
    "points: 2\n",
    "-->"
   ]
  },
  {
   "cell_type": "code",
   "execution_count": null,
   "id": "5c294fb2",
   "metadata": {
    "slideshow": {
     "slide_type": ""
    },
    "tags": []
   },
   "outputs": [],
   "source": [
    "## YOUR ANSWER HERE\n",
    "sample_size <- sum(respond_table) \n",
    "democrat_same <- 604 \n",
    "independent_same <- NULL # YOUR CODE HERE\n",
    "republican_same <- NULL # YOUR CODE HERE\n",
    "Total <- democrat_same + independent_same + republican_same"
   ]
  },
  {
   "cell_type": "markdown",
   "id": "a590624a",
   "metadata": {
    "deletable": false,
    "editable": false,
    "slideshow": {
     "slide_type": ""
    },
    "tags": []
   },
   "source": [
    "### Question 4b:\n",
    "What percentage of Democrat parents have Republican children?\n",
    "\n",
    "<!--\n",
    "BEGIN QUESTION\n",
    "name: q4b\n",
    "manual: false\n",
    "points: 1\n",
    "-->"
   ]
  },
  {
   "cell_type": "markdown",
   "id": "003f4cc9",
   "metadata": {
    "deletable": false,
    "editable": false
   },
   "source": [
    "Hint: dem_parent_rep_child <- .../sum(c(604,245,67))"
   ]
  },
  {
   "cell_type": "code",
   "execution_count": null,
   "id": "84e124e8",
   "metadata": {
    "slideshow": {
     "slide_type": ""
    },
    "tags": []
   },
   "outputs": [],
   "source": [
    "dem_parent_rep_child <- NULL # YOUR CODE HERE"
   ]
  },
  {
   "cell_type": "markdown",
   "id": "5efbb5cc",
   "metadata": {
    "deletable": false,
    "editable": false,
    "slideshow": {
     "slide_type": ""
    },
    "tags": []
   },
   "source": [
    "### Question 4c:\n",
    "Run a $\\chi^2$ test to determine if there is there a relationship between parent and child party ID in the population.\n",
    "\n",
    "<!--\n",
    "BEGIN QUESTION\n",
    "name: q4c\n",
    "manual: false\n",
    "points: 3\n",
    "-->"
   ]
  },
  {
   "cell_type": "markdown",
   "id": "142ffaa0",
   "metadata": {
    "deletable": false,
    "editable": false
   },
   "source": [
    "Hint: q4c.answer <- chisq.test(..., correct=FALSE)\n"
   ]
  },
  {
   "cell_type": "code",
   "execution_count": null,
   "id": "4e33b562",
   "metadata": {
    "slideshow": {
     "slide_type": ""
    },
    "tags": []
   },
   "outputs": [],
   "source": [
    "q4c.answer <- NULL # YOUR CODE HERE\n",
    "q4c.answer"
   ]
  },
  {
   "cell_type": "markdown",
   "id": "646d4c08",
   "metadata": {
    "deletable": false,
    "editable": false
   },
   "source": [
    "<!-- BEGIN QUESTION -->\n",
    "\n",
    "### Question 4d: \n",
    "Is there a relationship between between parent and child party ID in the population?\n",
    "\n",
    "<!--\n",
    "BEGIN QUESTION\n",
    "name: q4d\n",
    "manual: true\n",
    "points: 2\n",
    "-->"
   ]
  },
  {
   "cell_type": "markdown",
   "id": "3991c8a9",
   "metadata": {},
   "source": [
    "_Type your answer here, replacing this text._"
   ]
  },
  {
   "cell_type": "markdown",
   "id": "aead7a7c",
   "metadata": {},
   "source": [
    "<!-- END QUESTION -->\n",
    "\n",
    "\n",
    "\n",
    "<!-- END QUESTION -->\n",
    "\n",
    "\n",
    "\n",
    "-----\n",
    "## Saving Your Notebook\n",
    "\n",
    "Congratulations! You have now finished your first coding assignment. Well done!\n",
    "\n",
    "Before you head off to celebrate your work, you need to submit it before the deadline.\n",
    "\n",
    "To save the notebook, click <code>File</code> $\\rightarrow$ <code>Save Notebook </code> \n",
    "\n",
    "To download the notebook, click <code>File</code> $\\rightarrow$ <code>Download as</code> $\\rightarrow$ <code>Notebook(.ipynb)</code>\n",
    "\n",
    "Next, follow the instructions below under SUBMISSION to generate the zipfile that you will submit on Gradescope: \n",
    "\n",
    "https://www.gradescope.com/courses/820798\n"
   ]
  },
  {
   "cell_type": "markdown",
   "id": "05340d2a",
   "metadata": {
    "deletable": false,
    "editable": false
   },
   "source": [
    "## Submission\n",
    "\n",
    "Make sure you have run all cells in your notebook in order before running the cell below, so that all images/graphs appear in the output. The cell below will generate a zip file for you to submit. **Please save before exporting!**"
   ]
  },
  {
   "cell_type": "code",
   "execution_count": null,
   "id": "8efac25d",
   "metadata": {
    "deletable": false,
    "editable": false
   },
   "outputs": [],
   "source": [
    "# Save your notebook first, then run this cell to export your submission.\n",
    "ottr::export(\"Module_12_13_Homework.ipynb\", pdf = TRUE)"
   ]
  },
  {
   "cell_type": "markdown",
   "id": "8646b759",
   "metadata": {},
   "source": [
    " "
   ]
  }
 ],
 "metadata": {
  "kernelspec": {
   "display_name": "R",
   "language": "R",
   "name": "ir"
  },
  "language_info": {
   "codemirror_mode": "r",
   "file_extension": ".r",
   "mimetype": "text/x-r-source",
   "name": "R",
   "pygments_lexer": "r",
   "version": "4.4.0"
  }
 },
 "nbformat": 4,
 "nbformat_minor": 5
}
