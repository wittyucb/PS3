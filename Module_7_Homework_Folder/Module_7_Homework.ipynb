{
 "cells": [
  {
   "cell_type": "markdown",
   "id": "8ac8db84",
   "metadata": {},
   "source": [
    "## POLSCI 3 \n",
    "\n",
    "## Hypothesis Testing Homework\n",
    "\n",
    "In this homework we will review different methods of testing hypotheses. These methods depend on the kinds of data we are working with: categorical or numeric. To start, let's consider when we have just categorical variables."
   ]
  },
  {
   "cell_type": "markdown",
   "id": "5ee84ef1",
   "metadata": {},
   "source": [
    "## $\\chi^2$ Statistic"
   ]
  },
  {
   "cell_type": "markdown",
   "id": "3a8da8a5",
   "metadata": {
    "deletable": false,
    "editable": false
   },
   "source": [
    "<!-- BEGIN QUESTION -->\n",
    "\n",
    "### Question 1a:\n",
    "Before we begin, let's review: what is the purpose of calculating the $\\chi^2$ statistic?\n",
    "\n",
    "<!--\n",
    "BEGIN QUESTION\n",
    "name: q1a\n",
    "manual: true\n",
    "points: 1\n",
    "-->"
   ]
  },
  {
   "cell_type": "markdown",
   "id": "4f0157b9",
   "metadata": {},
   "source": [
    "_Type your answer here, replacing this text._"
   ]
  },
  {
   "cell_type": "markdown",
   "id": "d7806360",
   "metadata": {},
   "source": [
    "<!-- END QUESTION -->\n",
    "\n",
    "\n",
    "\n",
    "### Question 1b:"
   ]
  },
  {
   "cell_type": "markdown",
   "id": "b664e04a",
   "metadata": {},
   "source": [
    "In this example, we're going to use the relationship between union membership and 2016 presidential vote choice. Below, we have the results of a poll of voters who were asked about their preferred candidate and whether they were a union member. \n",
    "\n",
    "**Note:** Make sure to run the cell below to generate the table."
   ]
  },
  {
   "cell_type": "code",
   "execution_count": 1,
   "id": "7a845e3d",
   "metadata": {},
   "outputs": [
    {
     "data": {
      "text/plain": [
       "         membership\n",
       "candidate Not_Union Union\n",
       "  Clinton      1068   218\n",
       "  Trump        1019   157"
      ]
     },
     "metadata": {},
     "output_type": "display_data"
    }
   ],
   "source": [
    "respond_table <- as.table(cbind(c(1068, 1019),c (218, 157)))\n",
    "dimnames(respond_table) <- list(candidate = c(\"Clinton\",\"Trump\"),\n",
    "                                membership = c(\"Not_Union\",\"Union\")\n",
    "                                )\n",
    "respond_table"
   ]
  },
  {
   "cell_type": "markdown",
   "id": "acc4897e",
   "metadata": {
    "deletable": false,
    "editable": false
   },
   "source": [
    "<!-- BEGIN QUESTION -->\n",
    "\n",
    "What are your initial impressions of how the data are distributed?\n",
    "\n",
    "<!--\n",
    "BEGIN QUESTION\n",
    "name: q1b\n",
    "manual: true\n",
    "points: 1\n",
    "-->"
   ]
  },
  {
   "cell_type": "markdown",
   "id": "5becaa22",
   "metadata": {},
   "source": [
    "_Type your answer here, replacing this text._"
   ]
  },
  {
   "cell_type": "markdown",
   "id": "67643c45",
   "metadata": {
    "deletable": false,
    "editable": false
   },
   "source": [
    "<!-- END QUESTION -->\n",
    "\n",
    "### Question 1c:\n",
    "Now let's try using the <code> chisq.test </code> function we learned in the lecture notebook. Recall the first step when using this function is creating a contingency table. Remember, you need to fill in the \"...\" in the command below with the name of the table you are analyzing. \n",
    "\n",
    "<!--\n",
    "BEGIN QUESTION\n",
    "name: q1c\n",
    "manual: false\n",
    "points: 3\n",
    "-->"
   ]
  },
  {
   "cell_type": "code",
   "execution_count": 2,
   "id": "04540a18",
   "metadata": {},
   "outputs": [
    {
     "data": {
      "text/plain": [
       "\n",
       "\tPearson's Chi-squared test\n",
       "\n",
       "data:  respond_table\n",
       "X-squared = 6.1707, df = 1, p-value = 0.01299\n"
      ]
     },
     "metadata": {},
     "output_type": "display_data"
    }
   ],
   "source": [
    "## YOUR ANSWER HERE\n",
    "q1c.answer <- chisq.test(respond_table, correct=FALSE)\n",
    "q1c.answer"
   ]
  },
  {
   "cell_type": "code",
   "execution_count": 4,
   "id": "82260208",
   "metadata": {
    "deletable": false,
    "editable": false
   },
   "outputs": [
    {
     "name": "stdout",
     "output_type": "stream",
     "text": [
      "All tests passed!"
     ]
    }
   ],
   "source": [
    ". = ottr::check(\"tests/q1c.R\")"
   ]
  },
  {
   "cell_type": "markdown",
   "id": "039a1527",
   "metadata": {
    "deletable": false,
    "editable": false
   },
   "source": [
    "<!-- BEGIN QUESTION -->\n",
    "\n",
    "### Question 1d:\n",
    "What do these results tell you about the relationship between union membership and US presidential vote preference in 2016?\n",
    "\n",
    "<!--\n",
    "BEGIN QUESTION\n",
    "name: q1d\n",
    "manual: true\n",
    "points: 2\n",
    "-->"
   ]
  },
  {
   "cell_type": "markdown",
   "id": "05eb1d88",
   "metadata": {},
   "source": [
    "_Type your answer here, replacing this text._"
   ]
  },
  {
   "cell_type": "markdown",
   "id": "45e01aa8",
   "metadata": {},
   "source": [
    "<!-- END QUESTION -->\n",
    "\n",
    "\n",
    "\n",
    "## Difference of Means - Question 2\n",
    "Are democracies richer than autocracies? This can be tested with a difference in means test. To test this we will use the happiness_polity data that we introduced in the previous module. First let's read in the data and examine the code book:"
   ]
  },
  {
   "cell_type": "code",
   "execution_count": 5,
   "id": "81a06f48",
   "metadata": {},
   "outputs": [
    {
     "data": {
      "text/html": [
       "<table class=\"dataframe\">\n",
       "<caption>A data.frame: 6 × 9</caption>\n",
       "<thead>\n",
       "\t<tr><th></th><th scope=col>countryname</th><th scope=col>polity2</th><th scope=col>polity2_cat</th><th scope=col>gdpcapita</th><th scope=col>gdpcapita_cat</th><th scope=col>happiness</th><th scope=col>happiness_cat</th><th scope=col>life_expectancy</th><th scope=col>life_expectancy_cat</th></tr>\n",
       "\t<tr><th></th><th scope=col>&lt;chr&gt;</th><th scope=col>&lt;int&gt;</th><th scope=col>&lt;chr&gt;</th><th scope=col>&lt;dbl&gt;</th><th scope=col>&lt;chr&gt;</th><th scope=col>&lt;dbl&gt;</th><th scope=col>&lt;chr&gt;</th><th scope=col>&lt;dbl&gt;</th><th scope=col>&lt;chr&gt;</th></tr>\n",
       "</thead>\n",
       "<tbody>\n",
       "\t<tr><th scope=row>1</th><td>Afghanistan</td><td>-1</td><td>anocracies </td><td> 2190.751</td><td>low-income   </td><td>2.694</td><td>least happy     </td><td>52.6</td><td>shortest lives</td></tr>\n",
       "\t<tr><th scope=row>2</th><td>Albania    </td><td> 9</td><td>democracies</td><td>13602.374</td><td>middle-income</td><td>5.004</td><td>middle happiness</td><td>68.7</td><td>middle        </td></tr>\n",
       "\t<tr><th scope=row>3</th><td>Algeria    </td><td> 2</td><td>anocracies </td><td>11475.844</td><td>middle-income</td><td>5.043</td><td>middle happiness</td><td>65.9</td><td>middle        </td></tr>\n",
       "\t<tr><th scope=row>4</th><td>Argentina  </td><td> 9</td><td>democracies</td><td>22742.701</td><td>middle-income</td><td>5.793</td><td>middle happiness</td><td>68.8</td><td>middle        </td></tr>\n",
       "\t<tr><th scope=row>5</th><td>Armenia    </td><td> 7</td><td>democracies</td><td>12720.883</td><td>middle-income</td><td>5.062</td><td>middle happiness</td><td>66.9</td><td>middle        </td></tr>\n",
       "\t<tr><th scope=row>6</th><td>Australia  </td><td>10</td><td>democracies</td><td>49563.000</td><td>rich         </td><td>7.177</td><td>most happy      </td><td>73.6</td><td>longest lives </td></tr>\n",
       "</tbody>\n",
       "</table>\n"
      ],
      "text/latex": [
       "A data.frame: 6 × 9\n",
       "\\begin{tabular}{r|lllllllll}\n",
       "  & countryname & polity2 & polity2\\_cat & gdpcapita & gdpcapita\\_cat & happiness & happiness\\_cat & life\\_expectancy & life\\_expectancy\\_cat\\\\\n",
       "  & <chr> & <int> & <chr> & <dbl> & <chr> & <dbl> & <chr> & <dbl> & <chr>\\\\\n",
       "\\hline\n",
       "\t1 & Afghanistan & -1 & anocracies  &  2190.751 & low-income    & 2.694 & least happy      & 52.6 & shortest lives\\\\\n",
       "\t2 & Albania     &  9 & democracies & 13602.374 & middle-income & 5.004 & middle happiness & 68.7 & middle        \\\\\n",
       "\t3 & Algeria     &  2 & anocracies  & 11475.844 & middle-income & 5.043 & middle happiness & 65.9 & middle        \\\\\n",
       "\t4 & Argentina   &  9 & democracies & 22742.701 & middle-income & 5.793 & middle happiness & 68.8 & middle        \\\\\n",
       "\t5 & Armenia     &  7 & democracies & 12720.883 & middle-income & 5.062 & middle happiness & 66.9 & middle        \\\\\n",
       "\t6 & Australia   & 10 & democracies & 49563.000 & rich          & 7.177 & most happy       & 73.6 & longest lives \\\\\n",
       "\\end{tabular}\n"
      ],
      "text/markdown": [
       "\n",
       "A data.frame: 6 × 9\n",
       "\n",
       "| <!--/--> | countryname &lt;chr&gt; | polity2 &lt;int&gt; | polity2_cat &lt;chr&gt; | gdpcapita &lt;dbl&gt; | gdpcapita_cat &lt;chr&gt; | happiness &lt;dbl&gt; | happiness_cat &lt;chr&gt; | life_expectancy &lt;dbl&gt; | life_expectancy_cat &lt;chr&gt; |\n",
       "|---|---|---|---|---|---|---|---|---|---|\n",
       "| 1 | Afghanistan | -1 | anocracies  |  2190.751 | low-income    | 2.694 | least happy      | 52.6 | shortest lives |\n",
       "| 2 | Albania     |  9 | democracies | 13602.374 | middle-income | 5.004 | middle happiness | 68.7 | middle         |\n",
       "| 3 | Algeria     |  2 | anocracies  | 11475.844 | middle-income | 5.043 | middle happiness | 65.9 | middle         |\n",
       "| 4 | Argentina   |  9 | democracies | 22742.701 | middle-income | 5.793 | middle happiness | 68.8 | middle         |\n",
       "| 5 | Armenia     |  7 | democracies | 12720.883 | middle-income | 5.062 | middle happiness | 66.9 | middle         |\n",
       "| 6 | Australia   | 10 | democracies | 49563.000 | rich          | 7.177 | most happy       | 73.6 | longest lives  |\n",
       "\n"
      ],
      "text/plain": [
       "  countryname polity2 polity2_cat gdpcapita gdpcapita_cat happiness\n",
       "1 Afghanistan -1      anocracies   2190.751 low-income    2.694    \n",
       "2 Albania      9      democracies 13602.374 middle-income 5.004    \n",
       "3 Algeria      2      anocracies  11475.844 middle-income 5.043    \n",
       "4 Argentina    9      democracies 22742.701 middle-income 5.793    \n",
       "5 Armenia      7      democracies 12720.883 middle-income 5.062    \n",
       "6 Australia   10      democracies 49563.000 rich          7.177    \n",
       "  happiness_cat    life_expectancy life_expectancy_cat\n",
       "1 least happy      52.6            shortest lives     \n",
       "2 middle happiness 68.7            middle             \n",
       "3 middle happiness 65.9            middle             \n",
       "4 middle happiness 68.8            middle             \n",
       "5 middle happiness 66.9            middle             \n",
       "6 most happy       73.6            longest lives      "
      ]
     },
     "metadata": {},
     "output_type": "display_data"
    }
   ],
   "source": [
    "happiness_data <- read.csv('happiness_polity_2018.csv')\n",
    "head(happiness_data)"
   ]
  },
  {
   "cell_type": "markdown",
   "id": "44c504ed",
   "metadata": {},
   "source": [
    "This dataset contains data from countries around the world in terms of factors such as happiness levels, \n",
    "political categories, and demographic information. Here's a codebook:\n",
    "\n",
    "<code>polity2</code>: The \"Polity Score\" of the country, which measures its political system on a 21-pont scale \n",
    "ranging from -10 (hereditary monarchy) to +10 (consolidated democracy).\n",
    "\n",
    "<code>polity2_cat</code>: The political category the country is identified within. \"autocracies\" are on one end of \n",
    "the spectrum, \"anocracies\" are in the middle (semi-democracies), and \"democracies\" are at the top of the spectrum.\n",
    "\n",
    "<code>gdpcapita</code>: GDP per Capita (economic output per person)\n",
    "\n",
    "<code>gdpcapita_cat</code>: GDP/income category that the country falls into (based on GDP per capita)\n",
    "\n",
    "<code>happiness</code>: The country's happiness index, measured through surveys that require participants to rank \n",
    "their level of happiness based on an assortment of quality-of-life factors\n",
    "\n",
    "<code>happiness_cat</code>: Happiness category that the country falls into (based on happpiness indicator)\n",
    "\n",
    "<code>life_expectancy</code>: Average life expectancy in years\n",
    "\n",
    "<code>life_expectancy_cat</code>: Life Expectancy category that the country falls into"
   ]
  },
  {
   "cell_type": "markdown",
   "id": "b0da33cb",
   "metadata": {},
   "source": [
    "Next we need to create two subsets of the data, one for democracies and one for autocracies:"
   ]
  },
  {
   "cell_type": "code",
   "execution_count": 6,
   "id": "24c6ddb4",
   "metadata": {},
   "outputs": [
    {
     "data": {
      "text/html": [
       "<table class=\"dataframe\">\n",
       "<caption>A data.frame: 6 × 9</caption>\n",
       "<thead>\n",
       "\t<tr><th></th><th scope=col>countryname</th><th scope=col>polity2</th><th scope=col>polity2_cat</th><th scope=col>gdpcapita</th><th scope=col>gdpcapita_cat</th><th scope=col>happiness</th><th scope=col>happiness_cat</th><th scope=col>life_expectancy</th><th scope=col>life_expectancy_cat</th></tr>\n",
       "\t<tr><th></th><th scope=col>&lt;chr&gt;</th><th scope=col>&lt;int&gt;</th><th scope=col>&lt;chr&gt;</th><th scope=col>&lt;dbl&gt;</th><th scope=col>&lt;chr&gt;</th><th scope=col>&lt;dbl&gt;</th><th scope=col>&lt;chr&gt;</th><th scope=col>&lt;dbl&gt;</th><th scope=col>&lt;chr&gt;</th></tr>\n",
       "</thead>\n",
       "<tbody>\n",
       "\t<tr><th scope=row>8</th><td>Azerbaijan</td><td>-7</td><td>autocracies</td><td>14214.250</td><td>middle-income</td><td>5.168</td><td>middle happiness</td><td>65.5</td><td>middle        </td></tr>\n",
       "\t<tr><th scope=row>9</th><td>Bangladesh</td><td>-6</td><td>autocracies</td><td> 4442.623</td><td>low-income   </td><td>4.499</td><td>least happy     </td><td>64.3</td><td>middle        </td></tr>\n",
       "\t<tr><th scope=row>10</th><td>Belarus   </td><td>-7</td><td>autocracies</td><td>18882.668</td><td>middle-income</td><td>5.234</td><td>middle happiness</td><td>66.1</td><td>middle        </td></tr>\n",
       "\t<tr><th scope=row>24</th><td>China     </td><td>-7</td><td>autocracies</td><td>15244.895</td><td>middle-income</td><td>5.131</td><td>middle happiness</td><td>69.3</td><td>longest lives </td></tr>\n",
       "\t<tr><th scope=row>61</th><td>Kazakhstan</td><td>-6</td><td>autocracies</td><td>25539.965</td><td>middle-income</td><td>6.008</td><td>middle happiness</td><td>64.6</td><td>middle        </td></tr>\n",
       "\t<tr><th scope=row>65</th><td>Laos      </td><td>-7</td><td>autocracies</td><td> 7593.140</td><td>middle-income</td><td>4.859</td><td>middle happiness</td><td>58.7</td><td>shortest lives</td></tr>\n",
       "</tbody>\n",
       "</table>\n"
      ],
      "text/latex": [
       "A data.frame: 6 × 9\n",
       "\\begin{tabular}{r|lllllllll}\n",
       "  & countryname & polity2 & polity2\\_cat & gdpcapita & gdpcapita\\_cat & happiness & happiness\\_cat & life\\_expectancy & life\\_expectancy\\_cat\\\\\n",
       "  & <chr> & <int> & <chr> & <dbl> & <chr> & <dbl> & <chr> & <dbl> & <chr>\\\\\n",
       "\\hline\n",
       "\t8 & Azerbaijan & -7 & autocracies & 14214.250 & middle-income & 5.168 & middle happiness & 65.5 & middle        \\\\\n",
       "\t9 & Bangladesh & -6 & autocracies &  4442.623 & low-income    & 4.499 & least happy      & 64.3 & middle        \\\\\n",
       "\t10 & Belarus    & -7 & autocracies & 18882.668 & middle-income & 5.234 & middle happiness & 66.1 & middle        \\\\\n",
       "\t24 & China      & -7 & autocracies & 15244.895 & middle-income & 5.131 & middle happiness & 69.3 & longest lives \\\\\n",
       "\t61 & Kazakhstan & -6 & autocracies & 25539.965 & middle-income & 6.008 & middle happiness & 64.6 & middle        \\\\\n",
       "\t65 & Laos       & -7 & autocracies &  7593.140 & middle-income & 4.859 & middle happiness & 58.7 & shortest lives\\\\\n",
       "\\end{tabular}\n"
      ],
      "text/markdown": [
       "\n",
       "A data.frame: 6 × 9\n",
       "\n",
       "| <!--/--> | countryname &lt;chr&gt; | polity2 &lt;int&gt; | polity2_cat &lt;chr&gt; | gdpcapita &lt;dbl&gt; | gdpcapita_cat &lt;chr&gt; | happiness &lt;dbl&gt; | happiness_cat &lt;chr&gt; | life_expectancy &lt;dbl&gt; | life_expectancy_cat &lt;chr&gt; |\n",
       "|---|---|---|---|---|---|---|---|---|---|\n",
       "| 8 | Azerbaijan | -7 | autocracies | 14214.250 | middle-income | 5.168 | middle happiness | 65.5 | middle         |\n",
       "| 9 | Bangladesh | -6 | autocracies |  4442.623 | low-income    | 4.499 | least happy      | 64.3 | middle         |\n",
       "| 10 | Belarus    | -7 | autocracies | 18882.668 | middle-income | 5.234 | middle happiness | 66.1 | middle         |\n",
       "| 24 | China      | -7 | autocracies | 15244.895 | middle-income | 5.131 | middle happiness | 69.3 | longest lives  |\n",
       "| 61 | Kazakhstan | -6 | autocracies | 25539.965 | middle-income | 6.008 | middle happiness | 64.6 | middle         |\n",
       "| 65 | Laos       | -7 | autocracies |  7593.140 | middle-income | 4.859 | middle happiness | 58.7 | shortest lives |\n",
       "\n"
      ],
      "text/plain": [
       "   countryname polity2 polity2_cat gdpcapita gdpcapita_cat happiness\n",
       "8  Azerbaijan  -7      autocracies 14214.250 middle-income 5.168    \n",
       "9  Bangladesh  -6      autocracies  4442.623 low-income    4.499    \n",
       "10 Belarus     -7      autocracies 18882.668 middle-income 5.234    \n",
       "24 China       -7      autocracies 15244.895 middle-income 5.131    \n",
       "61 Kazakhstan  -6      autocracies 25539.965 middle-income 6.008    \n",
       "65 Laos        -7      autocracies  7593.140 middle-income 4.859    \n",
       "   happiness_cat    life_expectancy life_expectancy_cat\n",
       "8  middle happiness 65.5            middle             \n",
       "9  least happy      64.3            middle             \n",
       "10 middle happiness 66.1            middle             \n",
       "24 middle happiness 69.3            longest lives      \n",
       "61 middle happiness 64.6            middle             \n",
       "65 middle happiness 58.7            shortest lives     "
      ]
     },
     "metadata": {},
     "output_type": "display_data"
    },
    {
     "data": {
      "text/html": [
       "<table class=\"dataframe\">\n",
       "<caption>A data.frame: 6 × 9</caption>\n",
       "<thead>\n",
       "\t<tr><th></th><th scope=col>countryname</th><th scope=col>polity2</th><th scope=col>polity2_cat</th><th scope=col>gdpcapita</th><th scope=col>gdpcapita_cat</th><th scope=col>happiness</th><th scope=col>happiness_cat</th><th scope=col>life_expectancy</th><th scope=col>life_expectancy_cat</th></tr>\n",
       "\t<tr><th></th><th scope=col>&lt;chr&gt;</th><th scope=col>&lt;int&gt;</th><th scope=col>&lt;chr&gt;</th><th scope=col>&lt;dbl&gt;</th><th scope=col>&lt;chr&gt;</th><th scope=col>&lt;dbl&gt;</th><th scope=col>&lt;chr&gt;</th><th scope=col>&lt;dbl&gt;</th><th scope=col>&lt;chr&gt;</th></tr>\n",
       "</thead>\n",
       "<tbody>\n",
       "\t<tr><th scope=row>2</th><td>Albania  </td><td> 9</td><td>democracies</td><td>13602.37</td><td>middle-income</td><td>5.004</td><td>middle happiness</td><td>68.7</td><td>middle       </td></tr>\n",
       "\t<tr><th scope=row>4</th><td>Argentina</td><td> 9</td><td>democracies</td><td>22742.70</td><td>middle-income</td><td>5.793</td><td>middle happiness</td><td>68.8</td><td>middle       </td></tr>\n",
       "\t<tr><th scope=row>5</th><td>Armenia  </td><td> 7</td><td>democracies</td><td>12720.88</td><td>middle-income</td><td>5.062</td><td>middle happiness</td><td>66.9</td><td>middle       </td></tr>\n",
       "\t<tr><th scope=row>6</th><td>Australia</td><td>10</td><td>democracies</td><td>49563.00</td><td>rich         </td><td>7.177</td><td>most happy      </td><td>73.6</td><td>longest lives</td></tr>\n",
       "\t<tr><th scope=row>7</th><td>Austria  </td><td>10</td><td>democracies</td><td>55714.77</td><td>rich         </td><td>7.396</td><td>most happy      </td><td>73.0</td><td>longest lives</td></tr>\n",
       "\t<tr><th scope=row>11</th><td>Belgium  </td><td> 8</td><td>democracies</td><td>51225.86</td><td>rich         </td><td>6.892</td><td>most happy      </td><td>72.0</td><td>longest lives</td></tr>\n",
       "</tbody>\n",
       "</table>\n"
      ],
      "text/latex": [
       "A data.frame: 6 × 9\n",
       "\\begin{tabular}{r|lllllllll}\n",
       "  & countryname & polity2 & polity2\\_cat & gdpcapita & gdpcapita\\_cat & happiness & happiness\\_cat & life\\_expectancy & life\\_expectancy\\_cat\\\\\n",
       "  & <chr> & <int> & <chr> & <dbl> & <chr> & <dbl> & <chr> & <dbl> & <chr>\\\\\n",
       "\\hline\n",
       "\t2 & Albania   &  9 & democracies & 13602.37 & middle-income & 5.004 & middle happiness & 68.7 & middle       \\\\\n",
       "\t4 & Argentina &  9 & democracies & 22742.70 & middle-income & 5.793 & middle happiness & 68.8 & middle       \\\\\n",
       "\t5 & Armenia   &  7 & democracies & 12720.88 & middle-income & 5.062 & middle happiness & 66.9 & middle       \\\\\n",
       "\t6 & Australia & 10 & democracies & 49563.00 & rich          & 7.177 & most happy       & 73.6 & longest lives\\\\\n",
       "\t7 & Austria   & 10 & democracies & 55714.77 & rich          & 7.396 & most happy       & 73.0 & longest lives\\\\\n",
       "\t11 & Belgium   &  8 & democracies & 51225.86 & rich          & 6.892 & most happy       & 72.0 & longest lives\\\\\n",
       "\\end{tabular}\n"
      ],
      "text/markdown": [
       "\n",
       "A data.frame: 6 × 9\n",
       "\n",
       "| <!--/--> | countryname &lt;chr&gt; | polity2 &lt;int&gt; | polity2_cat &lt;chr&gt; | gdpcapita &lt;dbl&gt; | gdpcapita_cat &lt;chr&gt; | happiness &lt;dbl&gt; | happiness_cat &lt;chr&gt; | life_expectancy &lt;dbl&gt; | life_expectancy_cat &lt;chr&gt; |\n",
       "|---|---|---|---|---|---|---|---|---|---|\n",
       "| 2 | Albania   |  9 | democracies | 13602.37 | middle-income | 5.004 | middle happiness | 68.7 | middle        |\n",
       "| 4 | Argentina |  9 | democracies | 22742.70 | middle-income | 5.793 | middle happiness | 68.8 | middle        |\n",
       "| 5 | Armenia   |  7 | democracies | 12720.88 | middle-income | 5.062 | middle happiness | 66.9 | middle        |\n",
       "| 6 | Australia | 10 | democracies | 49563.00 | rich          | 7.177 | most happy       | 73.6 | longest lives |\n",
       "| 7 | Austria   | 10 | democracies | 55714.77 | rich          | 7.396 | most happy       | 73.0 | longest lives |\n",
       "| 11 | Belgium   |  8 | democracies | 51225.86 | rich          | 6.892 | most happy       | 72.0 | longest lives |\n",
       "\n"
      ],
      "text/plain": [
       "   countryname polity2 polity2_cat gdpcapita gdpcapita_cat happiness\n",
       "2  Albania      9      democracies 13602.37  middle-income 5.004    \n",
       "4  Argentina    9      democracies 22742.70  middle-income 5.793    \n",
       "5  Armenia      7      democracies 12720.88  middle-income 5.062    \n",
       "6  Australia   10      democracies 49563.00  rich          7.177    \n",
       "7  Austria     10      democracies 55714.77  rich          7.396    \n",
       "11 Belgium      8      democracies 51225.86  rich          6.892    \n",
       "   happiness_cat    life_expectancy life_expectancy_cat\n",
       "2  middle happiness 68.7            middle             \n",
       "4  middle happiness 68.8            middle             \n",
       "5  middle happiness 66.9            middle             \n",
       "6  most happy       73.6            longest lives      \n",
       "7  most happy       73.0            longest lives      \n",
       "11 most happy       72.0            longest lives      "
      ]
     },
     "metadata": {},
     "output_type": "display_data"
    }
   ],
   "source": [
    "autocracies<-subset(happiness_data,polity2_cat==\"autocracies\")\n",
    "democracies<-subset(happiness_data,polity2_cat==\"democracies\")\n",
    "head(autocracies)\n",
    "head(democracies)"
   ]
  },
  {
   "cell_type": "markdown",
   "id": "938333c3",
   "metadata": {
    "deletable": false,
    "editable": false
   },
   "source": [
    "### Question 2a:\n",
    "In the following cell type the code to find the `mean` GDP Per Capita for democracies and autocracies.\n",
    "\n",
    "<!--\n",
    "BEGIN QUESTION\n",
    "name: q2a\n",
    "manual: false\n",
    "points: 2\n",
    "-->"
   ]
  },
  {
   "cell_type": "code",
   "execution_count": 8,
   "id": "7b5055ea",
   "metadata": {},
   "outputs": [
    {
     "data": {
      "text/html": [
       "19857.5337583333"
      ],
      "text/latex": [
       "19857.5337583333"
      ],
      "text/markdown": [
       "19857.5337583333"
      ],
      "text/plain": [
       "[1] 19857.53"
      ]
     },
     "metadata": {},
     "output_type": "display_data"
    }
   ],
   "source": [
    "mean(autocracies$gdpcapita)"
   ]
  },
  {
   "cell_type": "code",
   "execution_count": 8,
   "id": "7114ba72",
   "metadata": {},
   "outputs": [
    {
     "data": {
      "text/html": [
       "<style>\n",
       ".list-inline {list-style: none; margin:0; padding: 0}\n",
       ".list-inline>li {display: inline-block}\n",
       ".list-inline>li:not(:last-child)::after {content: \"\\00b7\"; padding: 0 .5ex}\n",
       "</style>\n",
       "<ol class=list-inline><li>19857.5337583333</li><li>26029.7066564706</li></ol>\n"
      ],
      "text/latex": [
       "\\begin{enumerate*}\n",
       "\\item 19857.5337583333\n",
       "\\item 26029.7066564706\n",
       "\\end{enumerate*}\n"
      ],
      "text/markdown": [
       "1. 19857.5337583333\n",
       "2. 26029.7066564706\n",
       "\n",
       "\n"
      ],
      "text/plain": [
       "[1] 19857.53 26029.71"
      ]
     },
     "metadata": {},
     "output_type": "display_data"
    }
   ],
   "source": [
    "## YOUR ANSWER HERE\n",
    "mean.autocracies <- mean(autocracies$gdpcapita)               # Fill in the ... with the appropriate code\n",
    "mean.democracies <- mean(democracies$gdpcapita)   \n",
    "q2a.answer <- c(mean.autocracies,mean.democracies)\n",
    "q2a.answer"
   ]
  },
  {
   "cell_type": "code",
   "execution_count": null,
   "id": "6570143d",
   "metadata": {},
   "outputs": [],
   "source": []
  },
  {
   "cell_type": "code",
   "execution_count": 9,
   "id": "3a8c8c8e",
   "metadata": {
    "deletable": false,
    "editable": false
   },
   "outputs": [
    {
     "name": "stdout",
     "output_type": "stream",
     "text": [
      "All tests passed!"
     ]
    }
   ],
   "source": [
    ". = ottr::check(\"tests/q2a.R\")"
   ]
  },
  {
   "cell_type": "markdown",
   "id": "28c955d2",
   "metadata": {
    "deletable": false,
    "editable": false
   },
   "source": [
    "### Question 2b:\n",
    "Now let's assume we are working with random samples, and determine whether there is sufficient evidence of different GDP per capitas in our samples to warrant making any conclusion about the population of autocracies and democracies:\n",
    "\n",
    "<!--\n",
    "BEGIN QUESTION\n",
    "name: q2b\n",
    "manual: false\n",
    "points: 2\n",
    "-->"
   ]
  },
  {
   "cell_type": "code",
   "execution_count": 11,
   "id": "851a58d3",
   "metadata": {},
   "outputs": [
    {
     "data": {
      "text/plain": [
       "\n",
       "\tWelch Two Sample t-test\n",
       "\n",
       "data:  autocracies$gdpcapita and democracies$gdpcapita\n",
       "t = -1.0404, df = 15.238, p-value = 0.3144\n",
       "alternative hypothesis: true difference in means is not equal to 0\n",
       "95 percent confidence interval:\n",
       " -18799.863   6455.517\n",
       "sample estimates:\n",
       "mean of x mean of y \n",
       " 19857.53  26029.71 \n"
      ]
     },
     "metadata": {},
     "output_type": "display_data"
    }
   ],
   "source": [
    "## YOUR ANSWER HERE\n",
    "q2b.answer <- t.test(autocracies$gdpcapita,democracies$gdpcapita)            # Fill in the ... with the appropriate code   \n",
    "q2b.answer"
   ]
  },
  {
   "cell_type": "code",
   "execution_count": 12,
   "id": "cbb2c093",
   "metadata": {
    "deletable": false,
    "editable": false
   },
   "outputs": [
    {
     "name": "stdout",
     "output_type": "stream",
     "text": [
      "All tests passed!"
     ]
    }
   ],
   "source": [
    ". = ottr::check(\"tests/q2b.R\")"
   ]
  },
  {
   "cell_type": "markdown",
   "id": "c04cb1d0",
   "metadata": {
    "deletable": false,
    "editable": false
   },
   "source": [
    "<!-- BEGIN QUESTION -->\n",
    "\n",
    "### Question 2c:\n",
    "What do you conclude about the population difference in GDP per capita between autocracies and democracies? Can we establish a causal relationship between GDP per capita and regime type?\n",
    "\n",
    "<!--\n",
    "BEGIN QUESTION\n",
    "name: q1d\n",
    "manual: true\n",
    "points: 3\n",
    "-->"
   ]
  },
  {
   "cell_type": "markdown",
   "id": "3bae6215",
   "metadata": {},
   "source": [
    "_Type your answer here, replacing this text._"
   ]
  },
  {
   "cell_type": "markdown",
   "id": "3163b602",
   "metadata": {},
   "source": [
    "<!-- END QUESTION -->\n",
    "\n",
    "\n",
    "\n",
    "## Short Answer - Question 3 \n",
    "#### True or False, with a one sentence justification for each:"
   ]
  },
  {
   "cell_type": "markdown",
   "id": "4abf96e0",
   "metadata": {
    "deletable": false,
    "editable": false
   },
   "source": [
    "<!-- BEGIN QUESTION -->\n",
    "\n",
    "**a)** Only a very small (&lt;5) percentage of measurements can be more than 2 standard\n",
    "deviations from the mean of the normal distribution.\n",
    "\n",
    "<!--\n",
    "BEGIN QUESTION\n",
    "name: q3a\n",
    "manual: true\n",
    "points: 2\n",
    "-->"
   ]
  },
  {
   "cell_type": "markdown",
   "id": "10e7abb1",
   "metadata": {},
   "source": [
    "_Type your answer here, replacing this text._"
   ]
  },
  {
   "cell_type": "markdown",
   "id": "55e56ee6",
   "metadata": {
    "deletable": false,
    "editable": false
   },
   "source": [
    "<!-- END QUESTION -->\n",
    "\n",
    "<!-- BEGIN QUESTION -->\n",
    "\n",
    "**b)** Only a very small (&lt;5) percentage of measurements can be more than 2 standard\n",
    "deviations from the mean of the any distribution.\n",
    "\n",
    "<!--\n",
    "BEGIN QUESTION\n",
    "name: q3b\n",
    "manual: true\n",
    "points: 2\n",
    "-->"
   ]
  },
  {
   "cell_type": "markdown",
   "id": "b7d3d5c1",
   "metadata": {},
   "source": [
    "_Type your answer here, replacing this text._"
   ]
  },
  {
   "cell_type": "markdown",
   "id": "c64fc5e8",
   "metadata": {
    "deletable": false,
    "editable": false
   },
   "source": [
    "<!-- END QUESTION -->\n",
    "\n",
    "<!-- BEGIN QUESTION -->\n",
    "\n",
    "**c)** If we would reject a null hypothesis at the 5% level, we would also reject it at the 1%\n",
    "level.\n",
    "\n",
    "<!--\n",
    "BEGIN QUESTION\n",
    "name: q3c\n",
    "manual: true\n",
    "points: 2\n",
    "-->"
   ]
  },
  {
   "cell_type": "markdown",
   "id": "961d8576",
   "metadata": {},
   "source": [
    "_Type your answer here, replacing this text._"
   ]
  },
  {
   "cell_type": "markdown",
   "id": "27a2d472",
   "metadata": {
    "deletable": false,
    "editable": false
   },
   "source": [
    "<!-- END QUESTION -->\n",
    "\n",
    "<!-- BEGIN QUESTION -->\n",
    "\n",
    "**d)** If we would reject a null hypothesis at the 1% level, we would also reject it at the 5%\n",
    "level.\n",
    "\n",
    "<!--\n",
    "BEGIN QUESTION\n",
    "name: q3d\n",
    "manual: true\n",
    "points: 2\n",
    "-->"
   ]
  },
  {
   "cell_type": "markdown",
   "id": "0a921a65",
   "metadata": {},
   "source": [
    "_Type your answer here, replacing this text._"
   ]
  },
  {
   "cell_type": "markdown",
   "id": "0a28d237",
   "metadata": {
    "deletable": false,
    "editable": false
   },
   "source": [
    "<!-- END QUESTION -->\n",
    "\n",
    "<!-- BEGIN QUESTION -->\n",
    "\n",
    "**e)** The p-value, which is the Type I error rate, is chosen by the investigator before a\n",
    "hypothesis test is conducted.\n",
    "\n",
    "<!--\n",
    "BEGIN QUESTION\n",
    "name: q3e\n",
    "manual: true\n",
    "points: 2\n",
    "-->"
   ]
  },
  {
   "cell_type": "markdown",
   "id": "e67775ce",
   "metadata": {},
   "source": [
    "_Type your answer here, replacing this text._"
   ]
  },
  {
   "cell_type": "markdown",
   "id": "f39873b2",
   "metadata": {},
   "source": [
    "<!-- END QUESTION -->\n",
    "\n",
    "\n",
    "\n",
    "The following table is based on a random sample conducted of high school seniors and\n",
    "their parents by Jennings and Niemi, in which they explore the party identification of\n",
    "parents and their children. "
   ]
  },
  {
   "cell_type": "markdown",
   "id": "60921a85",
   "metadata": {},
   "source": [
    "## Coding Application - Question 4:"
   ]
  },
  {
   "cell_type": "code",
   "execution_count": 6,
   "id": "12ef8dd2",
   "metadata": {},
   "outputs": [],
   "source": [
    "#Run this cell to generate the table\n",
    "respond_table <- as.table(cbind(c(604, 130,63),c(245, 235,180),c(67,76,252)))\n",
    "dimnames(respond_table) <- list(Parent_Party_ID = c('Democrat', 'Independent', 'Republican'),\n",
    "                                Child_Party_ID = c('Democrat', 'Independent', 'Republican')\n",
    "                                )\n",
    "respond_table"
   ]
  },
  {
   "cell_type": "markdown",
   "id": "959019cc",
   "metadata": {
    "deletable": false,
    "editable": false
   },
   "source": [
    "### Question 4a:\n",
    "Write the number of parents who's party id matches their kids.\n",
    "\n",
    "<!--\n",
    "BEGIN QUESTION\n",
    "name: q4a\n",
    "manual: false\n",
    "points: 2\n",
    "-->"
   ]
  },
  {
   "cell_type": "code",
   "execution_count": 34,
   "id": "5c294fb2",
   "metadata": {},
   "outputs": [],
   "source": [
    "## YOUR ANSWER HERE\n",
    "sample_size <- sum(respond_table)\n",
    "democrat_same <- 604\n",
    "independent_same <- ...\n",
    "republican_same <- ...\n",
    "Total <- democrat_same + independent_same + republican_same"
   ]
  },
  {
   "cell_type": "code",
   "execution_count": null,
   "id": "8b5a916e",
   "metadata": {
    "deletable": false,
    "editable": false
   },
   "outputs": [],
   "source": [
    ". = ottr::check(\"tests/q4a.R\")"
   ]
  },
  {
   "cell_type": "markdown",
   "id": "a590624a",
   "metadata": {
    "deletable": false,
    "editable": false
   },
   "source": [
    "### Question 4b:\n",
    "What percentage of Democrat parents have Republican children?\n",
    "\n",
    "<!--\n",
    "BEGIN QUESTION\n",
    "name: q4b\n",
    "manual: false\n",
    "points: 1\n",
    "-->"
   ]
  },
  {
   "cell_type": "code",
   "execution_count": 37,
   "id": "84e124e8",
   "metadata": {},
   "outputs": [],
   "source": [
    "## YOUR ANSWER HERE\n",
    "dem_parent_rep_child <- .../sum(c(604,245,67))           # Fill in the ... with the appropriate code   \n",
    "dem_parent_rep_child"
   ]
  },
  {
   "cell_type": "code",
   "execution_count": null,
   "id": "65762666",
   "metadata": {
    "deletable": false,
    "editable": false
   },
   "outputs": [],
   "source": [
    ". = ottr::check(\"tests/q4b.R\")"
   ]
  },
  {
   "cell_type": "markdown",
   "id": "5efbb5cc",
   "metadata": {
    "deletable": false,
    "editable": false
   },
   "source": [
    "### Question 4c:\n",
    "Run a $\\chi^2$ test to determine if there is there a relationship between parent and child party ID in the population.\n",
    "\n",
    "<!--\n",
    "BEGIN QUESTION\n",
    "name: q4c\n",
    "manual: false\n",
    "points: 3\n",
    "-->"
   ]
  },
  {
   "cell_type": "code",
   "execution_count": 40,
   "id": "4e33b562",
   "metadata": {},
   "outputs": [],
   "source": [
    "## YOUR ANSWER HERE\n",
    "q4c.answer <- chisq.test(..., correct=FALSE)\n",
    "q4c.answer"
   ]
  },
  {
   "cell_type": "code",
   "execution_count": null,
   "id": "467fc351",
   "metadata": {
    "deletable": false,
    "editable": false
   },
   "outputs": [],
   "source": [
    ". = ottr::check(\"tests/q4c.R\")"
   ]
  },
  {
   "cell_type": "markdown",
   "id": "646d4c08",
   "metadata": {
    "deletable": false,
    "editable": false
   },
   "source": [
    "<!-- BEGIN QUESTION -->\n",
    "\n",
    "### Question 4d: \n",
    "Is there a relationship between between parent and child party ID in the population?\n",
    "\n",
    "<!--\n",
    "BEGIN QUESTION\n",
    "name: q4d\n",
    "manual: true\n",
    "points: 2\n",
    "-->"
   ]
  },
  {
   "cell_type": "markdown",
   "id": "3991c8a9",
   "metadata": {},
   "source": [
    "_Type your answer here, replacing this text._"
   ]
  },
  {
   "cell_type": "markdown",
   "id": "aead7a7c",
   "metadata": {},
   "source": [
    "<!-- END QUESTION -->\n",
    "\n",
    "\n",
    "\n",
    "<!-- END QUESTION -->\n",
    "\n",
    "\n",
    "\n",
    "-----\n",
    "## Submitting Your Notebook\n",
    "\n",
    "Congratulations! You have now finished your second coding assignment. Well done!\n",
    "\n",
    "Before you head off to celebrate your work, please remember to save your work and submit it before the deadline!\n",
    "\n",
    "\n",
    "To do this, click <code>File</code> $\\rightarrow$ <code>Download as</code> $\\rightarrow$ <code>Notebook(.ipynb)</code>\n",
    "\n",
    "Submit the .ipynb file you just downloaded <a href=\"https://www.gradescope.com/courses/582091\" target=\"_blank\">on Gradescope here</a>."
   ]
  }
 ],
 "metadata": {
  "kernelspec": {
   "display_name": "R",
   "language": "R",
   "name": "ir"
  },
  "language_info": {
   "codemirror_mode": "r",
   "file_extension": ".r",
   "mimetype": "text/x-r-source",
   "name": "R",
   "pygments_lexer": "r",
   "version": "4.3.1"
  }
 },
 "nbformat": 4,
 "nbformat_minor": 5
}
