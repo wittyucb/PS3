{
 "cells": [
  {
   "cell_type": "markdown",
   "id": "8ac8db84",
   "metadata": {},
   "source": [
    "## POLSCI 3 \n",
    "\n",
    "## Hypothesis Testing Homework\n",
    "\n",
    "In this homework we will review different methods of testing hypotheses. These methods depend on the kinds of data we are working with: categorical or numeric. To start, let's consider when we have just categorical variables."
   ]
  },
  {
   "cell_type": "markdown",
   "id": "5ee84ef1",
   "metadata": {},
   "source": [
    "## $\\chi^2$ Statistic"
   ]
  },
  {
   "cell_type": "markdown",
   "id": "3a8da8a5",
   "metadata": {
    "deletable": false,
    "editable": false
   },
   "source": [
    "<!-- BEGIN QUESTION -->\n",
    "\n",
    "### Question 1a:\n",
    "Before we begin, let's review: what is the purpose of calculating the $\\chi^2$ statistic?\n",
    "\n",
    "<!--\n",
    "BEGIN QUESTION\n",
    "name: q1a\n",
    "manual: true\n",
    "points: 1\n",
    "-->"
   ]
  },
  {
   "cell_type": "markdown",
   "id": "4f0157b9",
   "metadata": {},
   "source": [
    "_Type your answer here, replacing this text._"
   ]
  },
  {
   "cell_type": "markdown",
   "id": "d7806360",
   "metadata": {},
   "source": [
    "<!-- END QUESTION -->\n",
    "\n",
    "\n",
    "\n",
    "### Question 1b:"
   ]
  },
  {
   "cell_type": "markdown",
   "id": "b664e04a",
   "metadata": {},
   "source": [
    "In this example, we're going to use the relationship between union membership and 2016 presidential vote choice. Below, we have the results of a poll of voters who were asked about their preferred candidate and whether they were a union member. \n",
    "\n",
    "**Note:** Make sure to run the cell below to generate the table."
   ]
  },
  {
   "cell_type": "code",
   "execution_count": 2,
   "id": "7a845e3d",
   "metadata": {},
   "outputs": [],
   "source": [
    "respond_table <- as.table(cbind(c(1068, 1019),c (218, 157)))\n",
    "dimnames(respond_table) <- list(candidate = c(\"Clinton\",\"Trump\"),\n",
    "                                membership = c(\"Not_Union\",\"Union\")\n",
    "                                )\n",
    "respond_table"
   ]
  },
  {
   "cell_type": "markdown",
   "id": "acc4897e",
   "metadata": {
    "deletable": false,
    "editable": false
   },
   "source": [
    "<!-- BEGIN QUESTION -->\n",
    "\n",
    "What are your initial impressions of how the data are distributed?\n",
    "\n",
    "<!--\n",
    "BEGIN QUESTION\n",
    "name: q1b\n",
    "manual: true\n",
    "points: 1\n",
    "-->"
   ]
  },
  {
   "cell_type": "markdown",
   "id": "5becaa22",
   "metadata": {},
   "source": [
    "_Type your answer here, replacing this text._"
   ]
  },
  {
   "cell_type": "markdown",
   "id": "67643c45",
   "metadata": {
    "deletable": false,
    "editable": false
   },
   "source": [
    "<!-- END QUESTION -->\n",
    "\n",
    "### Question 1c:\n",
    "Now let's try using the <code> chisq.test </code> function we learned in the lecture notebook. Recall the first step when using this function is creating a contingency table. Remember, you need to fill in the \"...\" in the command below with the name of the table you are analyzing. \n",
    "\n",
    "<!--\n",
    "BEGIN QUESTION\n",
    "name: q1c\n",
    "manual: false\n",
    "points: 3\n",
    "-->"
   ]
  },
  {
   "cell_type": "code",
   "execution_count": 20,
   "id": "04540a18",
   "metadata": {},
   "outputs": [],
   "source": [
    "## YOUR ANSWER HERE\n",
    "q1c.answer <- chisq.test(..., correct=FALSE)\n",
    "q1c.answer"
   ]
  },
  {
   "cell_type": "code",
   "execution_count": null,
   "id": "82260208",
   "metadata": {
    "deletable": false,
    "editable": false
   },
   "outputs": [],
   "source": [
    ". = ottr::check(\"tests/q1c.R\")"
   ]
  },
  {
   "cell_type": "markdown",
   "id": "039a1527",
   "metadata": {
    "deletable": false,
    "editable": false
   },
   "source": [
    "<!-- BEGIN QUESTION -->\n",
    "\n",
    "### Question 1d:\n",
    "What do these results tell you about the relationship between union membership and US presidential vote preference in 2016?\n",
    "\n",
    "<!--\n",
    "BEGIN QUESTION\n",
    "name: q1d\n",
    "manual: true\n",
    "points: 2\n",
    "-->"
   ]
  },
  {
   "cell_type": "markdown",
   "id": "05eb1d88",
   "metadata": {},
   "source": [
    "_Type your answer here, replacing this text._"
   ]
  },
  {
   "cell_type": "markdown",
   "id": "45e01aa8",
   "metadata": {},
   "source": [
    "<!-- END QUESTION -->\n",
    "\n",
    "\n",
    "\n",
    "## Difference of Means - Question 2\n",
    "Are democracies richer than autocracies? This can be tested with a difference in means test. To test this we will use the happiness_polity data that we introduced in the previous module. First let's read in the data and examine the code book:"
   ]
  },
  {
   "cell_type": "code",
   "execution_count": 27,
   "id": "81a06f48",
   "metadata": {},
   "outputs": [],
   "source": [
    "happiness_data <- read.csv('happiness_polity_2018.csv')\n",
    "head(happiness_data)"
   ]
  },
  {
   "cell_type": "markdown",
   "id": "44c504ed",
   "metadata": {},
   "source": [
    "This dataset contains data from countries around the world in terms of factors such as happiness levels, \n",
    "political categories, and demographic information. Here's a codebook:\n",
    "\n",
    "<code>polity2</code>: The \"Polity Score\" of the country, which measures its political system on a 21-pont scale \n",
    "ranging from -10 (hereditary monarchy) to +10 (consolidated democracy).\n",
    "\n",
    "<code>polity2_cat</code>: The political category the country is identified within. \"autocracies\" are on one end of \n",
    "the spectrum, \"anocracies\" are in the middle (semi-democracies), and \"democracies\" are at the top of the spectrum.\n",
    "\n",
    "<code>gdpcapita</code>: GDP per Capita (economic output per person)\n",
    "\n",
    "<code>gdpcapita_cat</code>: GDP/income category that the country falls into (based on GDP per capita)\n",
    "\n",
    "<code>happiness</code>: The country's happiness index, measured through surveys that require participants to rank \n",
    "their level of happiness based on an assortment of quality-of-life factors\n",
    "\n",
    "<code>happiness_cat</code>: Happiness category that the country falls into (based on happpiness indicator)\n",
    "\n",
    "<code>life_expectancy</code>: Average life expectancy in years\n",
    "\n",
    "<code>life_expectancy_cat</code>: Life Expectancy category that the country falls into"
   ]
  },
  {
   "cell_type": "markdown",
   "id": "b0da33cb",
   "metadata": {},
   "source": [
    "Next we need to create two subsets of the data, one for democracies and one for autocracies:"
   ]
  },
  {
   "cell_type": "code",
   "execution_count": 28,
   "id": "24c6ddb4",
   "metadata": {},
   "outputs": [],
   "source": [
    "autocracies<-subset(happiness_data,polity2_cat==\"autocracies\")\n",
    "democracies<-subset(happiness_data,polity2_cat==\"democracies\")\n",
    "head(autocracies)\n",
    "head(democracies)"
   ]
  },
  {
   "cell_type": "markdown",
   "id": "938333c3",
   "metadata": {
    "deletable": false,
    "editable": false
   },
   "source": [
    "### Question 2a:\n",
    "In the following cell type the code to find the `mean` GDP Per Capita for democracies and autocracies.\n",
    "\n",
    "<!--\n",
    "BEGIN QUESTION\n",
    "name: q2a\n",
    "manual: false\n",
    "points: 2\n",
    "-->"
   ]
  },
  {
   "cell_type": "code",
   "execution_count": 29,
   "id": "7114ba72",
   "metadata": {},
   "outputs": [],
   "source": [
    "## YOUR ANSWER HERE\n",
    "mean.autocracies <- mean(...)               # Fill in the ... with the appropriate code\n",
    "mean.democracies <- mean(...)   \n",
    "q2a.answer <- c(mean.autocracies,mean.democracies)\n",
    "q2a.answer"
   ]
  },
  {
   "cell_type": "code",
   "execution_count": null,
   "id": "3a8c8c8e",
   "metadata": {
    "deletable": false,
    "editable": false
   },
   "outputs": [],
   "source": [
    ". = ottr::check(\"tests/q2a.R\")"
   ]
  },
  {
   "cell_type": "markdown",
   "id": "28c955d2",
   "metadata": {
    "deletable": false,
    "editable": false
   },
   "source": [
    "### Question 2b:\n",
    "Now let's assume we are working with random samples, and determine whether there is sufficient evidence of different GDP per capitas in our samples to warrant making any conclusion about the population of autocracies and democracies:\n",
    "\n",
    "<!--\n",
    "BEGIN QUESTION\n",
    "name: q2b\n",
    "manual: false\n",
    "points: 2\n",
    "-->"
   ]
  },
  {
   "cell_type": "code",
   "execution_count": 32,
   "id": "851a58d3",
   "metadata": {},
   "outputs": [],
   "source": [
    "## YOUR ANSWER HERE\n",
    "q2b.answer <- t.test(...,...)            # Fill in the ... with the appropriate code   \n",
    "q2b.answer"
   ]
  },
  {
   "cell_type": "code",
   "execution_count": null,
   "id": "cbb2c093",
   "metadata": {
    "deletable": false,
    "editable": false
   },
   "outputs": [],
   "source": [
    ". = ottr::check(\"tests/q2b.R\")"
   ]
  },
  {
   "cell_type": "markdown",
   "id": "c04cb1d0",
   "metadata": {
    "deletable": false,
    "editable": false
   },
   "source": [
    "<!-- BEGIN QUESTION -->\n",
    "\n",
    "### Question 2c:\n",
    "What do you conclude about the population difference in GDP per capita between autocracies and democracies? Can we establish a causal relationship between GDP per capita and regime type?\n",
    "\n",
    "<!--\n",
    "BEGIN QUESTION\n",
    "name: q1d\n",
    "manual: true\n",
    "points: 3\n",
    "-->"
   ]
  },
  {
   "cell_type": "markdown",
   "id": "3bae6215",
   "metadata": {},
   "source": [
    "_Type your answer here, replacing this text._"
   ]
  },
  {
   "cell_type": "markdown",
   "id": "3163b602",
   "metadata": {},
   "source": [
    "<!-- END QUESTION -->\n",
    "\n",
    "\n",
    "\n",
    "## Short Answer - Question 3 \n",
    "#### True or False, with a one sentence justification for each:"
   ]
  },
  {
   "cell_type": "markdown",
   "id": "4abf96e0",
   "metadata": {
    "deletable": false,
    "editable": false
   },
   "source": [
    "<!-- BEGIN QUESTION -->\n",
    "\n",
    "**a)** Only a very small (&lt;5) percentage of measurements can be more than 2 standard\n",
    "deviations from the mean of the normal distribution.\n",
    "\n",
    "<!--\n",
    "BEGIN QUESTION\n",
    "name: q3a\n",
    "manual: true\n",
    "points: 2\n",
    "-->"
   ]
  },
  {
   "cell_type": "markdown",
   "id": "10e7abb1",
   "metadata": {},
   "source": [
    "_Type your answer here, replacing this text._"
   ]
  },
  {
   "cell_type": "markdown",
   "id": "55e56ee6",
   "metadata": {
    "deletable": false,
    "editable": false
   },
   "source": [
    "<!-- END QUESTION -->\n",
    "\n",
    "<!-- BEGIN QUESTION -->\n",
    "\n",
    "**b)** Only a very small (&lt;5) percentage of measurements can be more than 2 standard\n",
    "deviations from the mean of the any distribution.\n",
    "\n",
    "<!--\n",
    "BEGIN QUESTION\n",
    "name: q3b\n",
    "manual: true\n",
    "points: 2\n",
    "-->"
   ]
  },
  {
   "cell_type": "markdown",
   "id": "b7d3d5c1",
   "metadata": {},
   "source": [
    "_Type your answer here, replacing this text._"
   ]
  },
  {
   "cell_type": "markdown",
   "id": "c64fc5e8",
   "metadata": {
    "deletable": false,
    "editable": false
   },
   "source": [
    "<!-- END QUESTION -->\n",
    "\n",
    "<!-- BEGIN QUESTION -->\n",
    "\n",
    "**c)** If we would reject a null hypothesis at the 5% level, we would also reject it at the 1%\n",
    "level.\n",
    "\n",
    "<!--\n",
    "BEGIN QUESTION\n",
    "name: q3c\n",
    "manual: true\n",
    "points: 2\n",
    "-->"
   ]
  },
  {
   "cell_type": "markdown",
   "id": "961d8576",
   "metadata": {},
   "source": [
    "_Type your answer here, replacing this text._"
   ]
  },
  {
   "cell_type": "markdown",
   "id": "27a2d472",
   "metadata": {
    "deletable": false,
    "editable": false
   },
   "source": [
    "<!-- END QUESTION -->\n",
    "\n",
    "<!-- BEGIN QUESTION -->\n",
    "\n",
    "**d)** If we would reject a null hypothesis at the 1% level, we would also reject it at the 5%\n",
    "level.\n",
    "\n",
    "<!--\n",
    "BEGIN QUESTION\n",
    "name: q3d\n",
    "manual: true\n",
    "points: 2\n",
    "-->"
   ]
  },
  {
   "cell_type": "markdown",
   "id": "0a921a65",
   "metadata": {},
   "source": [
    "_Type your answer here, replacing this text._"
   ]
  },
  {
   "cell_type": "markdown",
   "id": "0a28d237",
   "metadata": {
    "deletable": false,
    "editable": false
   },
   "source": [
    "<!-- END QUESTION -->\n",
    "\n",
    "<!-- BEGIN QUESTION -->\n",
    "\n",
    "**e)** The p-value, which is the Type I error rate, is chosen by the investigator before a\n",
    "hypothesis test is conducted.\n",
    "\n",
    "<!--\n",
    "BEGIN QUESTION\n",
    "name: q3e\n",
    "manual: true\n",
    "points: 2\n",
    "-->"
   ]
  },
  {
   "cell_type": "markdown",
   "id": "e67775ce",
   "metadata": {},
   "source": [
    "_Type your answer here, replacing this text._"
   ]
  },
  {
   "cell_type": "markdown",
   "id": "f39873b2",
   "metadata": {},
   "source": [
    "<!-- END QUESTION -->\n",
    "\n",
    "\n",
    "\n",
    "The following table is based on a random sample conducted of high school seniors and\n",
    "their parents by Jennings and Niemi, in which they explore the party identification of\n",
    "parents and their children. "
   ]
  },
  {
   "cell_type": "markdown",
   "id": "60921a85",
   "metadata": {},
   "source": [
    "## Coding Application - Question 4:"
   ]
  },
  {
   "cell_type": "code",
   "execution_count": 6,
   "id": "12ef8dd2",
   "metadata": {},
   "outputs": [],
   "source": [
    "#Run this cell to generate the table\n",
    "respond_table <- as.table(cbind(c(604, 130,63),c(245, 235,180),c(67,76,252)))\n",
    "dimnames(respond_table) <- list(Parent_Party_ID = c('Democrat', 'Independent', 'Republican'),\n",
    "                                Child_Party_ID = c('Democrat', 'Independent', 'Republican')\n",
    "                                )\n",
    "respond_table"
   ]
  },
  {
   "cell_type": "markdown",
   "id": "959019cc",
   "metadata": {
    "deletable": false,
    "editable": false
   },
   "source": [
    "### Question 4a:\n",
    "Write the number of parents who's party id matches their kids.\n",
    "\n",
    "<!--\n",
    "BEGIN QUESTION\n",
    "name: q4a\n",
    "manual: false\n",
    "points: 2\n",
    "-->"
   ]
  },
  {
   "cell_type": "code",
   "execution_count": 34,
   "id": "5c294fb2",
   "metadata": {},
   "outputs": [],
   "source": [
    "## YOUR ANSWER HERE\n",
    "sample_size <- sum(respond_table)\n",
    "democrat_same <- 604\n",
    "independent_same <- ...\n",
    "republican_same <- ...\n",
    "Total <- democrat_same + independent_same + republican_same"
   ]
  },
  {
   "cell_type": "code",
   "execution_count": null,
   "id": "8b5a916e",
   "metadata": {
    "deletable": false,
    "editable": false
   },
   "outputs": [],
   "source": [
    ". = ottr::check(\"tests/q4a.R\")"
   ]
  },
  {
   "cell_type": "markdown",
   "id": "a590624a",
   "metadata": {
    "deletable": false,
    "editable": false
   },
   "source": [
    "### Question 4b:\n",
    "What percentage of Democrat parents have Republican children?\n",
    "\n",
    "<!--\n",
    "BEGIN QUESTION\n",
    "name: q4b\n",
    "manual: false\n",
    "points: 1\n",
    "-->"
   ]
  },
  {
   "cell_type": "code",
   "execution_count": 37,
   "id": "84e124e8",
   "metadata": {},
   "outputs": [],
   "source": [
    "## YOUR ANSWER HERE\n",
    "dem_parent_rep_child <- .../sum(c(604,245,67))           # Fill in the ... with the appropriate code   \n",
    "dem_parent_rep_child"
   ]
  },
  {
   "cell_type": "code",
   "execution_count": null,
   "id": "65762666",
   "metadata": {
    "deletable": false,
    "editable": false
   },
   "outputs": [],
   "source": [
    ". = ottr::check(\"tests/q4b.R\")"
   ]
  },
  {
   "cell_type": "markdown",
   "id": "5efbb5cc",
   "metadata": {
    "deletable": false,
    "editable": false
   },
   "source": [
    "### Question 4c:\n",
    "Run a $\\chi^2$ test to determine if there is there a relationship between parent and child party ID in the population.\n",
    "\n",
    "<!--\n",
    "BEGIN QUESTION\n",
    "name: q4c\n",
    "manual: false\n",
    "points: 3\n",
    "-->"
   ]
  },
  {
   "cell_type": "code",
   "execution_count": 40,
   "id": "4e33b562",
   "metadata": {},
   "outputs": [],
   "source": [
    "## YOUR ANSWER HERE\n",
    "q14c.answer <- chisq.test(..., correct=FALSE)\n",
    "q4c.answer"
   ]
  },
  {
   "cell_type": "code",
   "execution_count": null,
   "id": "467fc351",
   "metadata": {
    "deletable": false,
    "editable": false
   },
   "outputs": [],
   "source": [
    ". = ottr::check(\"tests/q4c.R\")"
   ]
  },
  {
   "cell_type": "markdown",
   "id": "646d4c08",
   "metadata": {
    "deletable": false,
    "editable": false
   },
   "source": [
    "<!-- BEGIN QUESTION -->\n",
    "\n",
    "### Question 4d: \n",
    "Is there a relationship between between parent and child party ID in the population?\n",
    "\n",
    "<!--\n",
    "BEGIN QUESTION\n",
    "name: q4d\n",
    "manual: true\n",
    "points: 2\n",
    "-->"
   ]
  },
  {
   "cell_type": "markdown",
   "id": "3991c8a9",
   "metadata": {},
   "source": [
    "_Type your answer here, replacing this text._"
   ]
  },
  {
   "cell_type": "markdown",
   "id": "aead7a7c",
   "metadata": {},
   "source": [
    "<!-- END QUESTION -->\n",
    "\n",
    "\n",
    "\n",
    "<!-- END QUESTION -->\n",
    "\n",
    "\n",
    "\n",
    "-----\n",
    "## Submitting Your Notebook\n",
    "\n",
    "Congratulations! You have now finished your second coding assignment. Well done!\n",
    "\n",
    "Before you head off to celebrate your work, please remember to save your work and submit it before the deadline!\n",
    "\n",
    "\n",
    "Now that you've finished the homework, we need to save it! To do this, click <code>File</code> $\\rightarrow$ <code>Download as</code> $\\rightarrow$ <code>Notebook(.ipynb)</code>\n",
    "\n",
    "Submit the .ipynb file you just downloaded <a href=\"https://www.gradescope.com/courses/402785\" target=\"_blank\">on Gradescope here</a>."
   ]
  }
 ],
 "metadata": {
  "kernelspec": {
   "display_name": "R",
   "language": "R",
   "name": "ir"
  },
  "language_info": {
   "codemirror_mode": "r",
   "file_extension": ".r",
   "mimetype": "text/x-r-source",
   "name": "R",
   "pygments_lexer": "r",
   "version": "4.2.1"
  }
 },
 "nbformat": 4,
 "nbformat_minor": 5
}
