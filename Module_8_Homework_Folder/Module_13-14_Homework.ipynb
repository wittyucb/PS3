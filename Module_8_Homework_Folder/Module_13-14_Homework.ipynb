{
 "cells": [
  {
   "cell_type": "markdown",
   "id": "a74f5972",
   "metadata": {},
   "source": [
    "# Polisci 3\n",
    "# Regression Homework\n",
    "\n",
    "In this homework we will review the process of generating an Ordinary Least Squares regression model. We will review the information that it can tell us about the relationship between variables."
   ]
  },
  {
   "cell_type": "markdown",
   "id": "479a7185",
   "metadata": {},
   "source": [
    "Next, we need to load in our election data. This table represents presidential election outcomes from 1880 to 2016. In each row, we have collected information about different features during that year, such as inflation or the presence of a war."
   ]
  },
  {
   "cell_type": "code",
   "execution_count": 2,
   "id": "44b6ea8a",
   "metadata": {},
   "outputs": [
    {
     "data": {
      "text/html": [
       "<table class=\"dataframe\">\n",
       "<caption>A data.frame: 6 × 5</caption>\n",
       "<thead>\n",
       "\t<tr><th></th><th scope=col>inc_vote</th><th scope=col>year</th><th scope=col>inflation</th><th scope=col>goodnews</th><th scope=col>growth</th></tr>\n",
       "\t<tr><th></th><th scope=col>&lt;dbl&gt;</th><th scope=col>&lt;dbl&gt;</th><th scope=col>&lt;dbl&gt;</th><th scope=col>&lt;dbl&gt;</th><th scope=col>&lt;dbl&gt;</th></tr>\n",
       "</thead>\n",
       "<tbody>\n",
       "\t<tr><th scope=row>1</th><td>48.516</td><td>1876</td><td>   NA</td><td>NA</td><td>  5.110</td></tr>\n",
       "\t<tr><th scope=row>2</th><td>50.220</td><td>1880</td><td>1.974</td><td> 9</td><td>  3.879</td></tr>\n",
       "\t<tr><th scope=row>3</th><td>49.846</td><td>1884</td><td>1.055</td><td> 2</td><td>  1.589</td></tr>\n",
       "\t<tr><th scope=row>4</th><td>50.414</td><td>1888</td><td>0.604</td><td> 3</td><td> -5.553</td></tr>\n",
       "\t<tr><th scope=row>5</th><td>48.268</td><td>1892</td><td>2.274</td><td> 7</td><td>  2.763</td></tr>\n",
       "\t<tr><th scope=row>6</th><td>47.760</td><td>1896</td><td>3.410</td><td> 6</td><td>-10.024</td></tr>\n",
       "</tbody>\n",
       "</table>\n"
      ],
      "text/latex": [
       "A data.frame: 6 × 5\n",
       "\\begin{tabular}{r|lllll}\n",
       "  & inc\\_vote & year & inflation & goodnews & growth\\\\\n",
       "  & <dbl> & <dbl> & <dbl> & <dbl> & <dbl>\\\\\n",
       "\\hline\n",
       "\t1 & 48.516 & 1876 &    NA & NA &   5.110\\\\\n",
       "\t2 & 50.220 & 1880 & 1.974 &  9 &   3.879\\\\\n",
       "\t3 & 49.846 & 1884 & 1.055 &  2 &   1.589\\\\\n",
       "\t4 & 50.414 & 1888 & 0.604 &  3 &  -5.553\\\\\n",
       "\t5 & 48.268 & 1892 & 2.274 &  7 &   2.763\\\\\n",
       "\t6 & 47.760 & 1896 & 3.410 &  6 & -10.024\\\\\n",
       "\\end{tabular}\n"
      ],
      "text/markdown": [
       "\n",
       "A data.frame: 6 × 5\n",
       "\n",
       "| <!--/--> | inc_vote &lt;dbl&gt; | year &lt;dbl&gt; | inflation &lt;dbl&gt; | goodnews &lt;dbl&gt; | growth &lt;dbl&gt; |\n",
       "|---|---|---|---|---|---|\n",
       "| 1 | 48.516 | 1876 |    NA | NA |   5.110 |\n",
       "| 2 | 50.220 | 1880 | 1.974 |  9 |   3.879 |\n",
       "| 3 | 49.846 | 1884 | 1.055 |  2 |   1.589 |\n",
       "| 4 | 50.414 | 1888 | 0.604 |  3 |  -5.553 |\n",
       "| 5 | 48.268 | 1892 | 2.274 |  7 |   2.763 |\n",
       "| 6 | 47.760 | 1896 | 3.410 |  6 | -10.024 |\n",
       "\n"
      ],
      "text/plain": [
       "  inc_vote year inflation goodnews growth \n",
       "1 48.516   1876    NA     NA         5.110\n",
       "2 50.220   1880 1.974      9         3.879\n",
       "3 49.846   1884 1.055      2         1.589\n",
       "4 50.414   1888 0.604      3        -5.553\n",
       "5 48.268   1892 2.274      7         2.763\n",
       "6 47.760   1896 3.410      6       -10.024"
      ]
     },
     "metadata": {},
     "output_type": "display_data"
    }
   ],
   "source": [
    "# Run only if the previous cell gives an error\n",
    "elections <- read.csv('https://www.dropbox.com/scl/fi/q3fc9099j6zgk7bke61bc/FairFPSR3.csv?rlkey=049k6n2yytnq8uqav7s1tdkb2&st=1bealjpz&dl=1')\n",
    "head(elections)"
   ]
  },
  {
   "cell_type": "markdown",
   "id": "2780be8b",
   "metadata": {},
   "source": [
    "Here is the **codebook** that tells you what each variable means.\n",
    "\n",
    "`inc_vote`: % of major party presidential vote won by incumbent party\n",
    "\n",
    "`year`: Year of the presidential election\n",
    "\n",
    "`inflation`: Inflation rate\n",
    "\n",
    "`goodnews`: Number of quarters in the first 15 quarters of admin in which econ growth>3.2%\n",
    "\n",
    "`growth`: % change in real GDP per capita"
   ]
  },
  {
   "cell_type": "markdown",
   "id": "7836003e",
   "metadata": {},
   "source": [
    "If we want to see the relationship between vote share and a variable, such as economic growth, we use the <code>lm(data$y_variable ~ data$x_variable)</code> function. To see the result, we call <code>summary()</code>. Below, we produce the regression results for the relationship between incumbent vote share and inflation.  \n",
    "\n",
    "**NOTE:** The important values for you to consider are the number of observations, adjusted R-squared value and the coefficient, standard errors, t-statistics, and p-values associated with the different independent variables."
   ]
  },
  {
   "cell_type": "code",
   "execution_count": null,
   "id": "6ea92d91",
   "metadata": {
    "scrolled": true
   },
   "outputs": [],
   "source": [
    "reg1 <- lm(elections$inc_vote ~ elections$inflation) \n",
    "summary(reg1)"
   ]
  },
  {
   "cell_type": "markdown",
   "id": "715db30b-6b4e-4808-9723-08ffb9c99102",
   "metadata": {},
   "source": [
    "### Question 1:\n",
    "In the output that is produced by the <code>summary()</code> function, there is a row labeled *elections$inflation*. How do we interpret the coefficient for the linear relationship between inflation and presidential vote share?\n"
   ]
  },
  {
   "cell_type": "markdown",
   "id": "2811aa08",
   "metadata": {
    "deletable": false,
    "editable": false
   },
   "source": [
    "<!-- BEGIN QUESTION -->\n",
    "\n",
    "_Type your answer here, replacing this text._"
   ]
  },
  {
   "cell_type": "markdown",
   "id": "b97489c6-21d1-47d5-a65e-fa98acdc807e",
   "metadata": {
    "deletable": false,
    "editable": false
   },
   "source": [
    "<!-- END QUESTION -->\n",
    "\n",
    "\n",
    "### Question 2:\n",
    "Now, let's produce the OLS regression results for incumbent vote share and economic growth and replace the NULL with the correct variables: "
   ]
  },
  {
   "cell_type": "markdown",
   "id": "ff5cc971",
   "metadata": {
    "deletable": false,
    "editable": false
   },
   "source": [
    "Hint: vote_inflation_ols <- lm(... ~ ...)\n"
   ]
  },
  {
   "cell_type": "code",
   "execution_count": null,
   "id": "f4dc378e",
   "metadata": {
    "tags": []
   },
   "outputs": [],
   "source": [
    "## YOUR ANSWER HERE\n",
    "vote_inflation_ols <- NULL # YOUR CODE HERE\n",
    "summary(vote_inflation_ols) "
   ]
  },
  {
   "cell_type": "markdown",
   "id": "b3907dab-a848-428b-a25a-dc8bf9e2a9ae",
   "metadata": {},
   "source": [
    "### Question 3:\n",
    "Using the *elections$growth* row, we can review the relationship between growth and presidential vote share. Is the relationship statistically significant?\n"
   ]
  },
  {
   "cell_type": "markdown",
   "id": "24ec7787",
   "metadata": {
    "deletable": false,
    "editable": false
   },
   "source": [
    "<!-- BEGIN QUESTION -->\n",
    "\n",
    "_Type your answer here, replacing this text._"
   ]
  },
  {
   "cell_type": "markdown",
   "id": "998ad199",
   "metadata": {
    "deletable": false,
    "editable": false
   },
   "source": [
    "<!-- END QUESTION -->\n",
    "\n",
    "To use multiple variables, we can modify how we interact with the original function like so: <code>lm(data$dependent_variable ~ data$independent_var_1 + data$independent_var_2 + ...)</code>. Below, we run the regression between the two independent variables economic growth and monetary inflation."
   ]
  },
  {
   "cell_type": "code",
   "execution_count": null,
   "id": "85204e7a",
   "metadata": {},
   "outputs": [],
   "source": [
    "vote_inflation_growth_ols <- lm(elections$inc_vote ~ elections$inflation + elections$growth)\n",
    "summary(vote_inflation_growth_ols)"
   ]
  },
  {
   "cell_type": "markdown",
   "id": "5bcd79bf-62d8-4a91-9a3e-2ae79e0cada5",
   "metadata": {},
   "source": [
    "### Questions 4:\n",
    "Compare the coefficient and p-values for the two independent variables compared to when we just ran bivariate regression using each of them individually. How do these values change?\n",
    "\n",
    "**Note:** Make sure you run the cell above to generate the multivariate regression. "
   ]
  },
  {
   "cell_type": "markdown",
   "id": "287d732a",
   "metadata": {
    "deletable": false,
    "editable": false
   },
   "source": [
    "<!-- BEGIN QUESTION -->\n",
    "\n",
    "_Type your answer here, replacing this text._"
   ]
  },
  {
   "cell_type": "markdown",
   "id": "ca8a1ba8-7b38-4135-be8f-88677a64f4d0",
   "metadata": {
    "deletable": false,
    "editable": false
   },
   "source": [
    "<!-- END QUESTION -->\n",
    "\n",
    "### Question 5:\n",
    "Now, run the multivariate regression for the relationship between voteshare and \"goodnews\" and \"growth\" and replace the   NULL with the correct columns: \n"
   ]
  },
  {
   "cell_type": "markdown",
   "id": "df74c77a",
   "metadata": {
    "deletable": false,
    "editable": false
   },
   "source": [
    "Hint: vote_goodnews_war_ols <- lm(elections$inc_vote ~ ... + ...)"
   ]
  },
  {
   "cell_type": "code",
   "execution_count": null,
   "id": "b77024e5",
   "metadata": {
    "tags": []
   },
   "outputs": [],
   "source": [
    "## YOUR ANSWER HERE\n",
    "vote_goodnews_war_ols <- NULL # YOUR CODE HERE\n",
    "summary(vote_goodnews_war_ols) "
   ]
  },
  {
   "cell_type": "markdown",
   "id": "02a2cbed-ea66-4511-b027-cbdcdd69f2fa",
   "metadata": {},
   "source": [
    "### Question 6:\n",
    "**Coeffecient Review:**\n",
    "\n",
    "(a) Using the coefficients for the intercept, goodnews, and growth variables, holding growth at its mean, how many months of good economic news is necessary for the incumbent to win?\n",
    "**Hint:** The mean of economic growth is 0.7635"
   ]
  },
  {
   "cell_type": "markdown",
   "id": "543bc5bd",
   "metadata": {
    "deletable": false,
    "editable": false
   },
   "source": [
    "<!-- BEGIN QUESTION -->\n",
    "\n",
    "_Type your answer here, replacing this text._"
   ]
  },
  {
   "cell_type": "markdown",
   "id": "e9a9ece2",
   "metadata": {
    "deletable": false,
    "editable": false,
    "tags": []
   },
   "source": [
    "<!-- END QUESTION -->\n",
    "\n",
    "(b) Is goodnews statistically significant at the .05 level? What about at .01? What does this imply about positive economic news and incumbent voteshare?\n",
    "\n",
    "**Hint:** Use a two tailed t test.\n",
    "\n"
   ]
  },
  {
   "cell_type": "markdown",
   "id": "8f2079c9",
   "metadata": {
    "deletable": false,
    "editable": false
   },
   "source": [
    "<!-- BEGIN QUESTION -->\n",
    "\n",
    "_Type your answer here, replacing this text._"
   ]
  },
  {
   "cell_type": "markdown",
   "id": "fdce14ac",
   "metadata": {
    "deletable": false,
    "editable": false
   },
   "source": [
    "<!-- END QUESTION -->\n",
    "\n",
    "### Question 7:\n",
    "Let's practice generating confidence intervals. As we have seen in past lectures, the 95% confidence interval is calculated with $\\beta \\pm t_{critical} * se(\\beta)$. Let's find the 95% confidence interval for the GOODNEWS coefficient.\n",
    "\n",
    "(a) Using the number of observations in the summary and the t-table in the back of your textbook, find the critical value of t, and store it in the variable below.\n"
   ]
  },
  {
   "cell_type": "code",
   "execution_count": null,
   "id": "0ee2621e",
   "metadata": {
    "deletable": false,
    "editable": false
   },
   "outputs": [],
   "source": []
  },
  {
   "cell_type": "code",
   "execution_count": null,
   "id": "6cdc4388",
   "metadata": {
    "tags": []
   },
   "outputs": [],
   "source": [
    "\n",
    "t_critical <- NULL # YOUR CODE HERE\n",
    "t_critical"
   ]
  },
  {
   "cell_type": "raw",
   "id": "03a52700-8a6c-4087-b6d0-fd77d8538778",
   "metadata": {},
   "source": [
    "(b) Next, use the summary output to store the standard error for the goodnews coefficient.\n"
   ]
  },
  {
   "cell_type": "code",
   "execution_count": null,
   "id": "6e44c45f",
   "metadata": {
    "tags": []
   },
   "outputs": [],
   "source": [
    "\n",
    "goodnews_se <- NULL # YOUR CODE HERE\n",
    "goodnews_se"
   ]
  },
  {
   "cell_type": "code",
   "execution_count": null,
   "id": "b7145a91",
   "metadata": {
    "tags": []
   },
   "outputs": [],
   "source": []
  },
  {
   "cell_type": "markdown",
   "id": "3873b761-2a2a-4b69-a27a-bb9a0606640c",
   "metadata": {},
   "source": [
    "(c) Using the standard error, calculate the 95% confidence interval. In the cell below, fill out the values for the lower and upper bound of the interval. "
   ]
  },
  {
   "cell_type": "markdown",
   "id": "659dadc7",
   "metadata": {
    "deletable": false,
    "editable": false
   },
   "source": [
    "Hint:\n",
    "goodnews_lower <-  ... - ...*goodnews_se\n",
    "\n",
    "goodnews_upper <- ... + ...*goodnews_se\n"
   ]
  },
  {
   "cell_type": "code",
   "execution_count": null,
   "id": "2c02c522",
   "metadata": {
    "tags": []
   },
   "outputs": [],
   "source": [
    "## YOUR ANSWER HERE\n",
    "goodnews_lower <- NULL # YOUR CODE HERE\n",
    "goodnews_upper <- NULL # YOUR CODE HERE\n",
    "q7c.answer <-c(goodnews_lower, goodnews_upper)\n",
    "q7c.answer"
   ]
  },
  {
   "cell_type": "code",
   "execution_count": null,
   "id": "3a05a45c",
   "metadata": {
    "tags": []
   },
   "outputs": [],
   "source": []
  },
  {
   "cell_type": "code",
   "execution_count": null,
   "id": "f1b7e80f",
   "metadata": {
    "tags": []
   },
   "outputs": [],
   "source": []
  },
  {
   "cell_type": "code",
   "execution_count": null,
   "id": "016ffb3c",
   "metadata": {
    "deletable": false,
    "editable": false
   },
   "outputs": [],
   "source": [
    ". = ottr::check(\"tests/q7c.R\")"
   ]
  },
  {
   "cell_type": "raw",
   "id": "7ac48cd3-d1fb-4960-8914-64971708d14c",
   "metadata": {},
   "source": [
    "(d) Interpret this confidence interval: what can we say about the effect of good news on incumbent vote share?\n"
   ]
  },
  {
   "cell_type": "markdown",
   "id": "a9550f4f",
   "metadata": {
    "deletable": false,
    "editable": false
   },
   "source": [
    "<!-- BEGIN QUESTION -->\n",
    "\n",
    "_Type your answer here, replacing this text._"
   ]
  },
  {
   "cell_type": "markdown",
   "id": "35d71287",
   "metadata": {
    "deletable": false,
    "editable": false
   },
   "source": [
    "<!-- END QUESTION -->\n",
    "\n",
    "## OLS Review: Population and Sample Models:\n",
    "\n",
    "### Question 8\n",
    "In the following questions, the models in focus are bivariate, using the population model ${Y_i} = \\alpha + \\beta X_i+u_i$ and sample model ${Y_i} = \\hat{\\alpha} + \\hat{\\beta}X_i+\\hat{u_i}$  \n"
   ]
  },
  {
   "cell_type": "markdown",
   "id": "b313b015",
   "metadata": {},
   "source": [
    "(a) Which of the following statements are accurate about the population regression model?"
   ]
  },
  {
   "cell_type": "markdown",
   "id": "e9a0d6d4",
   "metadata": {
    "deletable": false,
    "tags": []
   },
   "source": [
    "a) ${u}_i$ is the stochastic component of $Y_i$  \n",
    "b) $\\hat{\\alpha_i} + \\hat{\\beta} X_i$ is the systematic component of $Y_i$  \n",
    "c) Both (a) and (b) are correct  \n",
    "d) Neither (a) nor (b) are correct\n"
   ]
  },
  {
   "cell_type": "code",
   "execution_count": null,
   "id": "d197276a",
   "metadata": {
    "tags": []
   },
   "outputs": [],
   "source": [
    "q8a.answer <- NULL # YOUR CODE HERE"
   ]
  },
  {
   "cell_type": "markdown",
   "id": "37fda69b",
   "metadata": {},
   "source": [
    "(b) Which of the following statements are accurate about the population regression model?"
   ]
  },
  {
   "cell_type": "markdown",
   "id": "cfb6c5cb",
   "metadata": {
    "deletable": false,
    "tags": []
   },
   "source": [
    "\n",
    "\n",
    "a) $\\hat{u}_i$ is an estimate of $u_i$  \n",
    "b) $X_i$ is assumed to be measured without error  \n",
    "c) Both (a) and (b) are correct  \n",
    "d) Neither (a) nor (b) are correct\n"
   ]
  },
  {
   "cell_type": "code",
   "execution_count": null,
   "id": "1e56e491",
   "metadata": {
    "tags": []
   },
   "outputs": [],
   "source": [
    "q8b.answer <- NULL # YOUR CODE HERE"
   ]
  },
  {
   "cell_type": "markdown",
   "id": "d16c9d7f",
   "metadata": {},
   "source": [
    "(c) Which of the statements are accurate?"
   ]
  },
  {
   "cell_type": "markdown",
   "id": "c57819a0",
   "metadata": {
    "deletable": false,
    "tags": []
   },
   "source": [
    "\n",
    "a) By specifying a bivariate regression model we are assuming that the impact of a one unit increase in $X_i$ will always be $\\beta$.  \n",
    "b) By specifying a bivariate regression model we are assuming that there are no other variables that cause $Y_i$.  \n",
    "c) Both (a) and (b) are correct    \n",
    "d) Neither (a) nor (b) are correct \n",
    "\n"
   ]
  },
  {
   "cell_type": "code",
   "execution_count": null,
   "id": "e492575a",
   "metadata": {
    "tags": []
   },
   "outputs": [],
   "source": [
    "q8c.answer <- NULL # YOUR CODE HERE"
   ]
  },
  {
   "cell_type": "markdown",
   "id": "fbab3fca",
   "metadata": {},
   "source": [
    "## Saving Your Notebook\n",
    "\n",
    "Congratulations! You have now finished your first coding assignment. Well done!\n",
    "\n",
    "Before you head off to celebrate your work, you need to submit it before the deadline.\n",
    "\n",
    "To save the notebook, click <code>File</code> $\\rightarrow$ <code>Save Notebook </code> \n",
    "\n",
    "To download the notebook, click <code>File</code> $\\rightarrow$ <code>Download</code> \n",
    "Next, follow the instructions below under SUBMISSION to generate the zipfile that you will submit on Gradescope: \n",
    "\n",
    "https://www.gradescope.com/courses/820798\n",
    "\n"
   ]
  },
  {
   "cell_type": "code",
   "execution_count": null,
   "id": "b66aa4e3",
   "metadata": {},
   "outputs": [],
   "source": []
  },
  {
   "cell_type": "markdown",
   "id": "abeada25",
   "metadata": {
    "deletable": false,
    "editable": false
   },
   "source": [
    "## Submission\n",
    "\n",
    "Make sure you have run all cells in your notebook in order before running the cell below, so that all images/graphs appear in the output. The cell below will generate a zip file for you to submit. **Please save before exporting!**"
   ]
  },
  {
   "cell_type": "code",
   "execution_count": null,
   "id": "c444c6f1",
   "metadata": {
    "deletable": false,
    "editable": false
   },
   "outputs": [],
   "source": [
    "# Save your notebook first, then run this cell to export your submission.\n",
    "ottr::export(\"Module_13_14_Homework.ipynb\", pdf = TRUE)"
   ]
  },
  {
   "cell_type": "markdown",
   "id": "7ffa166e",
   "metadata": {},
   "source": [
    " "
   ]
  }
 ],
 "metadata": {
  "kernelspec": {
   "display_name": "R",
   "language": "R",
   "name": "ir"
  },
  "language_info": {
   "codemirror_mode": "r",
   "file_extension": ".r",
   "mimetype": "text/x-r-source",
   "name": "R",
   "pygments_lexer": "r",
   "version": "4.4.1"
  }
 },
 "nbformat": 4,
 "nbformat_minor": 5
}
