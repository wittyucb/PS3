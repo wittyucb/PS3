{
 "cells": [
  {
   "cell_type": "markdown",
   "id": "a74f5972",
   "metadata": {},
   "source": [
    "# Polisci 3\n",
    "# Regression Homework\n",
    "\n",
    "In this homework we will review the process of generating an Ordinary Least Squares regression model. We will review the information that it can tell us about the relationship between variables."
   ]
  },
  {
   "cell_type": "markdown",
   "id": "479a7185",
   "metadata": {},
   "source": [
    "Next, we need to load in our election data. This table represents presidential election outcomes from 1880 to 2016. In each row, we have collected information about different features during that year, such as inflation or the presence of a war."
   ]
  },
  {
   "cell_type": "code",
   "execution_count": 2,
   "id": "06129206",
   "metadata": {},
   "outputs": [],
   "source": [
    "elections <- read.csv('FairFPSR3.csv')\n",
    "head(elections)"
   ]
  },
  {
   "cell_type": "markdown",
   "id": "2780be8b",
   "metadata": {},
   "source": [
    "Here is the **codebook** that tells you what each variable means.\n",
    "\n",
    "`inc_vote`: % of major party presidential vote won by incumbent party\n",
    "\n",
    "`year`: Year of the presidential election\n",
    "\n",
    "`inflation`: Inflation rate\n",
    "\n",
    "`goodnews`: Number of quarters in the first 15 quarters of admin in which econ growth>3.2%\n",
    "\n",
    "`growth`: % change in real GDP per capita"
   ]
  },
  {
   "cell_type": "markdown",
   "id": "7836003e",
   "metadata": {},
   "source": [
    "If we want to see the relationship between vote share and a variable, such as economic growth, we use the <code>lm(data$y_variable ~ data$x_variable)</code> function. To see the result, we call <code>summary()</code>. Below, we produce the regression results for the relationship between incumbent vote share and inflation.  \n",
    "\n",
    "**NOTE:** The important values for you to consider are the number of observations, adjusted R-squared value and the coefficient, standard errors, t-statistics, and p-values associated with the different independent variables."
   ]
  },
  {
   "cell_type": "code",
   "execution_count": 4,
   "id": "6ea92d91",
   "metadata": {
    "scrolled": true
   },
   "outputs": [],
   "source": [
    "reg1 <- lm(elections$inc_vote ~ elections$inflation) \n",
    "summary(reg1)"
   ]
  },
  {
   "cell_type": "markdown",
   "id": "6d1b8ba3",
   "metadata": {
    "deletable": false,
    "editable": false
   },
   "source": [
    "<!-- BEGIN QUESTION -->\n",
    "\n",
    "### Question 1:\n",
    "In the output that is produced by the <code>summary()</code> function, there is a row labeled *elections$inflation*. How do we interpret the coefficient for the linear relationship between inflation and presidential vote share?\n",
    "\n",
    "<!--\n",
    "BEGIN QUESTION\n",
    "name: q1\n",
    "manual: true\n",
    "points: 1\n",
    "-->"
   ]
  },
  {
   "cell_type": "markdown",
   "id": "2811aa08",
   "metadata": {},
   "source": [
    "_Type your answer here, replacing this text._"
   ]
  },
  {
   "cell_type": "markdown",
   "id": "fe23e8bf",
   "metadata": {
    "deletable": false,
    "editable": false
   },
   "source": [
    "<!-- END QUESTION -->\n",
    "\n",
    "### Question 2:\n",
    "Now, let's produce the OLS regression results for incumbent vote share and economic growth and replace the \"...\" with the correct variables: \n",
    "\n",
    "<!--\n",
    "BEGIN QUESTION\n",
    "name: q2\n",
    "manual: false\n",
    "points: 1\n",
    "-->"
   ]
  },
  {
   "cell_type": "code",
   "execution_count": 5,
   "id": "f4dc378e",
   "metadata": {},
   "outputs": [],
   "source": [
    "## YOUR ANSWER HERE\n",
    "vote_inflation_ols <- lm(elections$... ~ elections$...)\n",
    "summary(vote_inflation_ols)"
   ]
  },
  {
   "cell_type": "code",
   "execution_count": null,
   "id": "327dffc9",
   "metadata": {
    "deletable": false,
    "editable": false
   },
   "outputs": [],
   "source": [
    ". = ottr::check(\"tests/q2.R\")"
   ]
  },
  {
   "cell_type": "markdown",
   "id": "26b26256",
   "metadata": {
    "deletable": false,
    "editable": false
   },
   "source": [
    "<!-- BEGIN QUESTION -->\n",
    "\n",
    "### Question 3:\n",
    "Using the *elections$growth* row, we can review the relationship between growth and presidential vote share. Is the relationship statistically significant?\n",
    "\n",
    "<!--\n",
    "BEGIN QUESTION\n",
    "name: q3\n",
    "manual: true\n",
    "points: 1\n",
    "-->"
   ]
  },
  {
   "cell_type": "markdown",
   "id": "24ec7787",
   "metadata": {},
   "source": [
    "_Type your answer here, replacing this text._"
   ]
  },
  {
   "cell_type": "markdown",
   "id": "998ad199",
   "metadata": {},
   "source": [
    "<!-- END QUESTION -->\n",
    "\n",
    "\n",
    "\n",
    "To use multiple variables, we can modify how we interact with the original function like so: <code>lm(data$dependent_variable ~ data$independent_var_1 + data$independent_var_2 + ...)</code>. Below, we run the regression between the two independent variables economic growth and monetary inflation."
   ]
  },
  {
   "cell_type": "code",
   "execution_count": 7,
   "id": "85204e7a",
   "metadata": {},
   "outputs": [],
   "source": [
    "vote_inflation_growth_ols <- lm(elections$inc_vote ~ elections$inflation + elections$growth)\n",
    "summary(vote_inflation_growth_ols)"
   ]
  },
  {
   "cell_type": "markdown",
   "id": "19a82b3f",
   "metadata": {
    "deletable": false,
    "editable": false
   },
   "source": [
    "<!-- BEGIN QUESTION -->\n",
    "\n",
    "### Questions 4:\n",
    "Compare the coefficient and p-values for the two independent variables compared to when we just ran bivariate regression using each of them individually. How do these values change?\n",
    "\n",
    "**Note:** Make sure you run the cell above to generate the multivariate regression. \n",
    "\n",
    "<!--\n",
    "BEGIN QUESTION\n",
    "name: q4\n",
    "manual: true\n",
    "points: 1\n",
    "-->"
   ]
  },
  {
   "cell_type": "markdown",
   "id": "287d732a",
   "metadata": {},
   "source": [
    "_Type your answer here, replacing this text._"
   ]
  },
  {
   "cell_type": "markdown",
   "id": "a1aceb0e",
   "metadata": {
    "deletable": false,
    "editable": false
   },
   "source": [
    "<!-- END QUESTION -->\n",
    "\n",
    "### Question 5:\n",
    "Now, run the multivariate regression for the relationship between voteshare and \"goodnews\" and \"growth\" and replace the   \"...\" with the correct columns: \n",
    "\n",
    "<!--\n",
    "BEGIN QUESTION\n",
    "name: q5\n",
    "manual: false\n",
    "points: 1\n",
    "-->"
   ]
  },
  {
   "cell_type": "code",
   "execution_count": 6,
   "id": "b77024e5",
   "metadata": {},
   "outputs": [],
   "source": [
    "## YOUR ANSWER HERE\n",
    "vote_goodnews_war_ols <- lm(elections$... ~ elections$... + elections$...)\n",
    "summary(vote_goodnews_war_ols)"
   ]
  },
  {
   "cell_type": "code",
   "execution_count": null,
   "id": "43062b75",
   "metadata": {
    "deletable": false,
    "editable": false
   },
   "outputs": [],
   "source": [
    ". = ottr::check(\"tests/q5.R\")"
   ]
  },
  {
   "cell_type": "markdown",
   "id": "e3881eef",
   "metadata": {
    "deletable": false,
    "editable": false
   },
   "source": [
    "<!-- BEGIN QUESTION -->\n",
    "\n",
    "### Question 6:\n",
    "**Coeffecient Review:**\n",
    "\n",
    "(a) Using the coefficients for the intercept, goodnews, and growth variables, holding growth at its mean, how many months of good economic news is necessary for the incumbent to win?\n",
    "**Hint:** The mean of economic growth is 0.7635\n",
    "\n",
    "<!--\n",
    "BEGIN QUESTION\n",
    "name: q6a\n",
    "manual: true\n",
    "points: 1\n",
    "-->"
   ]
  },
  {
   "cell_type": "markdown",
   "id": "b5e840cc",
   "metadata": {},
   "source": [
    "_Type your answer here, replacing this text._"
   ]
  },
  {
   "cell_type": "markdown",
   "id": "e9a9ece2",
   "metadata": {
    "deletable": false,
    "editable": false
   },
   "source": [
    "<!-- END QUESTION -->\n",
    "\n",
    "<!-- BEGIN QUESTION -->\n",
    "\n",
    "(b) Is goodnews statistically significant at the .05 level? What about at .01? What does this imply about positive economic news and incumbent voteshare?\n",
    "\n",
    "**Hint:** Use a two tailed t test.\n",
    "\n",
    "<!--\n",
    "BEGIN QUESTION\n",
    "name: q6b\n",
    "manual: true\n",
    "points: 1\n",
    "-->"
   ]
  },
  {
   "cell_type": "markdown",
   "id": "8f2079c9",
   "metadata": {},
   "source": [
    "_Type your answer here, replacing this text._"
   ]
  },
  {
   "cell_type": "markdown",
   "id": "fdce14ac",
   "metadata": {},
   "source": [
    "<!-- END QUESTION -->\n",
    "\n",
    "\n",
    "\n",
    "### Question 7:\n",
    "Let's practice generating confidence intervals. As we have seen in past lectures, the 95% confidence interval is calculated with $\\beta \\pm t_{critical} * se(\\beta)$. Let's find the 95% confidence interval for the GOODNEWS coefficient."
   ]
  },
  {
   "cell_type": "markdown",
   "id": "2fb4cec7",
   "metadata": {
    "deletable": false,
    "editable": false
   },
   "source": [
    "(a) Using the number of observations in the summary and the t-table in the back of your textbook, find the critical value of t, and store it in the variable below.\n",
    "\n",
    "<!--\n",
    "BEGIN QUESTION\n",
    "name: q7a\n",
    "manual: false\n",
    "points: 1\n",
    "-->"
   ]
  },
  {
   "cell_type": "code",
   "execution_count": 8,
   "id": "6cdc4388",
   "metadata": {},
   "outputs": [],
   "source": [
    "t_critical <- ...\n",
    "t_critical"
   ]
  },
  {
   "cell_type": "code",
   "execution_count": null,
   "id": "21ada906",
   "metadata": {
    "deletable": false,
    "editable": false
   },
   "outputs": [],
   "source": [
    ". = ottr::check(\"tests/q7a.R\")"
   ]
  },
  {
   "cell_type": "markdown",
   "id": "992867d0",
   "metadata": {
    "deletable": false,
    "editable": false
   },
   "source": [
    "(b) Next, use the summary output to store the standard error for the goodnews coefficient.\n",
    "\n",
    "<!--\n",
    "BEGIN QUESTION\n",
    "name: q7b\n",
    "manual: false\n",
    "points: 1\n",
    "-->"
   ]
  },
  {
   "cell_type": "code",
   "execution_count": 10,
   "id": "6e44c45f",
   "metadata": {},
   "outputs": [],
   "source": [
    "goodnews_se <- ...\n",
    "goodnews_se"
   ]
  },
  {
   "cell_type": "code",
   "execution_count": null,
   "id": "98d71eb9",
   "metadata": {
    "deletable": false,
    "editable": false
   },
   "outputs": [],
   "source": [
    ". = ottr::check(\"tests/q7b.R\")"
   ]
  },
  {
   "cell_type": "markdown",
   "id": "e1685e7a",
   "metadata": {
    "deletable": false,
    "editable": false
   },
   "source": [
    "(c) Using the standard error, calculate the 95% confidence interval. In the cell below, fill out the values for the lower and upper bound of the interval. \n",
    "\n",
    "<!--\n",
    "BEGIN QUESTION\n",
    "name: q7c\n",
    "manual: false\n",
    "points: 1\n",
    "-->"
   ]
  },
  {
   "cell_type": "code",
   "execution_count": 12,
   "id": "2c02c522",
   "metadata": {},
   "outputs": [],
   "source": [
    "## YOUR ANSWER HERE\n",
    "goodnews_lower <-  ... - ...*goodnews_se\n",
    "goodnews_upper <- ... + ...*goodnews_se\n",
    "q7c.answer <-c(goodnews_lower, goodnews_upper)\n",
    "q7c.answer"
   ]
  },
  {
   "cell_type": "code",
   "execution_count": null,
   "id": "be2db1b6",
   "metadata": {
    "deletable": false,
    "editable": false
   },
   "outputs": [],
   "source": [
    ". = ottr::check(\"tests/q7c.R\")"
   ]
  },
  {
   "cell_type": "markdown",
   "id": "a90b2934",
   "metadata": {
    "deletable": false,
    "editable": false
   },
   "source": [
    "<!-- BEGIN QUESTION -->\n",
    "\n",
    "(d) Interpret this confidence interval: what can we say about the effect of good news on incumbent vote share?\n",
    "\n",
    "<!--\n",
    "BEGIN QUESTION\n",
    "name: q7d\n",
    "manual: true\n",
    "points: 1\n",
    "-->"
   ]
  },
  {
   "cell_type": "markdown",
   "id": "a9550f4f",
   "metadata": {},
   "source": [
    "_Type your answer here, replacing this text._"
   ]
  },
  {
   "cell_type": "markdown",
   "id": "35d71287",
   "metadata": {},
   "source": [
    "<!-- END QUESTION -->\n",
    "\n",
    "\n",
    "\n",
    "## OLS Review: Population and Sample Models:\n",
    "\n",
    "### Question 8\n",
    "In the following questions, the models in focus are bivariate, using the population model ${Y_i} = \\alpha + \\beta X_i+u_i$ and sample model ${Y_i} = \\hat{\\alpha} + \\hat{\\beta}X_i+\\hat{u_i}$  \n"
   ]
  },
  {
   "cell_type": "markdown",
   "id": "b313b015",
   "metadata": {},
   "source": [
    "(a) Which of the following statements are accurate about the population regression model?"
   ]
  },
  {
   "cell_type": "markdown",
   "id": "e9a0d6d4",
   "metadata": {
    "deletable": false,
    "editable": false
   },
   "source": [
    "a) ${u}_i$ is the stochastic component of $Y_i$  \n",
    "b) $\\hat{\\alpha_i} + \\hat{\\beta} X_i$ is the systematic component of $Y_i$  \n",
    "c) Both (a) and (b) are correct  \n",
    "d) Neither (a) nor (b) are correct\n",
    "\n",
    "<!--\n",
    "BEGIN QUESTION\n",
    "name: q8a\n",
    "manual: false\n",
    "points: 2\n",
    "-->"
   ]
  },
  {
   "cell_type": "code",
   "execution_count": 14,
   "id": "d197276a",
   "metadata": {},
   "outputs": [],
   "source": [
    "q8a.answer <- ..."
   ]
  },
  {
   "cell_type": "code",
   "execution_count": null,
   "id": "10644d6c",
   "metadata": {
    "deletable": false,
    "editable": false
   },
   "outputs": [],
   "source": [
    ". = ottr::check(\"tests/q8a.R\")"
   ]
  },
  {
   "cell_type": "markdown",
   "id": "37fda69b",
   "metadata": {},
   "source": [
    "(b) Which of the following statements are accurate about the population regression model?"
   ]
  },
  {
   "cell_type": "markdown",
   "id": "cfb6c5cb",
   "metadata": {
    "deletable": false,
    "editable": false
   },
   "source": [
    "a) $\\hat{u}_i$ is an estimate of $u_i$  \n",
    "b) $X_i$ is assumed to be measured without error  \n",
    "c) Both (a) and (b) are correct  \n",
    "d) Neither (a) nor (b) are correct\n",
    "\n",
    "<!--\n",
    "BEGIN QUESTION\n",
    "name: q8b\n",
    "manual: false\n",
    "points: 2\n",
    "-->"
   ]
  },
  {
   "cell_type": "code",
   "execution_count": 16,
   "id": "1e56e491",
   "metadata": {},
   "outputs": [],
   "source": [
    "q8b.answer <- ..."
   ]
  },
  {
   "cell_type": "code",
   "execution_count": null,
   "id": "c05abe81",
   "metadata": {
    "deletable": false,
    "editable": false
   },
   "outputs": [],
   "source": [
    ". = ottr::check(\"tests/q8b.R\")"
   ]
  },
  {
   "cell_type": "markdown",
   "id": "d16c9d7f",
   "metadata": {},
   "source": [
    "(c) Which of the statements are accurate?"
   ]
  },
  {
   "cell_type": "markdown",
   "id": "c57819a0",
   "metadata": {
    "deletable": false,
    "editable": false
   },
   "source": [
    "a) By specifying a bivariate regression model we are assuming that the impact of a one unit increase in $X_i$ will always be $\\beta$.  \n",
    "b) By specifying a bivariate regression model we are assuming that there are no other variables that cause $Y_i$.  \n",
    "c) Both (a) and (b) are correct    \n",
    "d) Neither (a) nor (b) are correct \n",
    "\n",
    "<!--\n",
    "BEGIN QUESTION\n",
    "name: q8c\n",
    "manual: false\n",
    "points: 2\n",
    "-->"
   ]
  },
  {
   "cell_type": "code",
   "execution_count": 18,
   "id": "e492575a",
   "metadata": {},
   "outputs": [],
   "source": [
    "q8c.answer <- ..."
   ]
  },
  {
   "cell_type": "code",
   "execution_count": null,
   "id": "1b74223f",
   "metadata": {
    "deletable": false,
    "editable": false
   },
   "outputs": [],
   "source": [
    ". = ottr::check(\"tests/q8c.R\")"
   ]
  },
  {
   "cell_type": "markdown",
   "id": "fbab3fca",
   "metadata": {},
   "source": [
    "<!-- END QUESTION -->\n",
    "\n",
    "\n",
    "\n",
    "-----\n",
    "## Saving and Submitting Your Notebook\n",
    "\n",
    "Congratulations! You have now finished your final coding assignment. Well done!\n",
    "\n",
    "Before you head off to celebrate your work, please remember to save your work and submit it before the deadline!\n",
    "\n",
    "Now that you've finished the homework, we need to save it! To do this, click <code>File</code> $\\rightarrow$ <code>Download as</code> $\\rightarrow$ <code>Notebook(.ipynb)</code>\n",
    "\n",
    "Submit the .ipynb file you just downloaded <a href=\"https://www.gradescope.com/courses/402785\" target=\"_blank\">on Gradescope here</a>.\n"
   ]
  }
 ],
 "metadata": {
  "kernelspec": {
   "display_name": "R",
   "language": "R",
   "name": "ir"
  },
  "language_info": {
   "codemirror_mode": "r",
   "file_extension": ".r",
   "mimetype": "text/x-r-source",
   "name": "R",
   "pygments_lexer": "r",
   "version": "4.2.1"
  }
 },
 "nbformat": 4,
 "nbformat_minor": 5
}
