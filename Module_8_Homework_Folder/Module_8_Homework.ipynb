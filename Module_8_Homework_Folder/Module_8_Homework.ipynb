{
 "cells": [
  {
   "cell_type": "markdown",
   "id": "bc617149",
   "metadata": {},
   "source": [
    "# Polisci 3\n",
    "# Regression Homework\n",
    "\n",
    "In this homework we will review the process of generating an Ordinary Least Squares regression model. We will review the information that it can tell us about the relationship between variables."
   ]
  },
  {
   "cell_type": "markdown",
   "id": "73663886",
   "metadata": {},
   "source": [
    "Next, we need to load in our election data. This table represents presidential election outcomes from 1880 to 2016. In each row, we have collected information about different features during that year, such as inflation or the presence of a war."
   ]
  },
  {
   "cell_type": "code",
   "execution_count": 1,
   "id": "06129206",
   "metadata": {},
   "outputs": [
    {
     "data": {
      "text/html": [
       "<table class=\"dataframe\">\n",
       "<caption>A data.frame: 6 × 5</caption>\n",
       "<thead>\n",
       "\t<tr><th></th><th scope=col>inc_vote</th><th scope=col>year</th><th scope=col>inflation</th><th scope=col>goodnews</th><th scope=col>growth</th></tr>\n",
       "\t<tr><th></th><th scope=col>&lt;dbl&gt;</th><th scope=col>&lt;dbl&gt;</th><th scope=col>&lt;dbl&gt;</th><th scope=col>&lt;dbl&gt;</th><th scope=col>&lt;dbl&gt;</th></tr>\n",
       "</thead>\n",
       "<tbody>\n",
       "\t<tr><th scope=row>1</th><td>48.516</td><td>1876</td><td>   NA</td><td>NA</td><td>  5.110</td></tr>\n",
       "\t<tr><th scope=row>2</th><td>50.220</td><td>1880</td><td>1.974</td><td> 9</td><td>  3.879</td></tr>\n",
       "\t<tr><th scope=row>3</th><td>49.846</td><td>1884</td><td>1.055</td><td> 2</td><td>  1.589</td></tr>\n",
       "\t<tr><th scope=row>4</th><td>50.414</td><td>1888</td><td>0.604</td><td> 3</td><td> -5.553</td></tr>\n",
       "\t<tr><th scope=row>5</th><td>48.268</td><td>1892</td><td>2.274</td><td> 7</td><td>  2.763</td></tr>\n",
       "\t<tr><th scope=row>6</th><td>47.760</td><td>1896</td><td>3.410</td><td> 6</td><td>-10.024</td></tr>\n",
       "</tbody>\n",
       "</table>\n"
      ],
      "text/latex": [
       "A data.frame: 6 × 5\n",
       "\\begin{tabular}{r|lllll}\n",
       "  & inc\\_vote & year & inflation & goodnews & growth\\\\\n",
       "  & <dbl> & <dbl> & <dbl> & <dbl> & <dbl>\\\\\n",
       "\\hline\n",
       "\t1 & 48.516 & 1876 &    NA & NA &   5.110\\\\\n",
       "\t2 & 50.220 & 1880 & 1.974 &  9 &   3.879\\\\\n",
       "\t3 & 49.846 & 1884 & 1.055 &  2 &   1.589\\\\\n",
       "\t4 & 50.414 & 1888 & 0.604 &  3 &  -5.553\\\\\n",
       "\t5 & 48.268 & 1892 & 2.274 &  7 &   2.763\\\\\n",
       "\t6 & 47.760 & 1896 & 3.410 &  6 & -10.024\\\\\n",
       "\\end{tabular}\n"
      ],
      "text/markdown": [
       "\n",
       "A data.frame: 6 × 5\n",
       "\n",
       "| <!--/--> | inc_vote &lt;dbl&gt; | year &lt;dbl&gt; | inflation &lt;dbl&gt; | goodnews &lt;dbl&gt; | growth &lt;dbl&gt; |\n",
       "|---|---|---|---|---|---|\n",
       "| 1 | 48.516 | 1876 |    NA | NA |   5.110 |\n",
       "| 2 | 50.220 | 1880 | 1.974 |  9 |   3.879 |\n",
       "| 3 | 49.846 | 1884 | 1.055 |  2 |   1.589 |\n",
       "| 4 | 50.414 | 1888 | 0.604 |  3 |  -5.553 |\n",
       "| 5 | 48.268 | 1892 | 2.274 |  7 |   2.763 |\n",
       "| 6 | 47.760 | 1896 | 3.410 |  6 | -10.024 |\n",
       "\n"
      ],
      "text/plain": [
       "  inc_vote year inflation goodnews growth \n",
       "1 48.516   1876    NA     NA         5.110\n",
       "2 50.220   1880 1.974      9         3.879\n",
       "3 49.846   1884 1.055      2         1.589\n",
       "4 50.414   1888 0.604      3        -5.553\n",
       "5 48.268   1892 2.274      7         2.763\n",
       "6 47.760   1896 3.410      6       -10.024"
      ]
     },
     "metadata": {},
     "output_type": "display_data"
    }
   ],
   "source": [
    "elections <- read.csv('FairFPSR3.csv')\n",
    "head(elections)"
   ]
  },
  {
   "cell_type": "markdown",
   "id": "9a67189e",
   "metadata": {},
   "source": [
    "Here is the **codebook** that tells you what each variable means.\n",
    "\n",
    "`inc_vote`: % of major party presidential vote won by incumbent party\n",
    "\n",
    "`year`: Year of the presidential election\n",
    "\n",
    "`inflation`: Inflation rate\n",
    "\n",
    "`goodnews`: Number of quarters in the first 15 quarters of admin in which econ growth>3.2%\n",
    "\n",
    "`growth`: % change in real GDP per capita"
   ]
  },
  {
   "cell_type": "markdown",
   "id": "4eebb33b",
   "metadata": {},
   "source": [
    "If we want to see the relationship between vote share and a variable, such as economic growth, we use the <code>lm(data$y_variable ~ data$x_variable)</code> function. To see the result, we call <code>summary()</code>. Below, we produce the regression results for the relationship between incumbent vote share and inflation.  \n",
    "\n",
    "**NOTE:** The important values for you to consider are the number of observations, adjusted R-squared value and the coefficient, standard errors, t-statistics, and p-values associated with the different independent variables."
   ]
  },
  {
   "cell_type": "code",
   "execution_count": 2,
   "id": "6ea92d91",
   "metadata": {
    "scrolled": true
   },
   "outputs": [
    {
     "data": {
      "text/plain": [
       "\n",
       "Call:\n",
       "lm(formula = elections$inc_vote ~ elections$inflation)\n",
       "\n",
       "Residuals:\n",
       "     Min       1Q   Median       3Q      Max \n",
       "-16.9199  -2.6002  -0.7489   2.5100  10.6823 \n",
       "\n",
       "Coefficients:\n",
       "                    Estimate Std. Error t value Pr(>|t|)    \n",
       "(Intercept)          53.0679     1.6137  32.886   <2e-16 ***\n",
       "elections$inflation  -0.4071     0.4959  -0.821    0.418    \n",
       "---\n",
       "Signif. codes:  0 ‘***’ 0.001 ‘**’ 0.01 ‘*’ 0.05 ‘.’ 0.1 ‘ ’ 1\n",
       "\n",
       "Residual standard error: 5.868 on 33 degrees of freedom\n",
       "  (1 observation deleted due to missingness)\n",
       "Multiple R-squared:  0.02001,\tAdjusted R-squared:  -0.009688 \n",
       "F-statistic: 0.6738 on 1 and 33 DF,  p-value: 0.4176\n"
      ]
     },
     "metadata": {},
     "output_type": "display_data"
    }
   ],
   "source": [
    "reg1 <- lm(elections$inc_vote ~ elections$inflation) \n",
    "summary(reg1)"
   ]
  },
  {
   "cell_type": "markdown",
   "id": "d5a5e656",
   "metadata": {},
   "source": [
    "<!-- BEGIN QUESTION -->\n",
    "\n",
    "### Question 1:\n",
    "In the output that is produced by the <code>summary()</code> function, there is a row labeled *elections$inflation*. How do we interpret the coefficient for the linear relationship between inflation and presidential vote share?\n",
    "\n",
    "<!--\n",
    "BEGIN QUESTION\n",
    "name: q1\n",
    "manual: true\n",
    "points: 1\n",
    "-->"
   ]
  },
  {
   "cell_type": "markdown",
   "id": "9c9d1947",
   "metadata": {},
   "source": [
    "_Type your answer here, replacing this text._"
   ]
  },
  {
   "cell_type": "markdown",
   "id": "6985128b",
   "metadata": {},
   "source": [
    "<!-- END QUESTION -->\n",
    "\n",
    "### Question 2:\n",
    "Now, let's produce the OLS regression results for incumbent vote share and economic growth and replace the \"...\" with the correct variables: \n",
    "\n",
    "<!--\n",
    "BEGIN QUESTION\n",
    "name: q2\n",
    "manual: false\n",
    "points: 1\n",
    "-->"
   ]
  },
  {
   "cell_type": "code",
   "execution_count": 3,
   "id": "f4dc378e",
   "metadata": {},
   "outputs": [
    {
     "data": {
      "text/plain": [
       "\n",
       "Call:\n",
       "lm(formula = elections$inc_vote ~ elections$growth)\n",
       "\n",
       "Residuals:\n",
       "    Min      1Q  Median      3Q     Max \n",
       "-8.1384 -3.7445 -0.6354  2.8291 10.0700 \n",
       "\n",
       "Coefficients:\n",
       "                 Estimate Std. Error t value Pr(>|t|)    \n",
       "(Intercept)       51.4486     0.8133  63.256  < 2e-16 ***\n",
       "elections$growth   0.6248     0.1550   4.032 0.000295 ***\n",
       "---\n",
       "Signif. codes:  0 ‘***’ 0.001 ‘**’ 0.01 ‘*’ 0.05 ‘.’ 0.1 ‘ ’ 1\n",
       "\n",
       "Residual standard error: 4.828 on 34 degrees of freedom\n",
       "Multiple R-squared:  0.3235,\tAdjusted R-squared:  0.3036 \n",
       "F-statistic: 16.26 on 1 and 34 DF,  p-value: 0.0002955\n"
      ]
     },
     "metadata": {},
     "output_type": "display_data"
    }
   ],
   "source": [
    "## YOUR ANSWER HERE\n",
    "vote_inflation_ols <- lm(elections$inc_vote ~ elections$growth)\n",
    "summary(vote_inflation_ols)"
   ]
  },
  {
   "cell_type": "code",
   "execution_count": 4,
   "id": "327dffc9",
   "metadata": {
    "deletable": false,
    "editable": false
   },
   "outputs": [
    {
     "name": "stdout",
     "output_type": "stream",
     "text": [
      "All tests passed!"
     ]
    }
   ],
   "source": [
    ". = ottr::check(\"tests/q2.R\")"
   ]
  },
  {
   "cell_type": "markdown",
   "id": "5934bccc",
   "metadata": {},
   "source": [
    "<!-- BEGIN QUESTION -->\n",
    "\n",
    "### Question 3:\n",
    "Using the *elections$growth* row, we can review the relationship between growth and presidential vote share. Is the relationship statistically significant?\n",
    "\n",
    "<!--\n",
    "BEGIN QUESTION\n",
    "name: q3\n",
    "manual: true\n",
    "points: 1\n",
    "-->"
   ]
  },
  {
   "cell_type": "markdown",
   "id": "1a65c874",
   "metadata": {},
   "source": [
    "_Type your answer here, replacing this text._"
   ]
  },
  {
   "cell_type": "markdown",
   "id": "9820f649",
   "metadata": {},
   "source": [
    "<!-- END QUESTION -->\n",
    "\n",
    "\n",
    "\n",
    "To use multiple variables, we can modify how we interact with the original function like so: <code>lm(data$dependent_variable ~ data$independent_var_1 + data$independent_var_2 + ...)</code>. Below, we run the regression between the two independent variables economic growth and monetary inflation."
   ]
  },
  {
   "cell_type": "code",
   "execution_count": 2,
   "id": "85204e7a",
   "metadata": {},
   "outputs": [
    {
     "data": {
      "text/plain": [
       "\n",
       "Call:\n",
       "lm(formula = elections$inc_vote ~ elections$inflation + elections$growth)\n",
       "\n",
       "Residuals:\n",
       "    Min      1Q  Median      3Q     Max \n",
       "-8.4204 -3.3679 -0.8449  2.9008  9.8026 \n",
       "\n",
       "Coefficients:\n",
       "                    Estimate Std. Error t value Pr(>|t|)    \n",
       "(Intercept)          51.9637     1.3594  38.226   <2e-16 ***\n",
       "elections$inflation  -0.1375     0.4146  -0.332   0.7423    \n",
       "elections$growth      0.6451     0.1591   4.055   0.0003 ***\n",
       "---\n",
       "Signif. codes:  0 ‘***’ 0.001 ‘**’ 0.01 ‘*’ 0.05 ‘.’ 0.1 ‘ ’ 1\n",
       "\n",
       "Residual standard error: 4.843 on 32 degrees of freedom\n",
       "  (1 observation deleted due to missingness)\n",
       "Multiple R-squared:  0.3527,\tAdjusted R-squared:  0.3122 \n",
       "F-statistic: 8.717 on 2 and 32 DF,  p-value: 0.0009504\n"
      ]
     },
     "metadata": {},
     "output_type": "display_data"
    }
   ],
   "source": [
    "vote_inflation_growth_ols <- lm(elections$inc_vote ~ elections$inflation + elections$growth)\n",
    "summary(vote_inflation_growth_ols)"
   ]
  },
  {
   "cell_type": "markdown",
   "id": "9e60df29",
   "metadata": {},
   "source": [
    "<!-- BEGIN QUESTION -->\n",
    "\n",
    "### Questions 4:\n",
    "Compare the coefficient and p-values for the two independent variables compared to when we just ran bivariate regression using each of them individually. How do these values change?\n",
    "\n",
    "**Note:** Make sure you run the cell above to generate the multivariate regression. \n",
    "\n",
    "<!--\n",
    "BEGIN QUESTION\n",
    "name: q4\n",
    "manual: true\n",
    "points: 1\n",
    "-->"
   ]
  },
  {
   "cell_type": "markdown",
   "id": "8566d535",
   "metadata": {},
   "source": [
    "_Type your answer here, replacing this text._"
   ]
  },
  {
   "cell_type": "markdown",
   "id": "2b261998",
   "metadata": {},
   "source": [
    "<!-- END QUESTION -->\n",
    "\n",
    "### Question 5:\n",
    "Now, run the multivariate regression for the relationship between voteshare and \"goodnews\" and \"growth\" and replace the   \"...\" with the correct columns: \n",
    "\n",
    "<!--\n",
    "BEGIN QUESTION\n",
    "name: q5\n",
    "manual: false\n",
    "points: 1\n",
    "-->"
   ]
  },
  {
   "cell_type": "code",
   "execution_count": null,
   "id": "c3a7a0cc",
   "metadata": {},
   "outputs": [
    {
     "data": {
      "text/plain": [
       "\n",
       "Call:\n",
       "lm(formula = elections$inc_vote ~ elections$goodnews + elections$growth)\n",
       "\n",
       "Residuals:\n",
       "    Min      1Q  Median      3Q     Max \n",
       "-8.7433 -3.0867  0.8217  2.6666  9.7882 \n",
       "\n",
       "Coefficients:\n",
       "                   Estimate Std. Error t value Pr(>|t|)    \n",
       "(Intercept)         48.4692     1.5835  30.608  < 2e-16 ***\n",
       "elections$goodnews   0.6297     0.2782   2.264 0.030505 *  \n",
       "elections$growth     0.5782     0.1498   3.860 0.000518 ***\n",
       "---\n",
       "Signif. codes:  0 ‘***’ 0.001 ‘**’ 0.01 ‘*’ 0.05 ‘.’ 0.1 ‘ ’ 1\n",
       "\n",
       "Residual standard error: 4.504 on 32 degrees of freedom\n",
       "  (1 observation deleted due to missingness)\n",
       "Multiple R-squared:  0.4401,\tAdjusted R-squared:  0.4051 \n",
       "F-statistic: 12.58 on 2 and 32 DF,  p-value: 9.323e-05\n"
      ]
     },
     "metadata": {},
     "output_type": "display_data"
    }
   ],
   "source": [
    "## YOUR ANSWER HERE\n",
    "vote_goodnews_war_ols <- lm(elections$inc_vote ~ elections$goodnews + elections$growth)\n",
    "summary(vote_goodnews_war_ols)"
   ]
  },
  {
   "cell_type": "code",
   "execution_count": 7,
   "id": "43062b75",
   "metadata": {
    "deletable": false,
    "editable": false
   },
   "outputs": [
    {
     "name": "stdout",
     "output_type": "stream",
     "text": [
      "Test q5 - 1 failed:\n",
      "\n",
      "`question.correct` is not TRUE\n",
      "  \n",
      "  `actual`:   \u001b[32mFALSE\u001b[39m\n",
      "  `expected`: \u001b[32mTRUE\u001b[39m "
     ]
    }
   ],
   "source": [
    ". = ottr::check(\"tests/q5.R\")"
   ]
  },
  {
   "cell_type": "markdown",
   "id": "b8a0d3bd",
   "metadata": {},
   "source": [
    "<!-- BEGIN QUESTION -->\n",
    "\n",
    "### Question 6:\n",
    "**Coeffecient Review:**\n",
    "\n",
    "(a) Using the coefficients for the intercept, goodnews, and growth variables, holding growth at its mean, how many months of good economic news is necessary for the incumbent to win?\n",
    "**Hint:** The mean of economic growth is 0.7635\n",
    "\n",
    "<!--\n",
    "BEGIN QUESTION\n",
    "name: q6a\n",
    "manual: true\n",
    "points: 1\n",
    "-->"
   ]
  },
  {
   "cell_type": "markdown",
   "id": "00b5f242",
   "metadata": {},
   "source": [
    "_Type your answer here, replacing this text._"
   ]
  },
  {
   "cell_type": "markdown",
   "id": "bce2aa83",
   "metadata": {},
   "source": [
    "<!-- END QUESTION -->\n",
    "\n",
    "<!-- BEGIN QUESTION -->\n",
    "\n",
    "(b) Is goodnews statistically significant at the .05 level? What about at .01? \n",
    "What does this imply about positive economic news and incumbent voteshare?\n",
    "\n",
    "<!--\n",
    "BEGIN QUESTION\n",
    "name: q6b\n",
    "manual: true\n",
    "points: 1\n",
    "-->"
   ]
  },
  {
   "cell_type": "markdown",
   "id": "801d4113",
   "metadata": {},
   "source": [
    "_Type your answer here, replacing this text._"
   ]
  },
  {
   "cell_type": "markdown",
   "id": "3905d532",
   "metadata": {},
   "source": [
    "<!-- END QUESTION -->\n",
    "\n",
    "\n",
    "\n",
    "### Question 7:\n",
    "Let's practice generating confidence intervals. As we have seen in past lectures, the 95% confidence interval is calculated with $\\beta \\pm t_{critical} * se(\\beta)$. Let's find the 95% confidence interval for the GOODNEWS coefficient."
   ]
  },
  {
   "cell_type": "markdown",
   "id": "7f9ffa27",
   "metadata": {},
   "source": [
    "(a) Using the number of observations in the summary and the t-table in the back of your textbook, find the critical value of t, and store it in the variable below.\n",
    "\n",
    "<!--\n",
    "BEGIN QUESTION\n",
    "name: q7a\n",
    "manual: false\n",
    "points: 1\n",
    "-->"
   ]
  },
  {
   "cell_type": "code",
   "execution_count": null,
   "id": "1eee9569",
   "metadata": {},
   "outputs": [],
   "source": [
    "t_critical <- ...\n",
    "t_critical"
   ]
  },
  {
   "cell_type": "code",
   "execution_count": null,
   "id": "a7839158",
   "metadata": {},
   "outputs": [],
   "source": [
    ". = ottr::check(\"tests/q7a.R\")"
   ]
  },
  {
   "cell_type": "markdown",
   "id": "6374195b",
   "metadata": {},
   "source": [
    "(b) Next, use the summary output to store the standard error for the goodnews coefficient.\n",
    "\n",
    "<!--\n",
    "BEGIN QUESTION\n",
    "name: q7b\n",
    "manual: false\n",
    "points: 1\n",
    "-->"
   ]
  },
  {
   "cell_type": "code",
   "execution_count": null,
   "id": "3dabbae8",
   "metadata": {},
   "outputs": [],
   "source": [
    "goodnews_se <- ...\n",
    "goodnews_se"
   ]
  },
  {
   "cell_type": "code",
   "execution_count": null,
   "id": "bc366575",
   "metadata": {},
   "outputs": [],
   "source": [
    ". = ottr::check(\"tests/q7b.R\")"
   ]
  },
  {
   "cell_type": "markdown",
   "id": "ab3eee52",
   "metadata": {},
   "source": [
    "(c) Using the standard error, calculate the 95% confidence interval. In the cell below, fill out the values for the lower and upper bound of the interval. \n",
    "\n",
    "<!--\n",
    "BEGIN QUESTION\n",
    "name: q7c\n",
    "manual: false\n",
    "points: 1\n",
    "-->"
   ]
  },
  {
   "cell_type": "code",
   "execution_count": null,
   "id": "09575f52",
   "metadata": {},
   "outputs": [],
   "source": [
    "## YOUR ANSWER HERE\n",
    "goodnews_lower <-  ... - ...*goodnews_se\n",
    "goodnews_upper <- ... + ...*goodnews_se\n",
    "q7c.answer <-c(goodnews_lower, goodnews_upper)\n",
    "q7c.answer"
   ]
  },
  {
   "cell_type": "code",
   "execution_count": null,
   "id": "b1be9841",
   "metadata": {},
   "outputs": [],
   "source": [
    ". = ottr::check(\"tests/q7c.R\")"
   ]
  },
  {
   "cell_type": "markdown",
   "id": "d8859c01",
   "metadata": {},
   "source": [
    "<!-- BEGIN QUESTION -->\n",
    "\n",
    "(d) Interpret this confidence interval: what can we say about the effect of good news on incumbent vote share?\n",
    "\n",
    "<!--\n",
    "BEGIN QUESTION\n",
    "name: q7d\n",
    "manual: true\n",
    "points: 1\n",
    "-->"
   ]
  },
  {
   "cell_type": "markdown",
   "id": "ccc5b246",
   "metadata": {},
   "source": [
    "_Type your answer here, replacing this text._"
   ]
  },
  {
   "cell_type": "markdown",
   "id": "3f000057",
   "metadata": {},
   "source": [
    "<!-- END QUESTION -->\n",
    "\n",
    "\n",
    "\n",
    "## OLS Review: Population and Sample Models:\n",
    "\n",
    "### Question 8\n",
    "In the following questions, the models in focus are bivariate, using the population model ${Y_i} = \\alpha + \\beta X_i+u_i$ and sample model ${Y_i} = \\hat{\\alpha} + \\hat{\\beta}X_i+\\hat{u_i}$  \n"
   ]
  },
  {
   "cell_type": "markdown",
   "id": "b0af1660",
   "metadata": {},
   "source": [
    "(a) Which of the following statements are accurate about the population regression model? Put the letter of the answer in quote, e.g., \"a\"."
   ]
  },
  {
   "cell_type": "markdown",
   "id": "dc7cba63",
   "metadata": {},
   "source": [
    "a) ${u}_i$ is the stochastic component of $Y_i$  \n",
    "b) $\\hat{\\alpha_i} + \\hat{\\beta} X_i$ is the systematic component of $Y_i$  \n",
    "c) Both (a) and (b) are correct  \n",
    "d) Neither (a) nor (b) are correct\n",
    "\n",
    "<!--\n",
    "BEGIN QUESTION\n",
    "name: q8a\n",
    "manual: false\n",
    "points: 2\n",
    "-->"
   ]
  },
  {
   "cell_type": "code",
   "execution_count": null,
   "id": "a0a0cfc7",
   "metadata": {},
   "outputs": [],
   "source": [
    "q8a.answer <- ..."
   ]
  },
  {
   "cell_type": "code",
   "execution_count": null,
   "id": "17f0acf6",
   "metadata": {},
   "outputs": [],
   "source": [
    ". = ottr::check(\"tests/q8a.R\")"
   ]
  },
  {
   "cell_type": "markdown",
   "id": "74f7bb6c",
   "metadata": {},
   "source": [
    "(b) Which of the following statements are accurate about the population regression model? Put the letter of the answer in quote, e.g., \"a\"."
   ]
  },
  {
   "cell_type": "markdown",
   "id": "c132749a",
   "metadata": {},
   "source": [
    "a) $\\hat{u}_i$ is an estimate of $u_i$  \n",
    "b) $X_i$ is assumed to be measured without error  \n",
    "c) Both (a) and (b) are correct  \n",
    "d) Neither (a) nor (b) are correct\n",
    "\n",
    "<!--\n",
    "BEGIN QUESTION\n",
    "name: q8b\n",
    "manual: false\n",
    "points: 2\n",
    "-->"
   ]
  },
  {
   "cell_type": "code",
   "execution_count": null,
   "id": "59e87248",
   "metadata": {},
   "outputs": [],
   "source": [
    "q8b.answer <- ..."
   ]
  },
  {
   "cell_type": "code",
   "execution_count": null,
   "id": "1f842bbf",
   "metadata": {},
   "outputs": [],
   "source": [
    ". = ottr::check(\"tests/q8b.R\")"
   ]
  },
  {
   "cell_type": "markdown",
   "id": "afcd19ef",
   "metadata": {},
   "source": [
    "(c) Which of the statements are accurate? Put the letter of the answer in quote, e.g., \"a\"."
   ]
  },
  {
   "cell_type": "markdown",
   "id": "c7f0a6f1",
   "metadata": {},
   "source": [
    "a) By specifying a bivariate regression model we are assuming that the impact of a one unit increase in $X_i$ will always be $\\beta$.  \n",
    "b) By specifying a bivariate regression model we are assuming that there are no other variables that cause $Y_i$.  \n",
    "c) Both (a) and (b) are correct    \n",
    "d) Neither (a) nor (b) are correct "
   ]
  },
  {
   "cell_type": "code",
   "execution_count": null,
   "id": "7c70e8c8",
   "metadata": {},
   "outputs": [],
   "source": [
    "q8c.answer <- ..."
   ]
  },
  {
   "cell_type": "code",
   "execution_count": null,
   "id": "b7d66332",
   "metadata": {},
   "outputs": [],
   "source": [
    ". = ottr::check(\"tests/q8c.R\")"
   ]
  },
  {
   "cell_type": "markdown",
   "id": "23fc08cd",
   "metadata": {},
   "source": [
    "<!-- END QUESTION -->\n",
    "\n",
    "\n",
    "\n",
    "-----\n",
    "## Saving and Submitting Your Notebook\n",
    "\n",
    "Congratulations! You have now finished your final coding assignment. Well done!\n",
    "\n",
    "Before you head off to celebrate your work, please remember to save your work and submit it before the deadline! You may submit the notebook either in Jupyter notebook format (.ipynb) or as a PDF. \n",
    "\n",
    "To download as a Jupyter notebook, click <code>File</code> $\\rightarrow$ <code>Download as</code> $\\rightarrow$ <code>Notebook(.ipynb)</code>\n",
    "\n",
    "To download as a PDF, click <code>File</code> $\\rightarrow$ <code>Download as</code> $\\rightarrow$ <code>PDF via HTML</code>\n",
    "\n",
    "Submit the .ipynb or .pdf file you just downloaded <a href=\"https://www.gradescope.com/courses/582091\" target=\"_blank\">on Gradescope here</a>.\n"
   ]
  }
 ],
 "metadata": {
  "kernelspec": {
   "display_name": "R",
   "language": "R",
   "name": "ir"
  },
  "language_info": {
   "codemirror_mode": "r",
   "file_extension": ".r",
   "mimetype": "text/x-r-source",
   "name": "R",
   "pygments_lexer": "r",
   "version": "4.3.2"
  }
 },
 "nbformat": 4,
 "nbformat_minor": 5
}
